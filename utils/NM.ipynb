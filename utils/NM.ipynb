{
 "cells": [
  {
   "cell_type": "code",
   "execution_count": 0,
   "metadata": {
    "autoscroll": "json-false",
    "collapsed": false,
    "ein.tags": [
     "worksheet-0"
    ]
   },
   "outputs": [],
   "source": []
  },
  {
   "cell_type": "markdown",
   "metadata": {
    "ein.tags": [
     "worksheet-0"
    ]
   },
   "source": [
    "# Natural Map"
   ]
  },
  {
   "cell_type": "markdown",
   "metadata": {
    "ein.tags": [
     "worksheet-0"
    ]
   },
   "source": [
    "## imports"
   ]
  },
  {
   "cell_type": "code",
   "execution_count": 1,
   "metadata": {
    "autoscroll": "json-false",
    "collapsed": false,
    "ein.tags": [
     "worksheet-0"
    ]
   },
   "outputs": [],
   "source": [
    "import JordanAlgebra\n",
    "from sympy import Symbol, Matrix, sqrt, Pow, Add, Rational, postorder_traversal, factor, simplify, nsimplify, latex\n",
    "from codegen.funcodegen import funcodegen\n",
    "import numpy as np\n"
   ]
  },
  {
   "cell_type": "markdown",
   "metadata": {
    "ein.tags": [
     "worksheet-0"
    ]
   },
   "source": [
    "## symbols"
   ]
  },
  {
   "cell_type": "code",
   "execution_count": 2,
   "metadata": {
    "autoscroll": "json-false",
    "collapsed": false,
    "ein.tags": [
     "worksheet-0"
    ]
   },
   "outputs": [],
   "source": [
    "from JordanAlgebra import epsilon\n",
    "from friction import mu, rn, rt1, rt2, un, ut1, ut2, xn, xt1, xt2, yn, yt1, yt2, u, r, x, y, ut\n"
   ]
  },
  {
   "cell_type": "markdown",
   "metadata": {
    "ein.tags": [
     "worksheet-0"
    ]
   },
   "source": [
    "## The natural map function"
   ]
  },
  {
   "cell_type": "code",
   "execution_count": 3,
   "metadata": {
    "autoscroll": "json-false",
    "collapsed": false,
    "ein.tags": [
     "worksheet-0"
    ]
   },
   "outputs": [],
   "source": [
    "Fnat = y - JordanAlgebra.projection(y - x)\n"
   ]
  },
  {
   "cell_type": "markdown",
   "metadata": {
    "ein.tags": [
     "worksheet-0"
    ]
   },
   "source": [
    "## Raw jacobians"
   ]
  },
  {
   "cell_type": "code",
   "execution_count": 4,
   "metadata": {
    "autoscroll": "json-false",
    "collapsed": false,
    "ein.tags": [
     "worksheet-0"
    ]
   },
   "outputs": [],
   "source": [
    "A_ = Fnat.jacobian(u)\n",
    "B_ = Fnat.jacobian(r)"
   ]
  },
  {
   "cell_type": "code",
   "execution_count": 5,
   "metadata": {
    "autoscroll": "json-false",
    "collapsed": false,
    "ein.tags": [
     "worksheet-0"
    ]
   },
   "outputs": [],
   "source": [
    "lambda1, lambda2, u1, u2 = JordanAlgebra.spectral_decomposition(y - x)\n",
    "\n",
    "#def load(v):\n",
    "\n",
    "#    with open(v) as r_file:\n",
    "#        return pickle.load(r_file)\n",
    "\n",
    "#A = load('Fnat_A')\n",
    "#B = load('Fnat_B')\n",
    "#Fnat = load('Fnat')\n",
    "#Rnow = load('Fnat_Rnow')"
   ]
  },
  {
   "cell_type": "code",
   "execution_count": 63,
   "metadata": {
    "autoscroll": "json-false",
    "collapsed": false,
    "ein.tags": [
     "worksheet-0"
    ]
   },
   "outputs": [],
   "source": [
    "from sympy import Piecewise\n",
    "def add_split(expr, pos, f1, f2):\n",
    "    n_expr = expr\n",
    "    if type(expr) == Add:       \n",
    "       n_expr1 = Add(*expr.args[:pos])\n",
    "       n_expr2 = Add(*expr.args[pos:])\n",
    "       n_expr = Add(f2(n_expr2), f1(n_expr1))\n",
    "    return n_expr\n",
    "\n",
    "def add_splitp(p_expr, lpos, f1, f2):\n",
    "    if hasattr(p_expr, 'is_Piecewise') and p_expr.is_Piecewise:\n",
    "        return Piecewise(*[(add_split(c[0], lpos[i], f1, f2), c[1]) for i, c in enumerate(p_expr.args)])\n",
    "    else:\n",
    "        return add_split(p_expr, lpos[0], f1, f2)\n",
    "\n",
    "def add_splitv(mat, lpos, f1, f2):\n",
    "    return Matrix(mat.shape[0], mat.shape[1], \n",
    "        lambda i,j: add_splitp(mat[i, j], lpos[i], f1, f2))\n",
    "\n",
    "def map_matrix(mat, fun, args):\n",
    "    return Matrix(mat.shape[0], mat.shape[1], \n",
    "                  lambda i,j: fun(mat[i, j], *(args[i])))\n",
    "\n",
    "from sympy import Mul, Add, Pow, Wild\n",
    "def factor_try(input_expr, fexprs):\n",
    "    n_expr = input_expr\n",
    "    subs = dict()   \n",
    "    for fexpr in fexprs:\n",
    "        for expr in postorder_traversal(n_expr):\n",
    "            niexpr = expr   \n",
    "            for iexpr in subs:\n",
    "               niexpr = niexpr.subs(iexpr, subs[iexpr])\n",
    "            expr = niexpr\n",
    "            if type(expr) == Add:\n",
    "               fterms = filter(lambda e: type(e)==Mul and fexpr in e.args, expr.args)\n",
    "               uterms = filter(lambda e: type(e)==Mul and any([fexpr == ee.args[0] for ee in filter(lambda e: type(e)==Pow, e.args)]), expr.args)              \n",
    "               pterms = filter(lambda e: type(e)==Pow and e.args[1].is_Integer and fexpr == e.args[0], expr.args)\n",
    "               tterms = filter(lambda e: e == fexpr, expr.args)\n",
    "               oterms = list(set(expr.args).difference(set(uterms)).difference(set(pterms)).difference(set(tterms)).difference(set(fterms)))\n",
    "               nfterms = list()\n",
    "               for e in fterms:\n",
    "                   nargs = list(e.args)\n",
    "                   nargs.remove(fexpr)\n",
    "                   nfterms.append(e.func(*nargs))\n",
    "               for e in uterms:\n",
    "                   ne = 1\n",
    "                   wuterms = filter(lambda ie: type(ie)==Pow and ie.args[0]==fexpr, e.args)\n",
    "                   for ee in wuterms:\n",
    "                       ne = Mul(ne, Pow(ee.args[0], ee.args[1]-1))\n",
    "                   for ee in set(e.args).difference(wuterms):\n",
    "                       ne = Mul(ne, ee)\n",
    "                   nfterms.append(ne)\n",
    "               for e in pterms:\n",
    "                   nfterms.append(e.func(e.args[0], e.args[1]-1))\n",
    "               for e in tterms:\n",
    "                   nfterms.append(1)\n",
    "               \n",
    "               nfresult = fexpr * Add(*nfterms)\n",
    "              \n",
    "               n_expr = n_expr.subs(expr, Add(Add(*oterms), nfresult))\n",
    "               subs[expr] = Add(Add(*oterms), nfresult)\n",
    "    return n_expr\n",
    "       \n"
   ]
  },
  {
   "cell_type": "code",
   "execution_count": 7,
   "metadata": {
    "autoscroll": "json-false",
    "collapsed": false,
    "ein.tags": [
     "worksheet-0"
    ]
   },
   "outputs": [
    {
     "data": {
      "text/plain": [
       "sqrt(rt1)"
      ]
     },
     "execution_count": 7,
     "metadata": {},
     "output_type": "execute_result"
    }
   ],
   "source": [
    "from sympy import Wild\n",
    "expr = sqrt(rt1)\n",
    "y = Wild('y')\n",
    "expr.replace(Pow(y, Rational(3,2)), lambda y: y+1)"
   ]
  },
  {
   "cell_type": "code",
   "execution_count": 65,
   "metadata": {
    "autoscroll": "json-false",
    "collapsed": false,
    "ein.tags": [
     "worksheet-0"
    ]
   },
   "outputs": [
    {
     "data": {
      "text/plain": [
       "    ⎛        ___ ⎛   3          ⎞⎞\n",
       "rt₁⋅⎝ut₁ + ╲╱ 2 ⋅⎝rt₁ ⋅ut₁ + ut₂⎠⎠"
      ]
     },
     "execution_count": 65,
     "metadata": {},
     "output_type": "execute_result"
    }
   ],
   "source": [
    "factor_try(sqrt(2)*ut1*rt1**4+rt1*ut1+sqrt(2)*rt1*ut2, [sqrt(2), rt1])"
   ]
  },
  {
   "cell_type": "code",
   "execution_count": 66,
   "metadata": {
    "autoscroll": "json-false",
    "collapsed": false,
    "ein.tags": [
     "worksheet-0"
    ]
   },
   "outputs": [
    {
     "data": {
      "text/plain": [
       "                         ____________________\n",
       "                        ╱     ⎛   6        ⎞ \n",
       "rt₁⋅(rt₁⋅ut₂ + ut₁) + ╲╱  rt₁⋅⎝rt₁ ⋅ut₁ + 1⎠ "
      ]
     },
     "execution_count": 66,
     "metadata": {},
     "output_type": "execute_result"
    }
   ],
   "source": [
    "factor_try(sqrt(rt1+ut1*rt1**7)+ ut1*rt1 + ut2*rt1*rt1, [rt1,2])"
   ]
  },
  {
   "cell_type": "code",
   "execution_count": 10,
   "metadata": {
    "autoscroll": "json-false",
    "collapsed": false,
    "ein.tags": [
     "worksheet-0"
    ]
   },
   "outputs": [
    {
     "data": {
      "text/plain": [
       "Piecewise(((ut1**2 + ut2**2)/2 + 1, ut1 > 0), (ut1, ut1 <= 0))"
      ]
     },
     "execution_count": 10,
     "metadata": {},
     "output_type": "execute_result"
    }
   ],
   "source": [
    "add_splitp(Piecewise((1 + ut1**2/2 + ut2**2/2, ut1>0), (ut1, ut1<=0)), [1,0], factor, factor)\n",
    "\n",
    "#map_matrix(Matrix([1 + ut1**2/2 + ut2**2/2]), add_split, [1, factor, factor])"
   ]
  },
  {
   "cell_type": "code",
   "execution_count": 10,
   "metadata": {
    "autoscroll": "json-false",
    "collapsed": false,
    "ein.tags": [
     "worksheet-0"
    ]
   },
   "outputs": [],
   "source": []
  },
  {
   "cell_type": "markdown",
   "metadata": {
    "ein.tags": [
     "worksheet-0"
    ]
   },
   "source": [
    "ndelta, sqrt((mu*ut2-rt2)**2+(mu*ut1-rt1)**2)"
   ]
  },
  {
   "cell_type": "code",
   "execution_count": 11,
   "metadata": {
    "autoscroll": "json-false",
    "collapsed": false,
    "ein.tags": [
     "worksheet-0"
    ]
   },
   "outputs": [],
   "source": [
    "from sympy import init_printing\n",
    "init_printing(use_latex=True)\n",
    "\n",
    "from sympy import Symbol\n",
    "nut = Symbol(r'\\lVert {u_{t}} \\rVert', negative=False)\n",
    "nrt = Symbol(r'\\lVert {r_{t}} \\rVert', negative=False)\n",
    "lbd1 = Symbol(r'\\lambda_1')\n",
    "lbd2 = Symbol(r'\\lambda_2')\n",
    "lbd10 = Symbol(r'\\lambda_1^{\\prime}')\n",
    "lbd20 = Symbol(r'\\lambda_2^{\\prime}')\n",
    "lbd100 = Symbol(r'\\lambda_1^{\\prime\\prime}')\n",
    "lbd200 = Symbol(r'\\lambda_2^{\\prime\\prime}')\n",
    "delta1 = Symbol(r'\\Delta_1')\n",
    "delta2 = Symbol(r'\\Delta_2')\n",
    "ndelta = Symbol(r'\\lVert {\\Delta} \\rVert', negative=False)\n",
    "lepsilon = Symbol(r'\\epsilon')\n",
    "lut1 = Symbol(r'u_{t1}')\n",
    "lut2 = Symbol(r'u_{t2}')\n",
    "lun = Symbol(r'u_n')\n",
    "lrt1 = Symbol(r'r_{t1}')\n",
    "lrt2 = Symbol(r'r_{t2}')\n",
    "lrn = Symbol(r'r_n')\n",
    "\n",
    "from codegen.funcodegen import flatten_piecewise\n",
    "\n",
    "lambda1_0 = lambda1.subs(ut1, 0).subs(ut2, 0)\n",
    "lambda2_0 = lambda2.subs(ut1, 0).subs(ut2, 0)\n",
    "\n",
    "lambda1_00 = lambda1_0.subs(rt1, 0).subs(rt2, 0)\n",
    "lambda2_00 = lambda2_0.subs(rt1, 0).subs(rt2, 0)\n",
    "\n",
    "def make_readable(expr, deep=False):\n",
    "    return flatten_piecewise(expr).subs(lrt1, rt1).subs(lrt2, rt2).subs(lrn, rn).subs(lut1, ut1).subs(lut2, ut2).subs(lun, un).subs(nut, sqrt(ut1**2+ut2**2)).subs(nrt, sqrt(rt1**2+rt2**2)).subs('rt1', rt1).subs('rt2', rt2).subs('rn', rn).subs('ut1', ut1).subs('ut2', ut2).subs('un', un).subs('mu', mu).subs(lambda1, lbd1).subs(lambda2, lbd2).subs(lambda1_0, lbd10).subs(lambda2_0, lbd20).subs(lambda1_00, lbd100).subs(lambda2_00, lbd200).subs(ut1**2+ut2**2,nut**2).subs(rt1**2+rt2**2, nrt**2).subs(mu*ut2-rt2, delta2).subs(mu*ut1-rt1, delta1).subs(delta1**2+delta2**2, ndelta**2).subs(rt1, lrt1).subs(rt2, lrt2).subs(rn, lrn).subs(ut1, lut1).subs(ut2, lut2).subs(un, lun).subs(epsilon, lepsilon).subs(0.5, Rational(1, 2)).subs(sqrt(nrt**2), nrt).subs(sqrt(nut**2), nut).subs(sqrt(ndelta**2), ndelta).subs(sqrt(sqrt(nrt**2)), sqrt(nrt))\n"
   ]
  },
  {
   "cell_type": "code",
   "execution_count": 12,
   "metadata": {
    "autoscroll": "json-false",
    "collapsed": false,
    "ein.tags": [
     "worksheet-0"
    ]
   },
   "outputs": [
    {
     "data": {
      "text/plain": [
       "⎡                                  Max(0, \\lambda_1) + Max(0, \\lambda_2)      \n",
       "⎢                          μ⋅r_n - ─────────────────────────────────────      \n",
       "⎢                                                    2                        \n",
       "⎢                                                                             \n",
       "⎢⎧  \\Delta₁⋅(Max(0, \\lambda_1) - Max(0, \\lambda_2))                           \n",
       "⎢⎪- ─────────────────────────────────────────────── + r_{t1}  for \\lVert {\\Del\n",
       "⎢⎨              2⋅\\lVert {\\Delta} \\rVert                                      \n",
       "⎢⎪                                                                            \n",
       "⎢⎩                          r_{t1}                            for \\lVert {\\Del\n",
       "⎢                                                                             \n",
       "⎢⎧  \\Delta₂⋅(Max(0, \\lambda_1) - Max(0, \\lambda_2))                           \n",
       "⎢⎪- ─────────────────────────────────────────────── + r_{t2}  for \\lVert {\\Del\n",
       "⎢⎪              2⋅\\lVert {\\Delta} \\rVert                                      \n",
       "⎢⎨                                                                            \n",
       "⎢⎪               Max(0, \\lambda_1) - Max(0, \\lambda_2)                        \n",
       "⎢⎪      r_{t2} + ─────────────────────────────────────        for \\lVert {\\Del\n",
       "⎣⎩                                 2                                          \n",
       "\n",
       "                     ⎤\n",
       "                     ⎥\n",
       "                     ⎥\n",
       "                     ⎥\n",
       "                     ⎥\n",
       "ta} \\rVert > \\epsilon⎥\n",
       "                     ⎥\n",
       "                     ⎥\n",
       "ta} \\rVert ≤ \\epsilon⎥\n",
       "                     ⎥\n",
       "                     ⎥\n",
       "ta} \\rVert > \\epsilon⎥\n",
       "                     ⎥\n",
       "                     ⎥\n",
       "                     ⎥\n",
       "ta} \\rVert ≤ \\epsilon⎥\n",
       "                     ⎦"
      ]
     },
     "execution_count": 12,
     "metadata": {},
     "output_type": "execute_result"
    }
   ],
   "source": [
    "from sympy import expand\n",
    "add_splitv(make_readable(Fnat), [[2], [1,0], [1,1]], factor, factor)\n"
   ]
  },
  {
   "cell_type": "code",
   "execution_count": 13,
   "metadata": {
    "autoscroll": "json-false",
    "collapsed": false,
    "ein.tags": [
     "worksheet-0"
    ]
   },
   "outputs": [],
   "source": [
    "P=make_readable(Fnat[1]).args[0][0]\n",
    "\n"
   ]
  },
  {
   "cell_type": "code",
   "execution_count": 14,
   "metadata": {
    "autoscroll": "json-false",
    "collapsed": false,
    "ein.tags": [
     "worksheet-0"
    ]
   },
   "outputs": [
    {
     "data": {
      "text/plain": [
       "⎧  \\Delta₂⋅Max(0, \\lambda_1)   \\Delta₂⋅Max(0, \\lambda_2)                      \n",
       "⎪- ───────────────────────── + ───────────────────────── + r_{t2}  for \\lVert \n",
       "⎪   2⋅\\lVert {\\Delta} \\rVert    2⋅\\lVert {\\Delta} \\rVert                      \n",
       "⎨                                                                             \n",
       "⎪                  Max(0, \\lambda_1)   Max(0, \\lambda_2)                      \n",
       "⎪         r_{t2} + ───────────────── - ─────────────────           for \\lVert \n",
       "⎩                          2                   2                              \n",
       "\n",
       "                          \n",
       "{\\Delta} \\rVert > \\epsilon\n",
       "                          \n",
       "                          \n",
       "                          \n",
       "{\\Delta} \\rVert ≤ \\epsilon\n",
       "                          "
      ]
     },
     "execution_count": 14,
     "metadata": {},
     "output_type": "execute_result"
    }
   ],
   "source": [
    "add_split(make_readable(Fnat[2]), 2, factor, factor)"
   ]
  },
  {
   "cell_type": "code",
   "execution_count": 15,
   "metadata": {
    "autoscroll": "json-false",
    "collapsed": false,
    "ein.tags": [
     "worksheet-0"
    ]
   },
   "outputs": [],
   "source": [
    "with open('codegen/tex/fnat.tex', 'w') as f:\n",
    "    f.write(latex(add_splitv(make_readable(Fnat), [[2], [1,0], [1,1]], factor, factor)))"
   ]
  },
  {
   "cell_type": "code",
   "execution_count": 16,
   "metadata": {
    "autoscroll": "json-false",
    "collapsed": false,
    "ein.tags": [
     "worksheet-0"
    ]
   },
   "outputs": [
    {
     "data": {
      "text/plain": []
     },
     "execution_count": 16,
     "metadata": {},
     "output_type": "execute_result"
    },
    {
     "name": "stdout",
     "output_type": "stream",
     "text": [
      "No remote temporary directory (option server_tmpdir) specified, using /tmp/ on bizet.inria.fr\n"
     ]
    }
   ],
   "source": [
    "from codegen.maple import limzero, Maple, set_maple\n",
    "maple = Maple(server='bizet.inria.fr')\n",
    "set_maple(maple)\n",
    "t = Symbol('t', positive=True, real=True)\n",
    "maple_assumes = 'mu >= 0 and mu < 1 and rn >=0 and t > 0 and epsilon > 0'\n",
    "maple.assume(maple_assumes)\n"
   ]
  },
  {
   "cell_type": "code",
   "execution_count": 17,
   "metadata": {
    "autoscroll": "json-false",
    "collapsed": false,
    "ein.tags": [
     "worksheet-0"
    ]
   },
   "outputs": [],
   "source": [
    "def nsimp(expr):\n",
    "    n_expr = expr\n",
    "    for subexpr in postorder_traversal(expr):\n",
    "        n_expr = n_expr.subs(subexpr, nsimplify(subexpr))\n",
    "    return n_expr"
   ]
  },
  {
   "cell_type": "code",
   "execution_count": 18,
   "metadata": {
    "autoscroll": "json-false",
    "collapsed": false,
    "ein.tags": [
     "worksheet-0"
    ]
   },
   "outputs": [],
   "source": [
    "A=Matrix(3, 3, lambda i, j: 0)"
   ]
  },
  {
   "cell_type": "markdown",
   "metadata": {
    "ein.tags": [
     "worksheet-0"
    ]
   },
   "source": [
    "## A[:, 0]"
   ]
  },
  {
   "cell_type": "code",
   "execution_count": 19,
   "metadata": {
    "autoscroll": "json-false",
    "collapsed": false,
    "ein.tags": [
     "worksheet-0"
    ]
   },
   "outputs": [
    {
     "data": {
      "text/plain": [
       "⎡                         Heaviside(\\lambda₁) + Heaviside(\\lambda₂)           \n",
       "⎢                         ─────────────────────────────────────────           \n",
       "⎢                                             2                               \n",
       "⎢                                                                             \n",
       "⎢⎧\\Delta₁⋅(Heaviside(\\lambda₁) - Heaviside(\\lambda₂))                         \n",
       "⎢⎪───────────────────────────────────────────────────  for \\lVert {\\Delta} \\rV\n",
       "⎢⎨              2⋅\\lVert {\\Delta} \\rVert                                      \n",
       "⎢⎪                                                                            \n",
       "⎢⎩                         0                           for \\lVert {\\Delta} \\rV\n",
       "⎢                                                                             \n",
       "⎢⎧\\Delta₂⋅(Heaviside(\\lambda₁) - Heaviside(\\lambda₂))                         \n",
       "⎢⎪───────────────────────────────────────────────────  for \\lVert {\\Delta} \\rV\n",
       "⎢⎪              2⋅\\lVert {\\Delta} \\rVert                                      \n",
       "⎢⎨                                                                            \n",
       "⎢⎪   -(Heaviside(\\lambda₁) - Heaviside(\\lambda₂))                             \n",
       "⎢⎪   ─────────────────────────────────────────────     for \\lVert {\\Delta} \\rV\n",
       "⎣⎩                         2                                                  \n",
       "\n",
       "              ⎤\n",
       "              ⎥\n",
       "              ⎥\n",
       "              ⎥\n",
       "              ⎥\n",
       "ert > \\epsilon⎥\n",
       "              ⎥\n",
       "              ⎥\n",
       "ert ≤ \\epsilon⎥\n",
       "              ⎥\n",
       "              ⎥\n",
       "ert > \\epsilon⎥\n",
       "              ⎥\n",
       "              ⎥\n",
       "              ⎥\n",
       "ert ≤ \\epsilon⎥\n",
       "              ⎦"
      ]
     },
     "execution_count": 19,
     "metadata": {},
     "output_type": "execute_result"
    }
   ],
   "source": [
    "add_splitv(make_readable(A_[:, 0]), [[2], [2,0], [2,0]], factor, factor)"
   ]
  },
  {
   "cell_type": "code",
   "execution_count": 20,
   "metadata": {
    "autoscroll": "json-false",
    "collapsed": false,
    "ein.tags": [
     "worksheet-0"
    ]
   },
   "outputs": [],
   "source": [
    "# the first column is ok\n",
    "A[:, 0] = A_[:, 0]"
   ]
  },
  {
   "cell_type": "code",
   "execution_count": 21,
   "metadata": {
    "autoscroll": "json-false",
    "collapsed": false,
    "ein.tags": [
     "worksheet-0"
    ]
   },
   "outputs": [],
   "source": [
    "with open('codegen/tex/A0_fnat.tex', 'w') as f:\n",
    "     f.write(latex(add_splitv(make_readable(A[:, 0]), [[2], [2,0], [2,0]], factor, factor)))"
   ]
  },
  {
   "cell_type": "markdown",
   "metadata": {
    "ein.tags": [
     "worksheet-0"
    ]
   },
   "source": [
    "## A[0, 1]"
   ]
  },
  {
   "cell_type": "code",
   "execution_count": 22,
   "metadata": {
    "autoscroll": "json-false",
    "collapsed": false,
    "ein.tags": [
     "worksheet-0"
    ]
   },
   "outputs": [
    {
     "data": {
      "text/plain": [
       "μ⋅(\\Delta₁⋅\\lVert {u_{t}} \\rVert⋅Heaviside(\\lambda₁) - \\Delta₁⋅\\lVert {u_{t}} \n",
       "──────────────────────────────────────────────────────────────────────────────\n",
       "                                                                              \n",
       "\n",
       "\\rVert⋅Heaviside(\\lambda₂) + \\lVert {\\Delta} \\rVert⋅u_{t1}⋅Heaviside(\\lambda₁)\n",
       "──────────────────────────────────────────────────────────────────────────────\n",
       "    2⋅\\lVert {\\Delta} \\rVert⋅\\lVert {u_{t}} \\rVert                            \n",
       "\n",
       " + \\lVert {\\Delta} \\rVert⋅u_{t1}⋅Heaviside(\\lambda₂))\n",
       "─────────────────────────────────────────────────────\n",
       "                                                     "
      ]
     },
     "execution_count": 22,
     "metadata": {},
     "output_type": "execute_result"
    }
   ],
   "source": [
    "factor(make_readable(A_[0, 1]))"
   ]
  },
  {
   "cell_type": "code",
   "execution_count": 23,
   "metadata": {
    "autoscroll": "json-false",
    "collapsed": false,
    "ein.tags": [
     "worksheet-0"
    ]
   },
   "outputs": [
    {
     "data": {
      "text/plain": [
       "  ⎛  ___                                                          ___         \n",
       "μ⋅⎝╲╱ 2 ⋅\\lVert {r_{t}} \\rVert⋅Heaviside(\\lambda_1__{\\prime}) + ╲╱ 2 ⋅\\lVert {\n",
       "──────────────────────────────────────────────────────────────────────────────\n",
       "                                                                              \n",
       "\n",
       "                                                                              \n",
       "r_{t}} \\rVert⋅Heaviside(\\lambda_2__{\\prime}) - 2⋅r_{t1}⋅Heaviside(\\lambda_1__{\n",
       "──────────────────────────────────────────────────────────────────────────────\n",
       "              4⋅\\lVert {r_{t}} \\rVert                                         \n",
       "\n",
       "                                                  ⎞\n",
       "\\prime}) + 2⋅r_{t1}⋅Heaviside(\\lambda_2__{\\prime})⎠\n",
       "───────────────────────────────────────────────────\n",
       "                                                   "
      ]
     },
     "execution_count": 23,
     "metadata": {},
     "output_type": "execute_result"
    }
   ],
   "source": [
    "# we must apply the same limits or subsitution for all the jacobian\n",
    "# unfortunately substituing 0 for both ut1 and ut2 (in the same order) leads to some NaN\n",
    "make_readable(nsimp(limzero(A_[0, 1], [(ut1, t), (ut2, t)])))"
   ]
  },
  {
   "cell_type": "markdown",
   "metadata": {
    "ein.tags": [
     "worksheet-0"
    ]
   },
   "source": [
    "pour \\Delta_n différent de 0, ||u_t|| -> 0 (==> rt != 0)"
   ]
  },
  {
   "cell_type": "markdown",
   "metadata": {
    "ein.tags": [
     "worksheet-0"
    ]
   },
   "source": [
    "deltan -> 0"
   ]
  },
  {
   "cell_type": "code",
   "execution_count": 24,
   "metadata": {
    "autoscroll": "json-false",
    "collapsed": false,
    "ein.tags": [
     "worksheet-0"
    ]
   },
   "outputs": [
    {
     "data": {
      "text/plain": [
       "μ⋅r_{t1}⋅Heaviside(\\lambda_1__{\\prime})\n",
       "───────────────────────────────────────\n",
       "         \\lVert {r_{t}} \\rVert         "
      ]
     },
     "execution_count": 24,
     "metadata": {},
     "output_type": "execute_result"
    }
   ],
   "source": [
    "from codegen.maple import mlimit\n",
    "make_readable((nsimp(mlimit(A_[0, 1].subs(ut1, (1+t)*rt1/mu).subs(ut2, (1+t)*rt2/mu), t, 0))))"
   ]
  },
  {
   "cell_type": "markdown",
   "metadata": {
    "ein.tags": [
     "worksheet-0"
    ]
   },
   "source": [
    "deltan -> 0 && ut -> 0 ==> rt -> 0"
   ]
  },
  {
   "cell_type": "code",
   "execution_count": 146,
   "metadata": {
    "autoscroll": "json-false",
    "collapsed": false,
    "ein.tags": [
     "worksheet-0"
    ]
   },
   "outputs": [
    {
     "data": {
      "text/plain": [
       "  ___                                       \n",
       "╲╱ 2 ⋅μ⋅Heaviside(\\lambda_1__{\\prime\\prime})\n",
       "────────────────────────────────────────────\n",
       "                     2                      "
      ]
     },
     "execution_count": 146,
     "metadata": {},
     "output_type": "execute_result"
    }
   ],
   "source": [
    "make_readable(nsimp(limzero(A_[0, 1], [(ut1, t), (ut2, t), (rt1, t), (rt2, 0)])))\n"
   ]
  },
  {
   "cell_type": "code",
   "execution_count": 165,
   "metadata": {
    "autoscroll": "json-false",
    "collapsed": false,
    "ein.tags": [
     "worksheet-0"
    ]
   },
   "outputs": [],
   "source": [
    "def natfix(expr):\n",
    "    return Piecewise(\n",
    "     (simplify(nsimp(limzero(expr, [(ut1, t), (ut2, t), (rt1, t), (rt2, 0)]))), And(sqrt(ut1**2+ut2**2) <= epsilon, sqrt(rt1**2+rt2**2) <= epsilon)),\n",
    "     (simplify(nsimp(mlimit(expr.subs(ut1, (1+t)*rt1/mu).subs(ut2, (1+t)*rt2/mu), t, 0))), sqrt((mu*ut1-rt1)**2+(mu*ut2-rt2)**2) <= epsilon),\n",
    "     (expr, And(sqrt(ut1**2+ut2**2) > epsilon, sqrt((mu*ut1-rt1)**2+(mu*ut2-rt2)**2) > epsilon)),\n",
    "     (simplify(nsimp(limzero(expr, [(ut1, t), (ut2, t)]))), And(sqrt((mu*ut1-rt1)**2+(mu*ut2-rt2)**2) > epsilon, sqrt(ut1**2+ut2**2) <= epsilon, sqrt(rt1**2+rt2**2) > epsilon)))"
   ]
  },
  {
   "cell_type": "code",
   "execution_count": 166,
   "metadata": {
    "autoscroll": "json-false",
    "collapsed": false,
    "ein.tags": [
     "worksheet-0"
    ]
   },
   "outputs": [
    {
     "data": {
      "text/plain": [
       "⎧                                                                             \n",
       "⎪                                                                             \n",
       "⎪                                                                             \n",
       "⎪                                                                             \n",
       "⎪                                                                             \n",
       "⎪                                                                             \n",
       "⎪                                                                             \n",
       "⎪                                                                             \n",
       "⎪                                                                             \n",
       "⎪                                 ⎛        \\Delta₁⋅μ                 μ⋅u_{t1} \n",
       "⎨                                 ⎜- ────────────────────── - ────────────────\n",
       "⎪                                 ⎝  \\lVert {\\Delta} \\rVert   \\lVert {u_{t}} \\\n",
       "⎪                               - ────────────────────────────────────────────\n",
       "⎪                                                                   2         \n",
       "⎪                                                                             \n",
       "⎪  ⎛                                                                          \n",
       "⎪  ⎜                                                                          \n",
       "⎪μ⋅⎝-2⋅r_{t1}⋅Heaviside(\\lambda_1__{\\prime}) + 2⋅r_{t1}⋅Heaviside(\\lambda_2__{\n",
       "⎪─────────────────────────────────────────────────────────────────────────────\n",
       "⎪                                                                             \n",
       "⎩                                                                             \n",
       "\n",
       "      ___                                                                     \n",
       "    ╲╱ 2 ⋅μ⋅Heaviside(\\lambda_1__{\\prime\\prime})                              \n",
       "    ────────────────────────────────────────────                              \n",
       "                         2                                                    \n",
       "                                                                              \n",
       "      μ⋅r_{t1}⋅Heaviside(\\lambda_1__{\\prime})                                 \n",
       "      ───────────────────────────────────────                                 \n",
       "               \\lVert {r_{t}} \\rVert                                          \n",
       "                                                                              \n",
       "     ⎞                       ⎛      \\Delta₁⋅μ                 μ⋅u_{t1}      ⎞ \n",
       "─────⎟⋅Heaviside(\\lambda₁)   ⎜────────────────────── - ─────────────────────⎟⋅\n",
       "rVert⎠                       ⎝\\lVert {\\Delta} \\rVert   \\lVert {u_{t}} \\rVert⎠ \n",
       "────────────────────────── - ─────────────────────────────────────────────────\n",
       "                                                              2               \n",
       "                                                                              \n",
       "              _______________________                                     ____\n",
       "             ╱         2           2                                     ╱    \n",
       "\\prime}) + ╲╱  2⋅r_{t1}  + 2⋅r_{t2}  ⋅Heaviside(\\lambda_1__{\\prime}) + ╲╱  2⋅r\n",
       "──────────────────────────────────────────────────────────────────────────────\n",
       "              4⋅\\lVert {r_{t}} \\rVert                                         \n",
       "                                                                              \n",
       "\n",
       "                                                                              \n",
       "                                                                              \n",
       "                                                                       for \\lV\n",
       "                                                                              \n",
       "                                                                              \n",
       "                                                                              \n",
       "                                                                              \n",
       "                                                                              \n",
       "                                                                              \n",
       "                                                                              \n",
       "Heaviside(\\lambda₂)                                                           \n",
       "                                                                              \n",
       "───────────────────                                                   for \\lVe\n",
       "                                                                              \n",
       "                                                                              \n",
       "___________________                               ⎞                           \n",
       "     2           2                                ⎟                           \n",
       "_{t1}  + 2⋅r_{t2}  ⋅Heaviside(\\lambda_2__{\\prime})⎠                           \n",
       "───────────────────────────────────────────────────  for \\lVert {u_{t}} \\rVert\n",
       "                                                                              \n",
       "                                                                              \n",
       "\n",
       "                                                                              \n",
       "                                                                              \n",
       "ert {r_{t}} \\rVert ≤ \\epsilon ∧ \\lVert {u_{t}} \\rVert ≤ \\epsilon              \n",
       "                                                                              \n",
       "                                                                              \n",
       "                                                                              \n",
       "          for \\lVert {\\Delta} \\rVert ≤ \\epsilon                               \n",
       "                                                                              \n",
       "                                                                              \n",
       "                                                                              \n",
       "                                                                              \n",
       "                                                                              \n",
       "rt {\\Delta} \\rVert > \\epsilon ∧ \\lVert {u_{t}} \\rVert > \\epsilon              \n",
       "                                                                              \n",
       "                                                                              \n",
       "                                                                              \n",
       "                                                                              \n",
       "                                                                              \n",
       " ≤ \\epsilon ∧ \\lVert {\\Delta} \\rVert > \\epsilon ∧ \\lVert {r_{t}} \\rVert > \\eps\n",
       "                                                                              \n",
       "                                                                              \n",
       "\n",
       "    \n",
       "    \n",
       "    \n",
       "    \n",
       "    \n",
       "    \n",
       "    \n",
       "    \n",
       "    \n",
       "    \n",
       "    \n",
       "    \n",
       "    \n",
       "    \n",
       "    \n",
       "    \n",
       "    \n",
       "    \n",
       "ilon\n",
       "    \n",
       "    "
      ]
     },
     "execution_count": 166,
     "metadata": {},
     "output_type": "execute_result"
    }
   ],
   "source": [
    "from sympy import And\n",
    "A[0, 1] = natfix(A_[0, 1])\n",
    "     \n",
    "nsimp(make_readable(A[0, 1]))"
   ]
  },
  {
   "cell_type": "code",
   "execution_count": 154,
   "metadata": {
    "autoscroll": "json-false",
    "collapsed": false,
    "ein.tags": [
     "worksheet-0"
    ]
   },
   "outputs": [],
   "source": [
    "with open('codegen/tex/A01_fnat.tex', 'w') as f:\n",
    "     f.write(latex(nsimp(make_readable(A[0, 1]))))"
   ]
  },
  {
   "cell_type": "markdown",
   "metadata": {
    "ein.tags": [
     "worksheet-0"
    ]
   },
   "source": [
    "## A[0, 2]"
   ]
  },
  {
   "cell_type": "code",
   "execution_count": 28,
   "metadata": {
    "autoscroll": "json-false",
    "collapsed": false,
    "ein.tags": [
     "worksheet-0"
    ]
   },
   "outputs": [
    {
     "data": {
      "text/plain": [
       "  ⎛        \\Delta₂⋅μ                 μ⋅u_{t2}      ⎞                       ⎛  \n",
       "  ⎜- ────────────────────── - ─────────────────────⎟⋅Heaviside(\\lambda₁)   ⎜──\n",
       "  ⎝  \\lVert {\\Delta} \\rVert   \\lVert {u_{t}} \\rVert⎠                       ⎝\\l\n",
       "- ────────────────────────────────────────────────────────────────────── - ───\n",
       "                                    2                                         \n",
       "\n",
       "    \\Delta₂⋅μ                 μ⋅u_{t2}      ⎞                    \n",
       "──────────────────── - ─────────────────────⎟⋅Heaviside(\\lambda₂)\n",
       "Vert {\\Delta} \\rVert   \\lVert {u_{t}} \\rVert⎠                    \n",
       "─────────────────────────────────────────────────────────────────\n",
       "                              2                                  "
      ]
     },
     "execution_count": 28,
     "metadata": {},
     "output_type": "execute_result"
    }
   ],
   "source": [
    "make_readable(A_[0,2])"
   ]
  },
  {
   "cell_type": "markdown",
   "metadata": {
    "ein.tags": [
     "worksheet-0"
    ]
   },
   "source": [
    "deltan != 0, ut -> 0"
   ]
  },
  {
   "cell_type": "code",
   "execution_count": 29,
   "metadata": {
    "autoscroll": "json-false",
    "collapsed": false,
    "ein.tags": [
     "worksheet-0"
    ]
   },
   "outputs": [
    {
     "data": {
      "text/plain": [
       "  _____________________\n",
       "╲╱ \\lambda_1__{\\prime} "
      ]
     },
     "execution_count": 29,
     "metadata": {},
     "output_type": "execute_result"
    }
   ],
   "source": [
    "make_readable(nsimp(sqrt(lambda1_0)))"
   ]
  },
  {
   "cell_type": "code",
   "execution_count": 30,
   "metadata": {
    "autoscroll": "json-false",
    "collapsed": false,
    "ein.tags": [
     "worksheet-0"
    ]
   },
   "outputs": [
    {
     "data": {
      "text/plain": [
       "  ⎛  ___                                                          ___         \n",
       "μ⋅⎝╲╱ 2 ⋅\\lVert {r_{t}} \\rVert⋅Heaviside(\\lambda_1__{\\prime}) + ╲╱ 2 ⋅\\lVert {\n",
       "──────────────────────────────────────────────────────────────────────────────\n",
       "                                                                              \n",
       "\n",
       "                                                                              \n",
       "r_{t}} \\rVert⋅Heaviside(\\lambda_2__{\\prime}) - 2⋅r_{t2}⋅Heaviside(\\lambda_1__{\n",
       "──────────────────────────────────────────────────────────────────────────────\n",
       "              4⋅\\lVert {r_{t}} \\rVert                                         \n",
       "\n",
       "                                                  ⎞\n",
       "\\prime}) + 2⋅r_{t2}⋅Heaviside(\\lambda_2__{\\prime})⎠\n",
       "───────────────────────────────────────────────────\n",
       "                                                   "
      ]
     },
     "execution_count": 30,
     "metadata": {},
     "output_type": "execute_result"
    }
   ],
   "source": [
    "make_readable(nsimp(limzero(A_[0, 2], [(ut1, t), (ut2, t)])))"
   ]
  },
  {
   "cell_type": "code",
   "execution_count": 147,
   "metadata": {
    "autoscroll": "json-false",
    "collapsed": false,
    "ein.tags": [
     "worksheet-0"
    ]
   },
   "outputs": [
    {
     "data": {
      "text/plain": [
       "  ___                                       \n",
       "╲╱ 2 ⋅μ⋅Heaviside(\\lambda_1__{\\prime\\prime})\n",
       "────────────────────────────────────────────\n",
       "                     2                      "
      ]
     },
     "execution_count": 147,
     "metadata": {},
     "output_type": "execute_result"
    }
   ],
   "source": [
    "make_readable(nsimp(limzero(A_[0, 2], [(ut1, t), (ut2, t), (rt1, t), (rt2, 0)])))"
   ]
  },
  {
   "cell_type": "code",
   "execution_count": 32,
   "metadata": {
    "autoscroll": "json-false",
    "collapsed": false,
    "ein.tags": [
     "worksheet-0"
    ]
   },
   "outputs": [
    {
     "data": {
      "text/plain": [
       "μ⋅r_{t2}⋅Heaviside(\\lambda_1__{\\prime})\n",
       "───────────────────────────────────────\n",
       "         \\lVert {r_{t}} \\rVert         "
      ]
     },
     "execution_count": 32,
     "metadata": {},
     "output_type": "execute_result"
    }
   ],
   "source": [
    "make_readable(nsimp(mlimit(A_[0, 2].subs(ut1, (1+t)*rt1/mu).subs(ut2, (1+t)*rt2/mu), t, 0)))"
   ]
  },
  {
   "cell_type": "code",
   "execution_count": 167,
   "metadata": {
    "autoscroll": "json-false",
    "collapsed": false,
    "ein.tags": [
     "worksheet-0"
    ]
   },
   "outputs": [
    {
     "data": {
      "text/plain": [
       "⎧                                                                             \n",
       "⎪                                                                             \n",
       "⎪                                                                             \n",
       "⎪                                                                             \n",
       "⎪                                                                             \n",
       "⎪                                                                             \n",
       "⎪                                                                             \n",
       "⎪                                                                             \n",
       "⎪                                                                             \n",
       "⎪                                 ⎛        \\Delta₂⋅μ                 μ⋅u_{t2} \n",
       "⎨                                 ⎜- ────────────────────── - ────────────────\n",
       "⎪                                 ⎝  \\lVert {\\Delta} \\rVert   \\lVert {u_{t}} \\\n",
       "⎪                               - ────────────────────────────────────────────\n",
       "⎪                                                                   2         \n",
       "⎪                                                                             \n",
       "⎪  ⎛                                                                          \n",
       "⎪  ⎜                                                                          \n",
       "⎪μ⋅⎝-2⋅r_{t2}⋅Heaviside(\\lambda_1__{\\prime}) + 2⋅r_{t2}⋅Heaviside(\\lambda_2__{\n",
       "⎪─────────────────────────────────────────────────────────────────────────────\n",
       "⎪                                                                             \n",
       "⎩                                                                             \n",
       "\n",
       "      ___                                                                     \n",
       "    ╲╱ 2 ⋅μ⋅Heaviside(\\lambda_1__{\\prime\\prime})                              \n",
       "    ────────────────────────────────────────────                              \n",
       "                         2                                                    \n",
       "                                                                              \n",
       "      μ⋅r_{t2}⋅Heaviside(\\lambda_1__{\\prime})                                 \n",
       "      ───────────────────────────────────────                                 \n",
       "               \\lVert {r_{t}} \\rVert                                          \n",
       "                                                                              \n",
       "     ⎞                       ⎛      \\Delta₂⋅μ                 μ⋅u_{t2}      ⎞ \n",
       "─────⎟⋅Heaviside(\\lambda₁)   ⎜────────────────────── - ─────────────────────⎟⋅\n",
       "rVert⎠                       ⎝\\lVert {\\Delta} \\rVert   \\lVert {u_{t}} \\rVert⎠ \n",
       "────────────────────────── - ─────────────────────────────────────────────────\n",
       "                                                              2               \n",
       "                                                                              \n",
       "              _______________________                                     ____\n",
       "             ╱         2           2                                     ╱    \n",
       "\\prime}) + ╲╱  2⋅r_{t1}  + 2⋅r_{t2}  ⋅Heaviside(\\lambda_1__{\\prime}) + ╲╱  2⋅r\n",
       "──────────────────────────────────────────────────────────────────────────────\n",
       "              4⋅\\lVert {r_{t}} \\rVert                                         \n",
       "                                                                              \n",
       "\n",
       "                                                                              \n",
       "                                                                              \n",
       "                                                                       for \\lV\n",
       "                                                                              \n",
       "                                                                              \n",
       "                                                                              \n",
       "                                                                              \n",
       "                                                                              \n",
       "                                                                              \n",
       "                                                                              \n",
       "Heaviside(\\lambda₂)                                                           \n",
       "                                                                              \n",
       "───────────────────                                                   for \\lVe\n",
       "                                                                              \n",
       "                                                                              \n",
       "___________________                               ⎞                           \n",
       "     2           2                                ⎟                           \n",
       "_{t1}  + 2⋅r_{t2}  ⋅Heaviside(\\lambda_2__{\\prime})⎠                           \n",
       "───────────────────────────────────────────────────  for \\lVert {u_{t}} \\rVert\n",
       "                                                                              \n",
       "                                                                              \n",
       "\n",
       "                                                                              \n",
       "                                                                              \n",
       "ert {r_{t}} \\rVert ≤ \\epsilon ∧ \\lVert {u_{t}} \\rVert ≤ \\epsilon              \n",
       "                                                                              \n",
       "                                                                              \n",
       "                                                                              \n",
       "          for \\lVert {\\Delta} \\rVert ≤ \\epsilon                               \n",
       "                                                                              \n",
       "                                                                              \n",
       "                                                                              \n",
       "                                                                              \n",
       "                                                                              \n",
       "rt {\\Delta} \\rVert > \\epsilon ∧ \\lVert {u_{t}} \\rVert > \\epsilon              \n",
       "                                                                              \n",
       "                                                                              \n",
       "                                                                              \n",
       "                                                                              \n",
       "                                                                              \n",
       " ≤ \\epsilon ∧ \\lVert {\\Delta} \\rVert > \\epsilon ∧ \\lVert {r_{t}} \\rVert > \\eps\n",
       "                                                                              \n",
       "                                                                              \n",
       "\n",
       "    \n",
       "    \n",
       "    \n",
       "    \n",
       "    \n",
       "    \n",
       "    \n",
       "    \n",
       "    \n",
       "    \n",
       "    \n",
       "    \n",
       "    \n",
       "    \n",
       "    \n",
       "    \n",
       "    \n",
       "    \n",
       "ilon\n",
       "    \n",
       "    "
      ]
     },
     "execution_count": 167,
     "metadata": {},
     "output_type": "execute_result"
    }
   ],
   "source": [
    "A[0, 2] = natfix(A_[0, 2])\n",
    "     \n",
    "nsimp(make_readable(A[0, 2]))"
   ]
  },
  {
   "cell_type": "code",
   "execution_count": 156,
   "metadata": {
    "autoscroll": "json-false",
    "collapsed": false,
    "ein.tags": [
     "worksheet-0"
    ]
   },
   "outputs": [],
   "source": [
    "with open('codegen/tex/A02_fnat.tex', 'w') as f:\n",
    "     f.write(latex(nsimp(make_readable(A[0, 2]))))"
   ]
  },
  {
   "cell_type": "markdown",
   "metadata": {
    "ein.tags": [
     "worksheet-0"
    ]
   },
   "source": [
    "## A[1, 0]"
   ]
  },
  {
   "cell_type": "code",
   "execution_count": 35,
   "metadata": {
    "autoscroll": "json-false",
    "collapsed": false,
    "ein.tags": [
     "worksheet-0"
    ]
   },
   "outputs": [
    {
     "data": {
      "text/plain": [
       "⎧\\Delta₁⋅Heaviside(\\lambda₁)   \\Delta₁⋅Heaviside(\\lambda₂)                    \n",
       "⎪─────────────────────────── - ───────────────────────────  for \\lVert {\\Delta\n",
       "⎨  2⋅\\lVert {\\Delta} \\rVert      2⋅\\lVert {\\Delta} \\rVert                     \n",
       "⎪                                                                             \n",
       "⎩                            0                              for \\lVert {\\Delta\n",
       "\n",
       "                   \n",
       "} \\rVert > \\epsilon\n",
       "                   \n",
       "                   \n",
       "} \\rVert ≤ \\epsilon"
      ]
     },
     "execution_count": 35,
     "metadata": {},
     "output_type": "execute_result"
    }
   ],
   "source": [
    "make_readable(A_[1, 0])"
   ]
  },
  {
   "cell_type": "code",
   "execution_count": 36,
   "metadata": {
    "autoscroll": "json-false",
    "collapsed": false,
    "ein.tags": [
     "worksheet-0"
    ]
   },
   "outputs": [
    {
     "data": {
      "text/plain": [
       "0.0"
      ]
     },
     "execution_count": 36,
     "metadata": {},
     "output_type": "execute_result"
    }
   ],
   "source": [
    "# just a verification\n",
    "mlimit(A_[1, 0].subs(ut1, (1+t)*rt1/mu).subs(ut2, (1+t)*rt2/mu), t, 0)"
   ]
  },
  {
   "cell_type": "code",
   "execution_count": 37,
   "metadata": {
    "autoscroll": "json-false",
    "collapsed": false,
    "ein.tags": [
     "worksheet-0"
    ]
   },
   "outputs": [],
   "source": [
    "A[1, 0] = A_[1, 0]"
   ]
  },
  {
   "cell_type": "code",
   "execution_count": 38,
   "metadata": {
    "autoscroll": "json-false",
    "collapsed": false,
    "ein.tags": [
     "worksheet-0"
    ]
   },
   "outputs": [
    {
     "data": {
      "text/plain": [
       "⎧\\Delta₁⋅Heaviside(\\lambda₁)   \\Delta₁⋅Heaviside(\\lambda₂)                    \n",
       "⎪─────────────────────────── - ───────────────────────────  for \\lVert {\\Delta\n",
       "⎨  2⋅\\lVert {\\Delta} \\rVert      2⋅\\lVert {\\Delta} \\rVert                     \n",
       "⎪                                                                             \n",
       "⎩                            0                              for \\lVert {\\Delta\n",
       "\n",
       "                   \n",
       "} \\rVert > \\epsilon\n",
       "                   \n",
       "                   \n",
       "} \\rVert ≤ \\epsilon"
      ]
     },
     "execution_count": 38,
     "metadata": {},
     "output_type": "execute_result"
    }
   ],
   "source": [
    "factor(make_readable(A[1, 0]))"
   ]
  },
  {
   "cell_type": "code",
   "execution_count": 39,
   "metadata": {
    "autoscroll": "json-false",
    "collapsed": false,
    "ein.tags": [
     "worksheet-0"
    ]
   },
   "outputs": [],
   "source": [
    "with open('codegen/tex/A10_fnat.tex', 'w') as f:\n",
    "     f.write(latex(factor(make_readable(A[1, 0]))))"
   ]
  },
  {
   "cell_type": "markdown",
   "metadata": {
    "ein.tags": [
     "worksheet-0"
    ]
   },
   "source": [
    "## A[1, 1]"
   ]
  },
  {
   "cell_type": "code",
   "execution_count": 157,
   "metadata": {
    "autoscroll": "json-false",
    "collapsed": false,
    "ein.tags": [
     "worksheet-0"
    ]
   },
   "outputs": [
    {
     "data": {
      "text/plain": [
       "⎧                                                                             \n",
       "⎪                                                                             \n",
       "⎪          ⎛        \\Delta₁⋅μ                 μ⋅u_{t1}      ⎞                 \n",
       "⎪  \\Delta₁⋅⎜- ────────────────────── - ─────────────────────⎟⋅Heaviside(\\lambd\n",
       "⎨          ⎝  \\lVert {\\Delta} \\rVert   \\lVert {u_{t}} \\rVert⎠                 \n",
       "⎪- ───────────────────────────────────────────────────────────────────────────\n",
       "⎪                             2⋅\\lVert {\\Delta} \\rVert                        \n",
       "⎪                                                                             \n",
       "⎩                                                                             \n",
       "\n",
       "                                                                              \n",
       "                                                                              \n",
       "              ⎛      \\Delta₁⋅μ                 μ⋅u_{t1}      ⎞                \n",
       "a₁)   \\Delta₁⋅⎜────────────────────── - ─────────────────────⎟⋅Heaviside(\\lamb\n",
       "              ⎝\\lVert {\\Delta} \\rVert   \\lVert {u_{t}} \\rVert⎠                \n",
       "─── + ────────────────────────────────────────────────────────────────────────\n",
       "                                2⋅\\lVert {\\Delta} \\rVert                      \n",
       "                                                                              \n",
       "                                                                          0   \n",
       "\n",
       "       ⎛                2                                 ⎞                   \n",
       "       ⎜         \\Delta₁ ⋅μ                   μ           ⎟                   \n",
       "       ⎜- ─────────────────────── + ──────────────────────⎟⋅Max(0, \\lambda_1) \n",
       "da₂)   ⎜                        3   \\lVert {\\Delta} \\rVert⎟                   \n",
       "       ⎝  \\lVert {\\Delta} \\rVert                          ⎠                   \n",
       "──── - ────────────────────────────────────────────────────────────────────── \n",
       "                                         2                                    \n",
       "                                                                              \n",
       "                                                                              \n",
       "\n",
       "  ⎛              2                                 ⎞                          \n",
       "  ⎜       \\Delta₁ ⋅μ                   μ           ⎟                          \n",
       "  ⎜─────────────────────── - ──────────────────────⎟⋅Max(0, \\lambda_2)        \n",
       "  ⎜                      3   \\lVert {\\Delta} \\rVert⎟                          \n",
       "  ⎝\\lVert {\\Delta} \\rVert                          ⎠                          \n",
       "- ────────────────────────────────────────────────────────────────────  for \\l\n",
       "                                   2                                          \n",
       "                                                                              \n",
       "                                                                        for \\l\n",
       "\n",
       "                               \n",
       "                               \n",
       "                               \n",
       "                               \n",
       "                               \n",
       "Vert {\\Delta} \\rVert > \\epsilon\n",
       "                               \n",
       "                               \n",
       "Vert {\\Delta} \\rVert ≤ \\epsilon"
      ]
     },
     "execution_count": 157,
     "metadata": {},
     "output_type": "execute_result"
    }
   ],
   "source": [
    "make_readable(A_[1, 1])"
   ]
  },
  {
   "cell_type": "code",
   "execution_count": 158,
   "metadata": {
    "autoscroll": "json-false",
    "collapsed": false,
    "ein.tags": [
     "worksheet-0"
    ]
   },
   "outputs": [
    {
     "data": {
      "text/plain": [
       "                                                                              \n",
       "                                                                              \n",
       "          ⎛        \\Delta₁⋅μ                 μ⋅u_{t1}      ⎞                  \n",
       "  \\Delta₁⋅⎜- ────────────────────── - ─────────────────────⎟⋅Heaviside(\\lambda\n",
       "          ⎝  \\lVert {\\Delta} \\rVert   \\lVert {u_{t}} \\rVert⎠                  \n",
       "- ────────────────────────────────────────────────────────────────────────────\n",
       "                             2⋅\\lVert {\\Delta} \\rVert                         \n",
       "\n",
       "                                                                              \n",
       "                                                                              \n",
       "             ⎛      \\Delta₁⋅μ                 μ⋅u_{t1}      ⎞                 \n",
       "₁)   \\Delta₁⋅⎜────────────────────── - ─────────────────────⎟⋅Heaviside(\\lambd\n",
       "             ⎝\\lVert {\\Delta} \\rVert   \\lVert {u_{t}} \\rVert⎠                 \n",
       "── + ─────────────────────────────────────────────────────────────────────────\n",
       "                               2⋅\\lVert {\\Delta} \\rVert                       \n",
       "\n",
       "      ⎛                2                                 ⎞                    \n",
       "      ⎜         \\Delta₁ ⋅μ                   μ           ⎟                    \n",
       "      ⎜- ─────────────────────── + ──────────────────────⎟⋅Max(0, \\lambda_1)  \n",
       "a₂)   ⎜                        3   \\lVert {\\Delta} \\rVert⎟                    \n",
       "      ⎝  \\lVert {\\Delta} \\rVert                          ⎠                    \n",
       "─── - ────────────────────────────────────────────────────────────────────── -\n",
       "                                        2                                     \n",
       "\n",
       " ⎛              2                                 ⎞                  \n",
       " ⎜       \\Delta₁ ⋅μ                   μ           ⎟                  \n",
       " ⎜─────────────────────── - ──────────────────────⎟⋅Max(0, \\lambda_2)\n",
       " ⎜                      3   \\lVert {\\Delta} \\rVert⎟                  \n",
       " ⎝\\lVert {\\Delta} \\rVert                          ⎠                  \n",
       " ────────────────────────────────────────────────────────────────────\n",
       "                                  2                                  "
      ]
     },
     "execution_count": 158,
     "metadata": {},
     "output_type": "execute_result"
    }
   ],
   "source": [
    "A11_raw = flatten_piecewise(A_[1, 1]).args[0][0]\n",
    "make_readable(A11_raw)"
   ]
  },
  {
   "cell_type": "code",
   "execution_count": 102,
   "metadata": {
    "autoscroll": "json-false",
    "collapsed": false,
    "ein.tags": [
     "worksheet-0"
    ]
   },
   "outputs": [
    {
     "data": {
      "text/plain": [
       "         2                                     \n",
       "μ⋅(μ - 1) ⋅Heaviside(\\lambda_1__{\\prime\\prime})\n",
       "───────────────────────────────────────────────\n",
       "                    2                          \n",
       "                 2⋅μ  - 2⋅μ + 1                "
      ]
     },
     "execution_count": 102,
     "metadata": {},
     "output_type": "execute_result"
    }
   ],
   "source": [
    "#mlimit(A_[1, 1].subs(ut1, t).subs(ut2, t), t, 0)\n",
    "A11_ut0=nsimp(mlimit(piecewise_fold(A_[1, 1]).args[0][0].subs(ut1, t).subs(ut2, t), t, 0))\n",
    "A11_ut0rt0=simplify(nsimp(mlimit(piecewise_fold(A_[1, 1]).args[0][0].subs(ut1, t).subs(ut2, t).subs(rt1, t).subs(rt2, 0), t, 0)))\n",
    "simplify(make_readable(A11_ut0rt0))\n"
   ]
  },
  {
   "cell_type": "code",
   "execution_count": 132,
   "metadata": {
    "autoscroll": "json-false",
    "collapsed": false,
    "ein.tags": [
     "worksheet-0"
    ]
   },
   "outputs": [
    {
     "data": {
      "text/plain": [
       "  ⎛       ⎛       ⎛                                                           \n",
       "μ⋅⎝r_{t1}⋅⎝r_{t1}⋅⎝2⋅\\lVert {r_{t}} \\rVert⋅(Heaviside(\\lambda_1__{\\prime}) + H\n",
       "──────────────────────────────────────────────────────────────────────────────\n",
       "                                                                              \n",
       "                                                                              \n",
       "\n",
       "                                   ___                                        \n",
       "eaviside(\\lambda_2__{\\prime})) + ╲╱ 2 ⋅r_{t1}⋅(-Heaviside(\\lambda_1__{\\prime})\n",
       "──────────────────────────────────────────────────────────────────────────────\n",
       "                                                                              \n",
       "                                                                              \n",
       "\n",
       "                                  ⎞     ___       2                           \n",
       " + Heaviside(\\lambda_2__{\\prime}))⎠ + ╲╱ 2 ⋅r_{t2} ⋅(-Heaviside(\\lambda_1__{\\p\n",
       "──────────────────────────────────────────────────────────────────────────────\n",
       "                             3                                                \n",
       "      4⋅\\lVert {r_{t}} \\rVert                                                 \n",
       "\n",
       "                                        ⎞           2                         \n",
       "rime}) + Heaviside(\\lambda_2__{\\prime}))⎠ + 2⋅r_{t2} ⋅(-Max(0, \\lambda_1^{\\pri\n",
       "──────────────────────────────────────────────────────────────────────────────\n",
       "                                                                              \n",
       "                                                                              \n",
       "\n",
       "                                  ⎞\n",
       "me}) + Max(0, \\lambda_2^{\\prime}))⎠\n",
       "───────────────────────────────────\n",
       "                                   \n",
       "                                   "
      ]
     },
     "execution_count": 132,
     "metadata": {},
     "output_type": "execute_result"
    }
   ],
   "source": [
    "A11_ut0p = simplify(factor_try(A11_ut0.subs('rt1',rt1).subs('rt2',rt2), [rt1, rt1, rt2, rt2, sqrt(2), 2, sqrt(rt1**2+rt2**2)]))\n",
    "make_readable(A11_ut0p)"
   ]
  },
  {
   "cell_type": "code",
   "execution_count": 168,
   "metadata": {
    "autoscroll": "json-false",
    "collapsed": false,
    "ein.tags": [
     "worksheet-0"
    ]
   },
   "outputs": [],
   "source": [
    "from sympy import Or\n",
    "A[1, 1] = natfix(A11_raw)"
   ]
  },
  {
   "cell_type": "code",
   "execution_count": 169,
   "metadata": {
    "autoscroll": "json-false",
    "collapsed": false,
    "ein.tags": [
     "worksheet-0"
    ]
   },
   "outputs": [
    {
     "data": {
      "text/plain": [
       "⎧                                                                             \n",
       "⎪                                                                             \n",
       "⎪                                                                             \n",
       "⎪                                                                             \n",
       "⎪                                                                             \n",
       "⎪                                                                             \n",
       "⎪                                                                             \n",
       "⎪                                                                             \n",
       "⎪                                                                             \n",
       "⎪                                                                             \n",
       "⎪                                                                             \n",
       "⎪                                                                             \n",
       "⎨                                                                             \n",
       "⎪                                                                             \n",
       "⎪                                                                ⎛        \\Del\n",
       "⎪                                                        \\Delta₁⋅⎜- ──────────\n",
       "⎪                                                                ⎝  \\lVert {\\D\n",
       "⎪                                                      - ─────────────────────\n",
       "⎪                                                                             \n",
       "⎪                                                                             \n",
       "⎪  ⎛                              2                                           \n",
       "⎪μ⋅⎝2⋅\\lVert {r_{t}} \\rVert⋅r_{t1} ⋅Heaviside(\\lambda_1__{\\prime}) + 2⋅\\lVert \n",
       "⎪─────────────────────────────────────────────────────────────────────────────\n",
       "⎪                                                                             \n",
       "⎩                                                                             \n",
       "\n",
       "                                                                              \n",
       "                                                                              \n",
       "                                                                              \n",
       "                                                                              \n",
       "                                                                              \n",
       "                                                                              \n",
       "                                                                              \n",
       "                                                                              \n",
       "                                                                              \n",
       "                                                                              \n",
       "                                                                              \n",
       "                                                                              \n",
       "                                                                              \n",
       "                                                                              \n",
       "ta₁⋅μ                 μ⋅u_{t1}      ⎞                               ⎛      \\De\n",
       "──────────── - ─────────────────────⎟⋅Heaviside(\\lambda₁)   \\Delta₁⋅⎜─────────\n",
       "elta} \\rVert   \\lVert {u_{t}} \\rVert⎠                               ⎝\\lVert {\\\n",
       "───────────────────────────────────────────────────────── + ──────────────────\n",
       "      2⋅\\lVert {\\Delta} \\rVert                                                \n",
       "                                                                              \n",
       "                     2                                    ___       3         \n",
       "{r_{t}} \\rVert⋅r_{t1} ⋅Heaviside(\\lambda_2__{\\prime}) - ╲╱ 2 ⋅r_{t1} ⋅Heavisid\n",
       "──────────────────────────────────────────────────────────────────────────────\n",
       "                                                                              \n",
       "                                                                              \n",
       "\n",
       "                                    2                                         \n",
       "                           μ⋅(μ - 1) ⋅Heaviside(\\lambda_1__{\\prime\\prime})    \n",
       "                           ───────────────────────────────────────────────    \n",
       "                                               2                              \n",
       "                                            2⋅μ  - 2⋅μ + 1                    \n",
       "                                                                              \n",
       "                                      2                                       \n",
       "                              μ⋅r_{t1} ⋅Heaviside(\\lambda_1__{\\prime})        \n",
       "                              ────────────────────────────────────────        \n",
       "                                                            2                 \n",
       "                                       \\lVert {r_{t}} \\rVert                  \n",
       "                                                                              \n",
       "                                                             ⎛                \n",
       "                                                             ⎜         \\Delta₁\n",
       "lta₁⋅μ                 μ⋅u_{t1}      ⎞                       ⎜- ──────────────\n",
       "───────────── - ─────────────────────⎟⋅Heaviside(\\lambda₂)   ⎜                \n",
       "Delta} \\rVert   \\lVert {u_{t}} \\rVert⎠                       ⎝  \\lVert {\\Delta\n",
       "────────────────────────────────────────────────────────── - ─────────────────\n",
       "        2⋅\\lVert {\\Delta} \\rVert                                              \n",
       "                                                                              \n",
       "                           ___       3                                    ___ \n",
       "e(\\lambda_1__{\\prime}) + ╲╱ 2 ⋅r_{t1} ⋅Heaviside(\\lambda_2__{\\prime}) - ╲╱ 2 ⋅\n",
       "──────────────────────────────────────────────────────────────────────────────\n",
       "                                                              3               \n",
       "                                       4⋅\\lVert {r_{t}} \\rVert                \n",
       "\n",
       "                                                                              \n",
       "                                                                              \n",
       "                                                                              \n",
       "                                                                              \n",
       "                                                                              \n",
       "                                                                              \n",
       "                                                                              \n",
       "                                                                              \n",
       "                                                                              \n",
       "                                                                              \n",
       "                                                                              \n",
       "                                                                              \n",
       "2                                 ⎞                     ⎛              2      \n",
       " ⋅μ                   μ           ⎟                     ⎜       \\Delta₁ ⋅μ    \n",
       "───────── + ──────────────────────⎟⋅Max(0, \\lambda_1)   ⎜─────────────────────\n",
       "        3   \\lVert {\\Delta} \\rVert⎟                     ⎜                     \n",
       "} \\rVert                          ⎠                     ⎝\\lVert {\\Delta} \\rVer\n",
       "───────────────────────────────────────────────────── - ──────────────────────\n",
       "                 2                                                            \n",
       "                                                                              \n",
       "             2                                    ___              2          \n",
       "r_{t1}⋅r_{t2} ⋅Heaviside(\\lambda_1__{\\prime}) + ╲╱ 2 ⋅r_{t1}⋅r_{t2} ⋅Heaviside\n",
       "──────────────────────────────────────────────────────────────────────────────\n",
       "                                                                              \n",
       "                                                                              \n",
       "\n",
       "                                                                              \n",
       "                                                                              \n",
       "                                                                              \n",
       "                                                                              \n",
       "                                                                              \n",
       "                                                                              \n",
       "                                                                              \n",
       "                                                                              \n",
       "                                                                              \n",
       "                                                                              \n",
       "                                                                              \n",
       "                                                                              \n",
       "                           ⎞                                                  \n",
       "               μ           ⎟                                                  \n",
       "── - ──────────────────────⎟⋅Max(0, \\lambda_2)                                \n",
       " 3   \\lVert {\\Delta} \\rVert⎟                                                  \n",
       "t                          ⎠                                                  \n",
       "──────────────────────────────────────────────                                \n",
       "           2                                                                  \n",
       "                                                                              \n",
       "                                2                                      2      \n",
       "(\\lambda_2__{\\prime}) - 2⋅r_{t2} ⋅Max(0, \\lambda_1^{\\prime}) + 2⋅r_{t2} ⋅Max(0\n",
       "──────────────────────────────────────────────────────────────────────────────\n",
       "                                                                              \n",
       "                                                                              \n",
       "\n",
       "                                                                              \n",
       "                                                                              \n",
       "                                          for \\lVert {r_{t}} \\rVert ≤ \\epsilon\n",
       "                                                                              \n",
       "                                                                              \n",
       "                                                                              \n",
       "                                                                              \n",
       "                                                                              \n",
       "                                                           for \\lVert {\\Delta}\n",
       "                                                                              \n",
       "                                                                              \n",
       "                                                                              \n",
       "                                                                              \n",
       "                                                                              \n",
       "                                                                              \n",
       "                                                                              \n",
       "                                                                              \n",
       "                                         for \\lVert {\\Delta} \\rVert > \\epsilon\n",
       "                                                                              \n",
       "                                                                              \n",
       "                     ⎞                                                        \n",
       ", \\lambda_2^{\\prime})⎠                                                        \n",
       "──────────────────────  for \\lVert {u_{t}} \\rVert ≤ \\epsilon ∧ \\lVert {\\Delta}\n",
       "                                                                              \n",
       "                                                                              \n",
       "\n",
       "                                                     \n",
       "                                                     \n",
       " ∧ \\lVert {u_{t}} \\rVert ≤ \\epsilon                  \n",
       "                                                     \n",
       "                                                     \n",
       "                                                     \n",
       "                                                     \n",
       "                                                     \n",
       " \\rVert ≤ \\epsilon                                   \n",
       "                                                     \n",
       "                                                     \n",
       "                                                     \n",
       "                                                     \n",
       "                                                     \n",
       "                                                     \n",
       "                                                     \n",
       "                                                     \n",
       " ∧ \\lVert {u_{t}} \\rVert > \\epsilon                  \n",
       "                                                     \n",
       "                                                     \n",
       "                                                     \n",
       "                                                     \n",
       " \\rVert > \\epsilon ∧ \\lVert {r_{t}} \\rVert > \\epsilon\n",
       "                                                     \n",
       "                                                     "
      ]
     },
     "execution_count": 169,
     "metadata": {},
     "output_type": "execute_result"
    }
   ],
   "source": [
    "# ||delta|| -> 0 && ||ut|| -> 0 ==> ||rt|| > 0\n",
    "make_readable(A[1, 1])"
   ]
  },
  {
   "cell_type": "code",
   "execution_count": 170,
   "metadata": {
    "autoscroll": "json-false",
    "collapsed": false,
    "ein.tags": [
     "worksheet-0"
    ]
   },
   "outputs": [],
   "source": [
    "with open('codegen/tex/A11_fnat.tex', 'w') as f:\n",
    "     f.write(latex(make_readable(A[1, 1])))"
   ]
  },
  {
   "cell_type": "markdown",
   "metadata": {
    "ein.tags": [
     "worksheet-0"
    ]
   },
   "source": [
    "## A[1, 2]"
   ]
  },
  {
   "cell_type": "code",
   "execution_count": 171,
   "metadata": {
    "autoscroll": "json-false",
    "collapsed": false,
    "ein.tags": [
     "worksheet-0"
    ]
   },
   "outputs": [
    {
     "data": {
      "text/plain": [
       "⎧                                                                             \n",
       "⎪                                                                            \\\n",
       "⎪\\Delta₁⋅\\Delta₂⋅μ⋅Max(0, \\lambda_1)   \\Delta₁⋅\\Delta₂⋅μ⋅Max(0, \\lambda_2)    \n",
       "⎪─────────────────────────────────── - ─────────────────────────────────── - ─\n",
       "⎨                             3                                     3         \n",
       "⎪     2⋅\\lVert {\\Delta} \\rVert              2⋅\\lVert {\\Delta} \\rVert          \n",
       "⎪                                                                             \n",
       "⎪                                                                             \n",
       "⎩                                                                             \n",
       "\n",
       "       ⎛        \\Delta₂⋅μ                 μ⋅u_{t2}      ⎞                     \n",
       "Delta₁⋅⎜- ────────────────────── - ─────────────────────⎟⋅Heaviside(\\lambda₁) \n",
       "       ⎝  \\lVert {\\Delta} \\rVert   \\lVert {u_{t}} \\rVert⎠                     \n",
       "───────────────────────────────────────────────────────────────────────────── \n",
       "                          2⋅\\lVert {\\Delta} \\rVert                            \n",
       "                                                                              \n",
       "                                                                              \n",
       "                                       0                                      \n",
       "                                                                              \n",
       "\n",
       "          ⎛      \\Delta₂⋅μ                 μ⋅u_{t2}      ⎞                    \n",
       "  \\Delta₁⋅⎜────────────────────── - ─────────────────────⎟⋅Heaviside(\\lambda₂)\n",
       "          ⎝\\lVert {\\Delta} \\rVert   \\lVert {u_{t}} \\rVert⎠                    \n",
       "+ ────────────────────────────────────────────────────────────────────────────\n",
       "                            2⋅\\lVert {\\Delta} \\rVert                          \n",
       "                                                                              \n",
       "                                                                              \n",
       "                                                                              \n",
       "                                                                              \n",
       "\n",
       "                                       \n",
       "                                       \n",
       "                                       \n",
       "  for \\lVert {\\Delta} \\rVert > \\epsilon\n",
       "                                       \n",
       "                                       \n",
       "                                       \n",
       "  for \\lVert {\\Delta} \\rVert ≤ \\epsilon\n",
       "                                       "
      ]
     },
     "execution_count": 171,
     "metadata": {},
     "output_type": "execute_result"
    }
   ],
   "source": [
    "make_readable(A_[1, 2])"
   ]
  },
  {
   "cell_type": "code",
   "execution_count": 173,
   "metadata": {
    "autoscroll": "json-false",
    "collapsed": false,
    "ein.tags": [
     "worksheet-0"
    ]
   },
   "outputs": [],
   "source": [
    "A12_raw=flatten_piecewise(A_[1, 2]).args[0][0]"
   ]
  },
  {
   "cell_type": "code",
   "execution_count": 175,
   "metadata": {
    "autoscroll": "json-false",
    "collapsed": false,
    "ein.tags": [
     "worksheet-0"
    ]
   },
   "outputs": [
    {
     "data": {
      "text/plain": [
       "⎧                                                                             \n",
       "⎪                                                                             \n",
       "⎪                                                                             \n",
       "⎪                                                                             \n",
       "⎪                                                                             \n",
       "⎪                                                                             \n",
       "⎪                                                                             \n",
       "⎪                                                                             \n",
       "⎪                                                                             \n",
       "⎪                                                                             \n",
       "⎪                                                                             \n",
       "⎨                                                                             \n",
       "⎪                                                                             \n",
       "⎪                                                                             \n",
       "⎪                                                                             \n",
       "⎪                                                                             \n",
       "⎪                                                                             \n",
       "⎪                                                                             \n",
       "⎪         ⎛                                                                   \n",
       "⎪μ⋅r_{t1}⋅⎝2⋅\\lVert {r_{t}} \\rVert⋅r_{t2}⋅Heaviside(\\lambda_1__{\\prime}) + 2⋅\\\n",
       "⎪─────────────────────────────────────────────────────────────────────────────\n",
       "⎪                                                                             \n",
       "⎩                                                                             \n",
       "\n",
       "                                                                              \n",
       "                                                                              \n",
       "                                                                              \n",
       "                                                                              \n",
       "                                                                              \n",
       "                                                                              \n",
       "                                                                              \n",
       "                                                                              \n",
       "                                                                              \n",
       "                                                                              \n",
       "                                                                              \n",
       "                                                                              \n",
       "                                                                              \n",
       "      \\Delta₁⋅\\Delta₂⋅μ⋅Max(0, \\lambda_1)   \\Delta₁⋅\\Delta₂⋅μ⋅Max(0, \\lambda_2\n",
       "      ─────────────────────────────────── - ──────────────────────────────────\n",
       "                                   3                                     3    \n",
       "           2⋅\\lVert {\\Delta} \\rVert              2⋅\\lVert {\\Delta} \\rVert     \n",
       "                                                                              \n",
       "                                                               ___       2    \n",
       "lVert {r_{t}} \\rVert⋅r_{t2}⋅Heaviside(\\lambda_2__{\\prime}) - ╲╱ 2 ⋅r_{t1} ⋅Hea\n",
       "──────────────────────────────────────────────────────────────────────────────\n",
       "                                                                              \n",
       "                                                                              \n",
       "\n",
       "                      2                                                       \n",
       "                     μ ⋅(μ - 1)⋅Heaviside(\\lambda_1__{\\prime\\prime})          \n",
       "                     ───────────────────────────────────────────────          \n",
       "                                         2                                    \n",
       "                                      2⋅μ  - 2⋅μ + 1                          \n",
       "                                                                              \n",
       "                      μ⋅r_{t1}⋅r_{t2}⋅Heaviside(\\lambda_1__{\\prime})          \n",
       "                      ──────────────────────────────────────────────          \n",
       "                                                       2                      \n",
       "                                  \\lVert {r_{t}} \\rVert                       \n",
       "                                                                              \n",
       "            ⎛        \\Delta₂⋅μ                 μ⋅u_{t2}      ⎞                \n",
       "    \\Delta₁⋅⎜- ────────────────────── - ─────────────────────⎟⋅Heaviside(\\lamb\n",
       ")           ⎝  \\lVert {\\Delta} \\rVert   \\lVert {u_{t}} \\rVert⎠                \n",
       "─ - ──────────────────────────────────────────────────────────────────────────\n",
       "                               2⋅\\lVert {\\Delta} \\rVert                       \n",
       "                                                                              \n",
       "                                                                              \n",
       "                                ___       2                                   \n",
       "viside(\\lambda_1__{\\prime}) + ╲╱ 2 ⋅r_{t1} ⋅Heaviside(\\lambda_2__{\\prime}) - ╲\n",
       "──────────────────────────────────────────────────────────────────────────────\n",
       "                                                        3                     \n",
       "                                 4⋅\\lVert {r_{t}} \\rVert                      \n",
       "\n",
       "                                                                              \n",
       "                                                                              \n",
       "                                                                              \n",
       "                                                                              \n",
       "                                                                              \n",
       "                                                                              \n",
       "                                                                              \n",
       "                                                                              \n",
       "                                                                              \n",
       "                                                                              \n",
       "                                                                              \n",
       "               ⎛      \\Delta₂⋅μ                 μ⋅u_{t2}      ⎞               \n",
       "da₁)   \\Delta₁⋅⎜────────────────────── - ─────────────────────⎟⋅Heaviside(\\lam\n",
       "               ⎝\\lVert {\\Delta} \\rVert   \\lVert {u_{t}} \\rVert⎠               \n",
       "──── + ───────────────────────────────────────────────────────────────────────\n",
       "                                 2⋅\\lVert {\\Delta} \\rVert                     \n",
       "                                                                              \n",
       "                                                                              \n",
       " ___       2                                    ___       2                   \n",
       "╱ 2 ⋅r_{t2} ⋅Heaviside(\\lambda_1__{\\prime}) + ╲╱ 2 ⋅r_{t2} ⋅Heaviside(\\lambda_\n",
       "──────────────────────────────────────────────────────────────────────────────\n",
       "                                                                              \n",
       "                                                                              \n",
       "\n",
       "                                                                              \n",
       "                                                                              \n",
       "                                                                              \n",
       "                                                                              \n",
       "                                                                              \n",
       "                                                                              \n",
       "                                                                              \n",
       "                                                                              \n",
       "                                                                              \n",
       "                                                                              \n",
       "                                                                              \n",
       "                                                                              \n",
       "bda₂)                                                                         \n",
       "                                                                              \n",
       "─────                                                                         \n",
       "                                                                              \n",
       "                                                                              \n",
       "                                                                              \n",
       "                                                                              \n",
       "2__{\\prime}) + 2⋅r_{t2}⋅Max(0, \\lambda_1^{\\prime}) - 2⋅r_{t2}⋅Max(0, \\lambda_2\n",
       "──────────────────────────────────────────────────────────────────────────────\n",
       "                                                                              \n",
       "                                                                              \n",
       "\n",
       "                                                                              \n",
       "                                                                              \n",
       "                               for \\lVert {r_{t}} \\rVert ≤ \\epsilon ∧ \\lVert {\n",
       "                                                                              \n",
       "                                                                              \n",
       "                                                                              \n",
       "                                                                              \n",
       "                                                for \\lVert {\\Delta} \\rVert ≤ \\\n",
       "                                                                              \n",
       "                                                                              \n",
       "                                                                              \n",
       "                                                                              \n",
       "                                                                              \n",
       "                                                                              \n",
       "                              for \\lVert {\\Delta} \\rVert > \\epsilon ∧ \\lVert {\n",
       "                                                                              \n",
       "                                                                              \n",
       "                                                                              \n",
       "          ⎞                                                                   \n",
       "^{\\prime})⎠                                                                   \n",
       "───────────  for \\lVert {u_{t}} \\rVert ≤ \\epsilon ∧ \\lVert {\\Delta} \\rVert > \\\n",
       "                                                                              \n",
       "                                                                              \n",
       "\n",
       "                                          \n",
       "                                          \n",
       "u_{t}} \\rVert ≤ \\epsilon                  \n",
       "                                          \n",
       "                                          \n",
       "                                          \n",
       "                                          \n",
       "epsilon                                   \n",
       "                                          \n",
       "                                          \n",
       "                                          \n",
       "                                          \n",
       "                                          \n",
       "                                          \n",
       "u_{t}} \\rVert > \\epsilon                  \n",
       "                                          \n",
       "                                          \n",
       "                                          \n",
       "                                          \n",
       "                                          \n",
       "epsilon ∧ \\lVert {r_{t}} \\rVert > \\epsilon\n",
       "                                          \n",
       "                                          "
      ]
     },
     "execution_count": 175,
     "metadata": {},
     "output_type": "execute_result"
    }
   ],
   "source": [
    "A[1, 2] = natfix(A12_raw)\n",
    "make_readable(A[1, 2])"
   ]
  },
  {
   "cell_type": "code",
   "execution_count": 176,
   "metadata": {
    "autoscroll": "json-false",
    "collapsed": false,
    "ein.tags": [
     "worksheet-0"
    ]
   },
   "outputs": [],
   "source": [
    "with open('codegen/tex/A12_fnat.tex', 'w') as f:\n",
    "     f.write(latex(make_readable(A[1, 2])))"
   ]
  },
  {
   "cell_type": "markdown",
   "metadata": {
    "ein.tags": [
     "worksheet-0"
    ]
   },
   "source": [
    "## A[2, 0]"
   ]
  },
  {
   "cell_type": "code",
   "execution_count": 177,
   "metadata": {
    "autoscroll": "json-false",
    "collapsed": false,
    "ein.tags": [
     "worksheet-0"
    ]
   },
   "outputs": [
    {
     "data": {
      "text/plain": [
       "⎧\\Delta₂⋅Heaviside(\\lambda₁)   \\Delta₂⋅Heaviside(\\lambda₂)                    \n",
       "⎪─────────────────────────── - ───────────────────────────  for \\lVert {\\Delta\n",
       "⎪  2⋅\\lVert {\\Delta} \\rVert      2⋅\\lVert {\\Delta} \\rVert                     \n",
       "⎨                                                                             \n",
       "⎪         Heaviside(\\lambda₁)   Heaviside(\\lambda₂)                           \n",
       "⎪       - ─────────────────── + ───────────────────         for \\lVert {\\Delta\n",
       "⎩                  2                     2                                    \n",
       "\n",
       "                   \n",
       "} \\rVert > \\epsilon\n",
       "                   \n",
       "                   \n",
       "                   \n",
       "} \\rVert ≤ \\epsilon\n",
       "                   "
      ]
     },
     "execution_count": 177,
     "metadata": {},
     "output_type": "execute_result"
    }
   ],
   "source": [
    "make_readable(A_[2, 0])"
   ]
  },
  {
   "cell_type": "markdown",
   "metadata": {
    "ein.tags": [
     "worksheet-0"
    ]
   },
   "source": [
    "## A[2, 1]"
   ]
  },
  {
   "cell_type": "code",
   "execution_count": 178,
   "metadata": {
    "autoscroll": "json-false",
    "collapsed": false,
    "ein.tags": [
     "worksheet-0"
    ]
   },
   "outputs": [
    {
     "data": {
      "text/plain": [
       "⎧                                                                             \n",
       "⎪                                                                            \\\n",
       "⎪\\Delta₁⋅\\Delta₂⋅μ⋅Max(0, \\lambda_1)   \\Delta₁⋅\\Delta₂⋅μ⋅Max(0, \\lambda_2)    \n",
       "⎪─────────────────────────────────── - ─────────────────────────────────── - ─\n",
       "⎪                             3                                     3         \n",
       "⎪     2⋅\\lVert {\\Delta} \\rVert              2⋅\\lVert {\\Delta} \\rVert          \n",
       "⎨                                                                             \n",
       "⎪                                              ⎛        \\Delta₁⋅μ             \n",
       "⎪                                              ⎜- ────────────────────── - ───\n",
       "⎪                                              ⎝  \\lVert {\\Delta} \\rVert   \\lV\n",
       "⎪                                              ───────────────────────────────\n",
       "⎪                                                                             \n",
       "⎩                                                                             \n",
       "\n",
       "       ⎛        \\Delta₁⋅μ                 μ⋅u_{t1}      ⎞                     \n",
       "Delta₂⋅⎜- ────────────────────── - ─────────────────────⎟⋅Heaviside(\\lambda₁) \n",
       "       ⎝  \\lVert {\\Delta} \\rVert   \\lVert {u_{t}} \\rVert⎠                     \n",
       "───────────────────────────────────────────────────────────────────────────── \n",
       "                          2⋅\\lVert {\\Delta} \\rVert                            \n",
       "                                                                              \n",
       "                                                                              \n",
       "    μ⋅u_{t1}      ⎞                       ⎛      \\Delta₁⋅μ                 μ⋅u\n",
       "──────────────────⎟⋅Heaviside(\\lambda₁)   ⎜────────────────────── - ──────────\n",
       "ert {u_{t}} \\rVert⎠                       ⎝\\lVert {\\Delta} \\rVert   \\lVert {u_\n",
       "─────────────────────────────────────── - ────────────────────────────────────\n",
       "   2                                                                       2  \n",
       "                                                                              \n",
       "\n",
       "          ⎛      \\Delta₁⋅μ                 μ⋅u_{t1}      ⎞                    \n",
       "  \\Delta₂⋅⎜────────────────────── - ─────────────────────⎟⋅Heaviside(\\lambda₂)\n",
       "          ⎝\\lVert {\\Delta} \\rVert   \\lVert {u_{t}} \\rVert⎠                    \n",
       "+ ────────────────────────────────────────────────────────────────────────────\n",
       "                            2⋅\\lVert {\\Delta} \\rVert                          \n",
       "                                                                              \n",
       "                                                                              \n",
       "_{t1}      ⎞                                                                  \n",
       "───────────⎟⋅Heaviside(\\lambda₂)                                              \n",
       "{t}} \\rVert⎠                                                                  \n",
       "────────────────────────────────                                              \n",
       "                                                                              \n",
       "                                                                              \n",
       "\n",
       "                                       \n",
       "                                       \n",
       "                                       \n",
       "  for \\lVert {\\Delta} \\rVert > \\epsilon\n",
       "                                       \n",
       "                                       \n",
       "                                       \n",
       "                                       \n",
       "                                       \n",
       "                                       \n",
       "  for \\lVert {\\Delta} \\rVert ≤ \\epsilon\n",
       "                                       \n",
       "                                       "
      ]
     },
     "execution_count": 178,
     "metadata": {},
     "output_type": "execute_result"
    }
   ],
   "source": [
    "make_readable(A_[2, 1])"
   ]
  },
  {
   "cell_type": "code",
   "execution_count": 181,
   "metadata": {
    "autoscroll": "json-false",
    "collapsed": false,
    "ein.tags": [
     "worksheet-0"
    ]
   },
   "outputs": [],
   "source": [
    "A21_raw = flatten_piecewise(A_[2, 1]).args[0][0]\n",
    "\n",
    "A[2, 1] = natfix(A21_raw)"
   ]
  },
  {
   "cell_type": "code",
   "execution_count": 182,
   "metadata": {
    "autoscroll": "json-false",
    "collapsed": false,
    "ein.tags": [
     "worksheet-0"
    ]
   },
   "outputs": [
    {
     "data": {
      "text/plain": [
       "⎧                                                                             \n",
       "⎪                                                                             \n",
       "⎪                                                                             \n",
       "⎪                                                                             \n",
       "⎪                                                                             \n",
       "⎪                                                                             \n",
       "⎪                                                                             \n",
       "⎪                                                                             \n",
       "⎪                                                                             \n",
       "⎪                                                                             \n",
       "⎪                                                                             \n",
       "⎨                                                                             \n",
       "⎪                                                                             \n",
       "⎪                                                                             \n",
       "⎪                                                                             \n",
       "⎪                                                                             \n",
       "⎪                                                                             \n",
       "⎪                                                                             \n",
       "⎪         ⎛                                                                   \n",
       "⎪μ⋅r_{t2}⋅⎝2⋅\\lVert {r_{t}} \\rVert⋅r_{t1}⋅Heaviside(\\lambda_1__{\\prime}) + 2⋅\\\n",
       "⎪─────────────────────────────────────────────────────────────────────────────\n",
       "⎪                                                                             \n",
       "⎩                                                                             \n",
       "\n",
       "                                                                              \n",
       "                                                                              \n",
       "                                                                              \n",
       "                                                                              \n",
       "                                                                              \n",
       "                                                                              \n",
       "                                                                              \n",
       "                                                                              \n",
       "                                                                              \n",
       "                                                                              \n",
       "                                                                              \n",
       "                                                                              \n",
       "                                                                              \n",
       "      \\Delta₁⋅\\Delta₂⋅μ⋅Max(0, \\lambda_1)   \\Delta₁⋅\\Delta₂⋅μ⋅Max(0, \\lambda_2\n",
       "      ─────────────────────────────────── - ──────────────────────────────────\n",
       "                                   3                                     3    \n",
       "           2⋅\\lVert {\\Delta} \\rVert              2⋅\\lVert {\\Delta} \\rVert     \n",
       "                                                                              \n",
       "                                                               ___       2    \n",
       "lVert {r_{t}} \\rVert⋅r_{t1}⋅Heaviside(\\lambda_2__{\\prime}) - ╲╱ 2 ⋅r_{t1} ⋅Hea\n",
       "──────────────────────────────────────────────────────────────────────────────\n",
       "                                                                              \n",
       "                                                                              \n",
       "\n",
       "                      2                                                       \n",
       "                     μ ⋅(μ - 1)⋅Heaviside(\\lambda_1__{\\prime\\prime})          \n",
       "                     ───────────────────────────────────────────────          \n",
       "                                         2                                    \n",
       "                                      2⋅μ  - 2⋅μ + 1                          \n",
       "                                                                              \n",
       "                      μ⋅r_{t1}⋅r_{t2}⋅Heaviside(\\lambda_1__{\\prime})          \n",
       "                      ──────────────────────────────────────────────          \n",
       "                                                       2                      \n",
       "                                  \\lVert {r_{t}} \\rVert                       \n",
       "                                                                              \n",
       "            ⎛        \\Delta₁⋅μ                 μ⋅u_{t1}      ⎞                \n",
       "    \\Delta₂⋅⎜- ────────────────────── - ─────────────────────⎟⋅Heaviside(\\lamb\n",
       ")           ⎝  \\lVert {\\Delta} \\rVert   \\lVert {u_{t}} \\rVert⎠                \n",
       "─ - ──────────────────────────────────────────────────────────────────────────\n",
       "                               2⋅\\lVert {\\Delta} \\rVert                       \n",
       "                                                                              \n",
       "                                                                              \n",
       "                                ___       2                                   \n",
       "viside(\\lambda_1__{\\prime}) + ╲╱ 2 ⋅r_{t1} ⋅Heaviside(\\lambda_2__{\\prime}) + 2\n",
       "──────────────────────────────────────────────────────────────────────────────\n",
       "                                                        3                     \n",
       "                                 4⋅\\lVert {r_{t}} \\rVert                      \n",
       "\n",
       "                                                                              \n",
       "                                                                              \n",
       "                                                                              \n",
       "                                                                              \n",
       "                                                                              \n",
       "                                                                              \n",
       "                                                                              \n",
       "                                                                              \n",
       "                                                                              \n",
       "                                                                              \n",
       "                                                                              \n",
       "               ⎛      \\Delta₁⋅μ                 μ⋅u_{t1}      ⎞               \n",
       "da₁)   \\Delta₂⋅⎜────────────────────── - ─────────────────────⎟⋅Heaviside(\\lam\n",
       "               ⎝\\lVert {\\Delta} \\rVert   \\lVert {u_{t}} \\rVert⎠               \n",
       "──── + ───────────────────────────────────────────────────────────────────────\n",
       "                                 2⋅\\lVert {\\Delta} \\rVert                     \n",
       "                                                                              \n",
       "                                                                              \n",
       "                                                                             _\n",
       "⋅r_{t1}⋅Max(0, \\lambda_1^{\\prime}) - 2⋅r_{t1}⋅Max(0, \\lambda_2^{\\prime}) - ╲╱ \n",
       "──────────────────────────────────────────────────────────────────────────────\n",
       "                                                                              \n",
       "                                                                              \n",
       "\n",
       "                                                                              \n",
       "                                                                              \n",
       "                                                                              \n",
       "                                                                              \n",
       "                                                                              \n",
       "                                                                              \n",
       "                                                                              \n",
       "                                                                              \n",
       "                                                                              \n",
       "                                                                              \n",
       "                                                                              \n",
       "                                                                              \n",
       "bda₂)                                                                         \n",
       "                                                                              \n",
       "─────                                                                         \n",
       "                                                                              \n",
       "                                                                              \n",
       "                                                                              \n",
       "__       2                                    ___       2                     \n",
       "2 ⋅r_{t2} ⋅Heaviside(\\lambda_1__{\\prime}) + ╲╱ 2 ⋅r_{t2} ⋅Heaviside(\\lambda_2_\n",
       "──────────────────────────────────────────────────────────────────────────────\n",
       "                                                                              \n",
       "                                                                              \n",
       "\n",
       "                                                                              \n",
       "                                                                              \n",
       "                               for \\lVert {r_{t}} \\rVert ≤ \\epsilon ∧ \\lVert {\n",
       "                                                                              \n",
       "                                                                              \n",
       "                                                                              \n",
       "                                                                              \n",
       "                                                for \\lVert {\\Delta} \\rVert ≤ \\\n",
       "                                                                              \n",
       "                                                                              \n",
       "                                                                              \n",
       "                                                                              \n",
       "                                                                              \n",
       "                                                                              \n",
       "                              for \\lVert {\\Delta} \\rVert > \\epsilon ∧ \\lVert {\n",
       "                                                                              \n",
       "                                                                              \n",
       "                                                                              \n",
       "          ⎞                                                                   \n",
       "_{\\prime})⎠                                                                   \n",
       "───────────  for \\lVert {u_{t}} \\rVert ≤ \\epsilon ∧ \\lVert {\\Delta} \\rVert > \\\n",
       "                                                                              \n",
       "                                                                              \n",
       "\n",
       "                                          \n",
       "                                          \n",
       "u_{t}} \\rVert ≤ \\epsilon                  \n",
       "                                          \n",
       "                                          \n",
       "                                          \n",
       "                                          \n",
       "epsilon                                   \n",
       "                                          \n",
       "                                          \n",
       "                                          \n",
       "                                          \n",
       "                                          \n",
       "                                          \n",
       "u_{t}} \\rVert > \\epsilon                  \n",
       "                                          \n",
       "                                          \n",
       "                                          \n",
       "                                          \n",
       "                                          \n",
       "epsilon ∧ \\lVert {r_{t}} \\rVert > \\epsilon\n",
       "                                          \n",
       "                                          "
      ]
     },
     "execution_count": 182,
     "metadata": {},
     "output_type": "execute_result"
    }
   ],
   "source": [
    "make_readable(A[2, 1])"
   ]
  },
  {
   "cell_type": "code",
   "execution_count": 0,
   "metadata": {
    "autoscroll": "json-false",
    "collapsed": false,
    "ein.tags": [
     "worksheet-0"
    ]
   },
   "outputs": [],
   "source": [
    "N = sqrt(ut1**2+ut2**2)\n",
    "mlimit(N.diff(ut2).subs(ut2, 381*t).subs(ut1, 2*t), t, 0)**2 + mlimit(N.diff(ut1).subs(ut2, 381*t).subs(ut1, 2*t), t, 0)**2"
   ]
  },
  {
   "cell_type": "code",
   "execution_count": 0,
   "metadata": {
    "autoscroll": "json-false",
    "collapsed": false,
    "ein.tags": [
     "worksheet-0"
    ]
   },
   "outputs": [],
   "source": [
    "(sqrt(5)/5)**2 + (2*sqrt(5)/5)**2"
   ]
  },
  {
   "cell_type": "code",
   "execution_count": 183,
   "metadata": {
    "autoscroll": "json-false",
    "collapsed": false,
    "ein.tags": [
     "worksheet-0"
    ]
   },
   "outputs": [],
   "source": [
    "with open('codegen/tex/A21_fnat.tex', 'w') as f:\n",
    "     f.write(latex(make_readable(A[2, 1])))"
   ]
  },
  {
   "cell_type": "markdown",
   "metadata": {
    "ein.tags": [
     "worksheet-0"
    ]
   },
   "source": [
    "## A[2, 2]"
   ]
  },
  {
   "cell_type": "code",
   "execution_count": 184,
   "metadata": {
    "autoscroll": "json-false",
    "collapsed": false,
    "ein.tags": [
     "worksheet-0"
    ]
   },
   "outputs": [
    {
     "data": {
      "text/plain": [
       "⎧                                                                             \n",
       "⎪                                                                             \n",
       "⎪          ⎛        \\Delta₂⋅μ                 μ⋅u_{t2}      ⎞                 \n",
       "⎪  \\Delta₂⋅⎜- ────────────────────── - ─────────────────────⎟⋅Heaviside(\\lambd\n",
       "⎪          ⎝  \\lVert {\\Delta} \\rVert   \\lVert {u_{t}} \\rVert⎠                 \n",
       "⎪- ───────────────────────────────────────────────────────────────────────────\n",
       "⎨                             2⋅\\lVert {\\Delta} \\rVert                        \n",
       "⎪                                                                             \n",
       "⎪                                                                             \n",
       "⎪                                                                             \n",
       "⎪                                                                             \n",
       "⎪                                                                             \n",
       "⎩                                                                             \n",
       "\n",
       "                                                                              \n",
       "                                                                              \n",
       "              ⎛      \\Delta₂⋅μ                 μ⋅u_{t2}      ⎞                \n",
       "a₁)   \\Delta₂⋅⎜────────────────────── - ─────────────────────⎟⋅Heaviside(\\lamb\n",
       "              ⎝\\lVert {\\Delta} \\rVert   \\lVert {u_{t}} \\rVert⎠                \n",
       "─── + ────────────────────────────────────────────────────────────────────────\n",
       "                                2⋅\\lVert {\\Delta} \\rVert                      \n",
       "                                                                              \n",
       "    ⎛        \\Delta₂⋅μ                 μ⋅u_{t2}      ⎞                       ⎛\n",
       "    ⎜- ────────────────────── - ─────────────────────⎟⋅Heaviside(\\lambda₁)   ⎜\n",
       "    ⎝  \\lVert {\\Delta} \\rVert   \\lVert {u_{t}} \\rVert⎠                       ⎝\n",
       "    ────────────────────────────────────────────────────────────────────── - ─\n",
       "                                      2                                       \n",
       "\n",
       "       ⎛                2                                 ⎞                   \n",
       "       ⎜         \\Delta₂ ⋅μ                   μ           ⎟                   \n",
       "       ⎜- ─────────────────────── + ──────────────────────⎟⋅Max(0, \\lambda_1) \n",
       "da₂)   ⎜                        3   \\lVert {\\Delta} \\rVert⎟                   \n",
       "       ⎝  \\lVert {\\Delta} \\rVert                          ⎠                   \n",
       "──── - ────────────────────────────────────────────────────────────────────── \n",
       "                                         2                                    \n",
       "                                                                              \n",
       "      \\Delta₂⋅μ                 μ⋅u_{t2}      ⎞                               \n",
       "────────────────────── - ─────────────────────⎟⋅Heaviside(\\lambda₂)           \n",
       "\\lVert {\\Delta} \\rVert   \\lVert {u_{t}} \\rVert⎠                               \n",
       "───────────────────────────────────────────────────────────────────           \n",
       "                                2                                             \n",
       "\n",
       "  ⎛              2                                 ⎞                          \n",
       "  ⎜       \\Delta₂ ⋅μ                   μ           ⎟                          \n",
       "  ⎜─────────────────────── - ──────────────────────⎟⋅Max(0, \\lambda_2)        \n",
       "  ⎜                      3   \\lVert {\\Delta} \\rVert⎟                          \n",
       "  ⎝\\lVert {\\Delta} \\rVert                          ⎠                          \n",
       "- ────────────────────────────────────────────────────────────────────  for \\l\n",
       "                                   2                                          \n",
       "                                                                              \n",
       "                                                                              \n",
       "                                                                              \n",
       "                                                                              \n",
       "                                                                        for \\l\n",
       "                                                                              \n",
       "\n",
       "                               \n",
       "                               \n",
       "                               \n",
       "                               \n",
       "                               \n",
       "Vert {\\Delta} \\rVert > \\epsilon\n",
       "                               \n",
       "                               \n",
       "                               \n",
       "                               \n",
       "                               \n",
       "Vert {\\Delta} \\rVert ≤ \\epsilon\n",
       "                               "
      ]
     },
     "execution_count": 184,
     "metadata": {},
     "output_type": "execute_result"
    }
   ],
   "source": [
    "make_readable(A_[2, 2])"
   ]
  },
  {
   "cell_type": "code",
   "execution_count": 190,
   "metadata": {
    "autoscroll": "json-false",
    "collapsed": false,
    "ein.tags": [
     "worksheet-0"
    ]
   },
   "outputs": [],
   "source": [
    "A22_raw = flatten_piecewise(A_[2, 2]).args[0][0]"
   ]
  },
  {
   "cell_type": "code",
   "execution_count": 192,
   "metadata": {
    "autoscroll": "json-false",
    "collapsed": false,
    "ein.tags": [
     "worksheet-0"
    ]
   },
   "outputs": [
    {
     "data": {
      "text/plain": [
       "⎧                                                                             \n",
       "⎪                                                                             \n",
       "⎪                                                                             \n",
       "⎪                                                                             \n",
       "⎪                                                                             \n",
       "⎪                                                                             \n",
       "⎪                                                                             \n",
       "⎪                                                                             \n",
       "⎪                                                                             \n",
       "⎪                                                                             \n",
       "⎪                                                                             \n",
       "⎪                                                                             \n",
       "⎨                                                                             \n",
       "⎪                                                                             \n",
       "⎪                                                                ⎛        \\Del\n",
       "⎪                                                        \\Delta₂⋅⎜- ──────────\n",
       "⎪                                                                ⎝  \\lVert {\\D\n",
       "⎪                                                      - ─────────────────────\n",
       "⎪                                                                             \n",
       "⎪                                                                             \n",
       "⎪  ⎛                              2                                           \n",
       "⎪μ⋅⎝2⋅\\lVert {r_{t}} \\rVert⋅r_{t2} ⋅Heaviside(\\lambda_1__{\\prime}) + 2⋅\\lVert \n",
       "⎪─────────────────────────────────────────────────────────────────────────────\n",
       "⎪                                                                             \n",
       "⎩                                                                             \n",
       "\n",
       "                                                                              \n",
       "                                                                              \n",
       "                                                                              \n",
       "                                                                              \n",
       "                                                                              \n",
       "                                                                              \n",
       "                                                                              \n",
       "                                                                              \n",
       "                                                                              \n",
       "                                                                              \n",
       "                                                                              \n",
       "                                                                              \n",
       "                                                                              \n",
       "                                                                              \n",
       "ta₂⋅μ                 μ⋅u_{t2}      ⎞                               ⎛      \\De\n",
       "──────────── - ─────────────────────⎟⋅Heaviside(\\lambda₁)   \\Delta₂⋅⎜─────────\n",
       "elta} \\rVert   \\lVert {u_{t}} \\rVert⎠                               ⎝\\lVert {\\\n",
       "───────────────────────────────────────────────────────── + ──────────────────\n",
       "      2⋅\\lVert {\\Delta} \\rVert                                                \n",
       "                                                                              \n",
       "                     2                                    ___       2         \n",
       "{r_{t}} \\rVert⋅r_{t2} ⋅Heaviside(\\lambda_2__{\\prime}) - ╲╱ 2 ⋅r_{t1} ⋅r_{t2}⋅H\n",
       "──────────────────────────────────────────────────────────────────────────────\n",
       "                                                                              \n",
       "                                                                              \n",
       "\n",
       "                                3                                             \n",
       "                               μ ⋅Heaviside(\\lambda_1__{\\prime\\prime})        \n",
       "                               ───────────────────────────────────────        \n",
       "                                               2                              \n",
       "                                            2⋅μ  - 2⋅μ + 1                    \n",
       "                                                                              \n",
       "                                      2                                       \n",
       "                              μ⋅r_{t2} ⋅Heaviside(\\lambda_1__{\\prime})        \n",
       "                              ────────────────────────────────────────        \n",
       "                                                            2                 \n",
       "                                       \\lVert {r_{t}} \\rVert                  \n",
       "                                                                              \n",
       "                                                             ⎛                \n",
       "                                                             ⎜         \\Delta₂\n",
       "lta₂⋅μ                 μ⋅u_{t2}      ⎞                       ⎜- ──────────────\n",
       "───────────── - ─────────────────────⎟⋅Heaviside(\\lambda₂)   ⎜                \n",
       "Delta} \\rVert   \\lVert {u_{t}} \\rVert⎠                       ⎝  \\lVert {\\Delta\n",
       "────────────────────────────────────────────────────────── - ─────────────────\n",
       "        2⋅\\lVert {\\Delta} \\rVert                                              \n",
       "                                                                              \n",
       "                                  ___       2                                 \n",
       "eaviside(\\lambda_1__{\\prime}) + ╲╱ 2 ⋅r_{t1} ⋅r_{t2}⋅Heaviside(\\lambda_2__{\\pr\n",
       "──────────────────────────────────────────────────────────────────────────────\n",
       "                                                              3               \n",
       "                                       4⋅\\lVert {r_{t}} \\rVert                \n",
       "\n",
       "                                                                              \n",
       "                                                                              \n",
       "                                                                              \n",
       "                                                                              \n",
       "                                                                              \n",
       "                                                                              \n",
       "                                                                              \n",
       "                                                                              \n",
       "                                                                              \n",
       "                                                                              \n",
       "                                                                              \n",
       "                                                                              \n",
       "2                                 ⎞                     ⎛              2      \n",
       " ⋅μ                   μ           ⎟                     ⎜       \\Delta₂ ⋅μ    \n",
       "───────── + ──────────────────────⎟⋅Max(0, \\lambda_1)   ⎜─────────────────────\n",
       "        3   \\lVert {\\Delta} \\rVert⎟                     ⎜                     \n",
       "} \\rVert                          ⎠                     ⎝\\lVert {\\Delta} \\rVer\n",
       "───────────────────────────────────────────────────── - ──────────────────────\n",
       "                 2                                                            \n",
       "                                                                              \n",
       "                2                                      2                      \n",
       "ime}) - 2⋅r_{t1} ⋅Max(0, \\lambda_1^{\\prime}) + 2⋅r_{t1} ⋅Max(0, \\lambda_2^{\\pr\n",
       "──────────────────────────────────────────────────────────────────────────────\n",
       "                                                                              \n",
       "                                                                              \n",
       "\n",
       "                                                                              \n",
       "                                                                              \n",
       "                                                                              \n",
       "                                                                              \n",
       "                                                                              \n",
       "                                                                              \n",
       "                                                                              \n",
       "                                                                              \n",
       "                                                                              \n",
       "                                                                              \n",
       "                                                                              \n",
       "                                                                              \n",
       "                           ⎞                                                  \n",
       "               μ           ⎟                                                  \n",
       "── - ──────────────────────⎟⋅Max(0, \\lambda_2)                                \n",
       " 3   \\lVert {\\Delta} \\rVert⎟                                                  \n",
       "t                          ⎠                                                  \n",
       "──────────────────────────────────────────────                                \n",
       "           2                                                                  \n",
       "                                                                              \n",
       "          ___       3                                    ___       3          \n",
       "ime}) - ╲╱ 2 ⋅r_{t2} ⋅Heaviside(\\lambda_1__{\\prime}) + ╲╱ 2 ⋅r_{t2} ⋅Heaviside\n",
       "──────────────────────────────────────────────────────────────────────────────\n",
       "                                                                              \n",
       "                                                                              \n",
       "\n",
       "                                                                              \n",
       "                                                                              \n",
       "                                          for \\lVert {r_{t}} \\rVert ≤ \\epsilon\n",
       "                                                                              \n",
       "                                                                              \n",
       "                                                                              \n",
       "                                                                              \n",
       "                                                                              \n",
       "                                                           for \\lVert {\\Delta}\n",
       "                                                                              \n",
       "                                                                              \n",
       "                                                                              \n",
       "                                                                              \n",
       "                                                                              \n",
       "                                                                              \n",
       "                                                                              \n",
       "                                                                              \n",
       "                                         for \\lVert {\\Delta} \\rVert > \\epsilon\n",
       "                                                                              \n",
       "                                                                              \n",
       "                     ⎞                                                        \n",
       "(\\lambda_2__{\\prime})⎠                                                        \n",
       "──────────────────────  for \\lVert {u_{t}} \\rVert ≤ \\epsilon ∧ \\lVert {\\Delta}\n",
       "                                                                              \n",
       "                                                                              \n",
       "\n",
       "                                                     \n",
       "                                                     \n",
       " ∧ \\lVert {u_{t}} \\rVert ≤ \\epsilon                  \n",
       "                                                     \n",
       "                                                     \n",
       "                                                     \n",
       "                                                     \n",
       "                                                     \n",
       " \\rVert ≤ \\epsilon                                   \n",
       "                                                     \n",
       "                                                     \n",
       "                                                     \n",
       "                                                     \n",
       "                                                     \n",
       "                                                     \n",
       "                                                     \n",
       "                                                     \n",
       " ∧ \\lVert {u_{t}} \\rVert > \\epsilon                  \n",
       "                                                     \n",
       "                                                     \n",
       "                                                     \n",
       "                                                     \n",
       " \\rVert > \\epsilon ∧ \\lVert {r_{t}} \\rVert > \\epsilon\n",
       "                                                     \n",
       "                                                     "
      ]
     },
     "execution_count": 192,
     "metadata": {},
     "output_type": "execute_result"
    }
   ],
   "source": [
    "A[2, 2] = natfix(A22_raw)\n",
    "make_readable(A[2, 2])"
   ]
  },
  {
   "cell_type": "code",
   "execution_count": 0,
   "metadata": {
    "autoscroll": "json-false",
    "collapsed": false,
    "ein.tags": [
     "worksheet-0"
    ]
   },
   "outputs": [],
   "source": [
    "with open('codegen/tex/A22_fnat.tex', 'w') as f:\n",
    "     f.write(latex(make_readable(A[2, 2])))"
   ]
  }
 ],
 "metadata": {
  "kernelspec": {
   "display_name": "Python 2",
   "name": "python2"
  },
  "language_info": {
   "codemirror_mode": {
    "name": "ipython",
    "version": 2
   },
   "file_extension": ".py",
   "mimetype": "text/x-python",
   "name": "python",
   "nbconvert_exporter": "python",
   "pygments_lexer": "ipython2",
   "version": "2.7.10"
  },
  "name": "NM.ipynb"
 },
 "nbformat": 4,
 "nbformat_minor": 0
}
