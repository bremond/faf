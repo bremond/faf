{
 "cells": [
  {
   "cell_type": "code",
   "execution_count": 0,
   "metadata": {
    "autoscroll": "json-false",
    "collapsed": false,
    "ein.tags": [
     "worksheet-0"
    ]
   },
   "outputs": [],
   "source": []
  },
  {
   "cell_type": "code",
   "execution_count": 0,
   "metadata": {
    "autoscroll": "json-false",
    "collapsed": false,
    "ein.tags": [
     "worksheet-0"
    ]
   },
   "outputs": [],
   "source": []
  },
  {
   "cell_type": "code",
   "execution_count": 0,
   "metadata": {
    "autoscroll": "json-false",
    "collapsed": false,
    "ein.tags": [
     "worksheet-0"
    ]
   },
   "outputs": [],
   "source": []
  },
  {
   "cell_type": "code",
   "execution_count": 0,
   "metadata": {
    "autoscroll": "json-false",
    "collapsed": false,
    "ein.tags": [
     "worksheet-0"
    ]
   },
   "outputs": [],
   "source": []
  },
  {
   "cell_type": "markdown",
   "metadata": {
    "ein.tags": [
     "worksheet-0"
    ]
   },
   "source": [
    "# Natural Map"
   ]
  },
  {
   "cell_type": "markdown",
   "metadata": {
    "ein.tags": [
     "worksheet-0"
    ]
   },
   "source": [
    "## imports"
   ]
  },
  {
   "cell_type": "code",
   "execution_count": 1,
   "metadata": {
    "autoscroll": "json-false",
    "collapsed": false,
    "ein.tags": [
     "worksheet-0"
    ]
   },
   "outputs": [],
   "source": [
    "import JordanAlgebra\n",
    "from sympy import Symbol, Matrix, sqrt, Pow, Add, Rational, postorder_traversal, factor, simplify, nsimplify, latex\n",
    "from codegen.funcodegen import funcodegen\n",
    "import numpy as np\n"
   ]
  },
  {
   "cell_type": "markdown",
   "metadata": {
    "ein.tags": [
     "worksheet-0"
    ]
   },
   "source": [
    "## symbols"
   ]
  },
  {
   "cell_type": "code",
   "execution_count": 1,
   "metadata": {
    "autoscroll": "json-false",
    "collapsed": false,
    "ein.tags": [
     "worksheet-0"
    ]
   },
   "outputs": [],
   "source": []
  },
  {
   "cell_type": "code",
   "execution_count": 2,
   "metadata": {
    "autoscroll": "json-false",
    "collapsed": false,
    "ein.tags": [
     "worksheet-0"
    ]
   },
   "outputs": [],
   "source": [
    "from JordanAlgebra import epsilon\n",
    "from friction import mu, rn, rt1, rt2, un, ut1, ut2, xn, xt1, xt2, yn, yt1, yt2, u, r, x, y, ut\n"
   ]
  },
  {
   "cell_type": "markdown",
   "metadata": {
    "ein.tags": [
     "worksheet-0"
    ]
   },
   "source": [
    "## The natural map function"
   ]
  },
  {
   "cell_type": "code",
   "execution_count": 3,
   "metadata": {
    "autoscroll": "json-false",
    "collapsed": false,
    "ein.tags": [
     "worksheet-0"
    ]
   },
   "outputs": [],
   "source": [
    "Fnat = y - JordanAlgebra.projection(y - x, epsilon= epsilon*(1+mu))\n"
   ]
  },
  {
   "cell_type": "markdown",
   "metadata": {
    "ein.tags": [
     "worksheet-0"
    ]
   },
   "source": [
    "## Raw jacobians"
   ]
  },
  {
   "cell_type": "code",
   "execution_count": 4,
   "metadata": {
    "autoscroll": "json-false",
    "collapsed": false,
    "ein.tags": [
     "worksheet-0"
    ]
   },
   "outputs": [],
   "source": [
    "lambda1, lambda2, u1, u2 = JordanAlgebra.spectral_decomposition(y - x)\n",
    "\n",
    "#def load(v):\n",
    "\n",
    "#    with open(v) as r_file:\n",
    "#        return pickle.load(r_file)\n",
    "\n",
    "#A = load('Fnat_A')\n",
    "#B = load('Fnat_B')\n",
    "#Fnat = load('Fnat')\n",
    "#Rnow = load('Fnat_Rnow')"
   ]
  },
  {
   "cell_type": "code",
   "execution_count": 5,
   "metadata": {
    "autoscroll": "json-false",
    "collapsed": false,
    "ein.tags": [
     "worksheet-0"
    ]
   },
   "outputs": [],
   "source": [
    "A_ = Fnat.jacobian(u)\n",
    "B_ = Fnat.jacobian(r)"
   ]
  },
  {
   "cell_type": "code",
   "execution_count": 6,
   "metadata": {
    "autoscroll": "json-false",
    "collapsed": false,
    "ein.tags": [
     "worksheet-0"
    ]
   },
   "outputs": [],
   "source": [
    "from sympy import Piecewise\n",
    "def add_split(expr, pos, f1, f2):\n",
    "    n_expr = expr\n",
    "    if type(expr) == Add:       \n",
    "       n_expr1 = Add(*expr.args[:pos])\n",
    "       n_expr2 = Add(*expr.args[pos:])\n",
    "       n_expr = Add(f2(n_expr2), f1(n_expr1))\n",
    "    return n_expr\n",
    "\n",
    "def add_splitp(p_expr, lpos, f1, f2):\n",
    "    if hasattr(p_expr, 'is_Piecewise') and p_expr.is_Piecewise:\n",
    "        return Piecewise(*[(add_split(c[0], lpos[i], f1, f2), c[1]) for i, c in enumerate(p_expr.args)])\n",
    "    else:\n",
    "        return add_split(p_expr, lpos[0], f1, f2)\n",
    "\n",
    "def add_splitv(mat, lpos, f1, f2):\n",
    "    return Matrix(mat.shape[0], mat.shape[1], \n",
    "        lambda i,j: add_splitp(mat[i, j], lpos[i], f1, f2))\n",
    "\n",
    "def map_matrix(mat, fun, args):\n",
    "    return Matrix(mat.shape[0], mat.shape[1], \n",
    "                  lambda i,j: fun(mat[i, j], *(args[i])))\n",
    "\n",
    "from sympy import Mul, Add, Pow, Wild\n",
    "def factor_try(input_expr, fexprs):\n",
    "    n_expr = input_expr\n",
    "    subs = dict()   \n",
    "    for fexpr in fexprs:\n",
    "        for expr in postorder_traversal(n_expr):\n",
    "            niexpr = expr   \n",
    "            for iexpr in subs:\n",
    "               niexpr = niexpr.subs(iexpr, subs[iexpr])\n",
    "            expr = niexpr\n",
    "            if type(expr) == Add:\n",
    "               fterms = filter(lambda e: type(e)==Mul and fexpr in e.args, expr.args)\n",
    "               uterms = filter(lambda e: type(e)==Mul and any([fexpr == ee.args[0] for ee in filter(lambda e: type(e)==Pow, e.args)]), expr.args)              \n",
    "               pterms = filter(lambda e: type(e)==Pow and e.args[1].is_Integer and fexpr == e.args[0], expr.args)\n",
    "               tterms = filter(lambda e: e == fexpr, expr.args)\n",
    "               oterms = list(set(expr.args).difference(set(uterms)).difference(set(pterms)).difference(set(tterms)).difference(set(fterms)))\n",
    "               nfterms = list()\n",
    "               for e in fterms:\n",
    "                   nargs = list(e.args)\n",
    "                   nargs.remove(fexpr)\n",
    "                   nfterms.append(e.func(*nargs))\n",
    "               for e in uterms:\n",
    "                   ne = 1\n",
    "                   wuterms = filter(lambda ie: type(ie)==Pow and ie.args[0]==fexpr, e.args)\n",
    "                   for ee in wuterms:\n",
    "                       ne = Mul(ne, Pow(ee.args[0], ee.args[1]-1))\n",
    "                   for ee in set(e.args).difference(wuterms):\n",
    "                       ne = Mul(ne, ee)\n",
    "                   nfterms.append(ne)\n",
    "               for e in pterms:\n",
    "                   nfterms.append(e.func(e.args[0], e.args[1]-1))\n",
    "               for e in tterms:\n",
    "                   nfterms.append(1)\n",
    "               \n",
    "               nfresult = fexpr * Add(*nfterms)\n",
    "              \n",
    "               n_expr = n_expr.subs(expr, Add(Add(*oterms), nfresult))\n",
    "               subs[expr] = Add(Add(*oterms), nfresult)\n",
    "    return n_expr\n",
    "       \n"
   ]
  },
  {
   "cell_type": "code",
   "execution_count": 7,
   "metadata": {
    "autoscroll": "json-false",
    "collapsed": false,
    "ein.tags": [
     "worksheet-0"
    ]
   },
   "outputs": [
    {
     "data": {
      "text/plain": [
       "sqrt(rt1)"
      ]
     },
     "execution_count": 7,
     "metadata": {},
     "output_type": "execute_result"
    }
   ],
   "source": [
    "from sympy import Wild\n",
    "expr = sqrt(rt1)\n",
    "y = Wild('y')\n",
    "expr.replace(Pow(y, Rational(3,2)), lambda y: y+1)"
   ]
  },
  {
   "cell_type": "code",
   "execution_count": 8,
   "metadata": {
    "autoscroll": "json-false",
    "collapsed": false,
    "ein.tags": [
     "worksheet-0"
    ]
   },
   "outputs": [
    {
     "data": {
      "text/plain": [
       "rt1*(ut1 + sqrt(2)*(rt1**3*ut1 + ut2))"
      ]
     },
     "execution_count": 8,
     "metadata": {},
     "output_type": "execute_result"
    }
   ],
   "source": [
    "factor_try(sqrt(2)*ut1*rt1**4+rt1*ut1+sqrt(2)*rt1*ut2, [sqrt(2), rt1])"
   ]
  },
  {
   "cell_type": "code",
   "execution_count": 9,
   "metadata": {
    "autoscroll": "json-false",
    "collapsed": false,
    "ein.tags": [
     "worksheet-0"
    ]
   },
   "outputs": [
    {
     "data": {
      "text/plain": [
       "rt1*(rt1*ut2 + ut1) + sqrt(rt1*(rt1**6*ut1 + 1))"
      ]
     },
     "execution_count": 9,
     "metadata": {},
     "output_type": "execute_result"
    }
   ],
   "source": [
    "factor_try(sqrt(rt1+ut1*rt1**7)+ ut1*rt1 + ut2*rt1*rt1, [rt1,2])"
   ]
  },
  {
   "cell_type": "code",
   "execution_count": 10,
   "metadata": {
    "autoscroll": "json-false",
    "collapsed": false,
    "ein.tags": [
     "worksheet-0"
    ]
   },
   "outputs": [
    {
     "data": {
      "text/plain": [
       "Piecewise(((ut1**2 + ut2**2)/2 + 1, ut1 > 0), (ut1, ut1 <= 0))"
      ]
     },
     "execution_count": 10,
     "metadata": {},
     "output_type": "execute_result"
    }
   ],
   "source": [
    "add_splitp(Piecewise((1 + ut1**2/2 + ut2**2/2, ut1>0), (ut1, ut1<=0)), [1,0], factor, factor)\n",
    "\n",
    "#map_matrix(Matrix([1 + ut1**2/2 + ut2**2/2]), add_split, [1, factor, factor])"
   ]
  },
  {
   "cell_type": "code",
   "execution_count": 10,
   "metadata": {
    "autoscroll": "json-false",
    "collapsed": false,
    "ein.tags": [
     "worksheet-0"
    ]
   },
   "outputs": [],
   "source": []
  },
  {
   "cell_type": "markdown",
   "metadata": {
    "ein.tags": [
     "worksheet-0"
    ]
   },
   "source": [
    "ndelta, sqrt((mu*ut2-rt2)**2+(mu*ut1-rt1)**2)"
   ]
  },
  {
   "cell_type": "code",
   "execution_count": 11,
   "metadata": {
    "autoscroll": "json-false",
    "collapsed": false,
    "ein.tags": [
     "worksheet-0"
    ]
   },
   "outputs": [],
   "source": [
    "from sympy import init_printing\n",
    "init_printing(use_latex=True)\n",
    "\n",
    "from sympy import Symbol\n",
    "nut = Symbol(r'\\lVert {u_{t}} \\rVert', negative=False)\n",
    "nrt = Symbol(r'\\lVert {r_{t}} \\rVert', negative=False)\n",
    "lbd1 = Symbol(r'\\lambda_1')\n",
    "lbd2 = Symbol(r'\\lambda_2')\n",
    "#lbd10 = Symbol(r'\\lambda_{1|_{\\lVert {u_{t}} \\rVert=0}}')\n",
    "lbd10 = Symbol(r'\\lambda_{1}^{\\prime}')\n",
    "lbd20 = Symbol(r'\\lambda_{2}^{\\prime}')\n",
    "lbd100 = Symbol(r'\\lambda_{1}^{\\prime\\prime}')\n",
    "lbd200 = Symbol(r'\\lambda_{2}^{\\prime\\prime}')\n",
    "delta1 = Symbol(r'\\Delta_1')\n",
    "delta2 = Symbol(r'\\Delta_2')\n",
    "ndelta = Symbol(r'\\lVert {\\Delta} \\rVert', negative=False)\n",
    "lepsilon = Symbol(r'\\epsilon')\n",
    "lut1 = Symbol(r'u_{t1}')\n",
    "lut2 = Symbol(r'u_{t2}')\n",
    "lun = Symbol(r'u_n')\n",
    "lrt1 = Symbol(r'r_{t1}')\n",
    "lrt2 = Symbol(r'r_{t2}')\n",
    "lrn = Symbol(r'r_n')\n",
    "\n",
    "from codegen.funcodegen import flatten_piecewise\n",
    "\n",
    "lambda1_0 = lambda1.subs(ut1, 0).subs(ut2, 0)\n",
    "lambda2_0 = lambda2.subs(ut1, 0).subs(ut2, 0)\n",
    "\n",
    "lambda1_00 = lambda1_0.subs(rt1, 0).subs(rt2, 0)\n",
    "lambda2_00 = lambda2_0.subs(rt1, 0).subs(rt2, 0)\n",
    "\n",
    "from codegen.maple import to_sympy\n",
    "def fix_from_maple(expr):\n",
    "    \n",
    "    n_expr = to_sympy(expr)\n",
    "    try:\n",
    "        r = n_expr.subs('rt1', rt1).subs('rt2', rt2).subs('rn', rn).subs('ut1', ut1).subs('ut2', ut2).subs('un', un).subs('mu', mu)\n",
    "        return r\n",
    "    except:\n",
    "        print \"Warning: subs failed for {0}!!!!\".format(n_expr)\n",
    "        return n_expr\n",
    "\n",
    "def make_readable(expr, deep=False):\n",
    "    return flatten_piecewise(expr).subs(lrt1, rt1).subs(lrt2, rt2).subs(lrn, rn).subs(lut1, ut1).subs(lut2, ut2).subs(lun, un).subs(nut, sqrt(ut1**2+ut2**2)).subs(nrt, sqrt(rt1**2+rt2**2)).subs('rt1', rt1).subs('rt2', rt2).subs('rn', rn).subs('ut1', ut1).subs('ut2', ut2).subs('un', un).subs('mu', mu).subs(lambda1, lbd1).subs(lambda2, lbd2).subs(lambda1_0, lbd10).subs(lambda2_0, lbd20).subs(lambda1_00, lbd100).subs(lambda2_00, lbd200).subs(ut1**2+ut2**2,nut**2).subs(rt1**2+rt2**2, nrt**2).subs(mu*ut2-rt2, delta2).subs(mu*ut1-rt1, delta1).subs(delta1**2+delta2**2, ndelta**2).subs(rt1, lrt1).subs(rt2, lrt2).subs(rn, lrn).subs(ut1, lut1).subs(ut2, lut2).subs(un, lun).subs(epsilon, lepsilon).subs(0.5, Rational(1, 2)).subs(sqrt(nrt**2), nrt).subs(sqrt(nut**2), nut).subs(sqrt(ndelta**2), ndelta).subs(sqrt(sqrt(nrt**2)), sqrt(nrt))\n"
   ]
  },
  {
   "cell_type": "code",
   "execution_count": 12,
   "metadata": {
    "autoscroll": "json-false",
    "collapsed": false,
    "ein.tags": [
     "worksheet-0"
    ]
   },
   "outputs": [
    {
     "data": {
      "text/plain": [
       "⎛            _____________           ___________________________________      \n",
       "⎜           ╱    2      2           ╱               2                 2       \n",
       "⎝μ⋅rn - μ⋅╲╱  ut₁  + ut₂   - un - ╲╱  (-μ⋅ut₁ + rt₁)  + (-μ⋅ut₂ + rt₂)  , μ⋅rn\n",
       "\n",
       "           _____________           ⎞\n",
       "          ╱    2      2            ⎟\n",
       " - un - ╲╱  rt₁  + rt₂  , μ⋅rn - un⎠"
      ]
     },
     "execution_count": 12,
     "metadata": {},
     "output_type": "execute_result"
    }
   ],
   "source": [
    "lambda1, lambda1_0, lambda1_00"
   ]
  },
  {
   "cell_type": "code",
   "execution_count": 13,
   "metadata": {
    "autoscroll": "json-false",
    "collapsed": false,
    "ein.tags": [
     "worksheet-0"
    ]
   },
   "outputs": [
    {
     "data": {
      "text/plain": [
       "\\lambda_{1}__{\\prime\\prime}"
      ]
     },
     "execution_count": 13,
     "metadata": {},
     "output_type": "execute_result"
    }
   ],
   "source": [
    "lbd100"
   ]
  },
  {
   "cell_type": "code",
   "execution_count": 14,
   "metadata": {
    "autoscroll": "json-false",
    "collapsed": false,
    "ein.tags": [
     "worksheet-0"
    ]
   },
   "outputs": [
    {
     "data": {
      "text/plain": [
       "⎡                                       Max(0, \\lambda_1) + Max(0, \\lambda_2) \n",
       "⎢                               μ⋅r_n - ───────────────────────────────────── \n",
       "⎢                                                         2                   \n",
       "⎢                                                                             \n",
       "⎢⎧  \\Delta₁⋅(Max(0, \\lambda_1) - Max(0, \\lambda_2))                           \n",
       "⎢⎪- ─────────────────────────────────────────────── + r_{t1}  for \\lVert {\\Del\n",
       "⎢⎪              2⋅\\lVert {\\Delta} \\rVert                                      \n",
       "⎢⎨                                                                            \n",
       "⎢⎪                                                                            \n",
       "⎢⎪                          r_{t1}                            for \\lVert {\\Del\n",
       "⎢⎩                                                                            \n",
       "⎢                                                                             \n",
       "⎢⎧  \\Delta₂⋅(Max(0, \\lambda_1) - Max(0, \\lambda_2))                           \n",
       "⎢⎪- ─────────────────────────────────────────────── + r_{t2}  for \\lVert {\\Del\n",
       "⎢⎪              2⋅\\lVert {\\Delta} \\rVert                                      \n",
       "⎢⎨                                                                            \n",
       "⎢⎪               Max(0, \\lambda_1) - Max(0, \\lambda_2)                        \n",
       "⎢⎪      r_{t2} + ─────────────────────────────────────        for \\lVert {\\Del\n",
       "⎣⎩                                 2                                          \n",
       "\n",
       "                              ⎤\n",
       "                              ⎥\n",
       "                              ⎥\n",
       "                              ⎥\n",
       "          2                   ⎥\n",
       "ta} \\rVert  > \\epsilon⋅(μ + 1)⎥\n",
       "                              ⎥\n",
       "                              ⎥\n",
       "          2                   ⎥\n",
       "ta} \\rVert  ≤ \\epsilon⋅(μ + 1)⎥\n",
       "                              ⎥\n",
       "                              ⎥\n",
       "          2                   ⎥\n",
       "ta} \\rVert  > \\epsilon⋅(μ + 1)⎥\n",
       "                              ⎥\n",
       "                              ⎥\n",
       "          2                   ⎥\n",
       "ta} \\rVert  ≤ \\epsilon⋅(μ + 1)⎥\n",
       "                              ⎦"
      ]
     },
     "execution_count": 14,
     "metadata": {},
     "output_type": "execute_result"
    }
   ],
   "source": [
    "from sympy import expand\n",
    "add_splitv(make_readable(Fnat), [[2], [1,0], [1,1]], factor, factor)\n"
   ]
  },
  {
   "cell_type": "code",
   "execution_count": 15,
   "metadata": {
    "autoscroll": "json-false",
    "collapsed": false,
    "ein.tags": [
     "worksheet-0"
    ]
   },
   "outputs": [],
   "source": [
    "P=make_readable(Fnat[1]).args[0][0]\n",
    "\n"
   ]
  },
  {
   "cell_type": "code",
   "execution_count": 16,
   "metadata": {
    "autoscroll": "json-false",
    "collapsed": false,
    "ein.tags": [
     "worksheet-0"
    ]
   },
   "outputs": [
    {
     "data": {
      "text/plain": [
       "⎡                                          Max(0, \\lambda_1)   Max(0, \\lambda_\n",
       "⎢                                  μ⋅r_n - ───────────────── - ───────────────\n",
       "⎢                                                  2                   2      \n",
       "⎢                                                                             \n",
       "⎢⎧  \\Delta₁⋅Max(0, \\lambda_1)   \\Delta₁⋅Max(0, \\lambda_2)                     \n",
       "⎢⎪- ───────────────────────── + ───────────────────────── + r_{t1}  for \\lVert\n",
       "⎢⎪   2⋅\\lVert {\\Delta} \\rVert    2⋅\\lVert {\\Delta} \\rVert                     \n",
       "⎢⎨                                                                            \n",
       "⎢⎪                                                                            \n",
       "⎢⎪                             r_{t1}                               for \\lVert\n",
       "⎢⎩                                                                            \n",
       "⎢                                                                             \n",
       "⎢⎧  \\Delta₂⋅Max(0, \\lambda_1)   \\Delta₂⋅Max(0, \\lambda_2)                     \n",
       "⎢⎪- ───────────────────────── + ───────────────────────── + r_{t2}  for \\lVert\n",
       "⎢⎪   2⋅\\lVert {\\Delta} \\rVert    2⋅\\lVert {\\Delta} \\rVert                     \n",
       "⎢⎨                                                                            \n",
       "⎢⎪                  Max(0, \\lambda_1)   Max(0, \\lambda_2)                     \n",
       "⎢⎪         r_{t2} + ───────────────── - ─────────────────           for \\lVert\n",
       "⎣⎩                          2                   2                             \n",
       "\n",
       "2)                                  ⎤\n",
       "──                                  ⎥\n",
       "                                    ⎥\n",
       "                                    ⎥\n",
       "                2                   ⎥\n",
       " {\\Delta} \\rVert  > \\epsilon⋅(μ + 1)⎥\n",
       "                                    ⎥\n",
       "                                    ⎥\n",
       "                2                   ⎥\n",
       " {\\Delta} \\rVert  ≤ \\epsilon⋅(μ + 1)⎥\n",
       "                                    ⎥\n",
       "                                    ⎥\n",
       "                2                   ⎥\n",
       " {\\Delta} \\rVert  > \\epsilon⋅(μ + 1)⎥\n",
       "                                    ⎥\n",
       "                                    ⎥\n",
       "                2                   ⎥\n",
       " {\\Delta} \\rVert  ≤ \\epsilon⋅(μ + 1)⎥\n",
       "                                    ⎦"
      ]
     },
     "execution_count": 16,
     "metadata": {},
     "output_type": "execute_result"
    }
   ],
   "source": [
    "add_split(make_readable(Fnat), [2], factor, factor)"
   ]
  },
  {
   "cell_type": "code",
   "execution_count": 17,
   "metadata": {
    "autoscroll": "json-false",
    "collapsed": false,
    "ein.tags": [
     "worksheet-0"
    ]
   },
   "outputs": [],
   "source": [
    "with open('codegen/tex/fnat.tex', 'w') as f:\n",
    "    f.write(latex(add_splitv(make_readable(Fnat), [[2], [1,0], [1,1]], factor, factor)))"
   ]
  },
  {
   "cell_type": "code",
   "execution_count": 18,
   "metadata": {
    "autoscroll": "json-false",
    "collapsed": false,
    "ein.tags": [
     "worksheet-0"
    ]
   },
   "outputs": [],
   "source": [
    "def nsimp(expr):\n",
    "    n_expr = expr\n",
    "    for subexpr in postorder_traversal(expr):\n",
    "        try:\n",
    "            simp_subexpr = nsimplify(subexpr)\n",
    "        except:\n",
    "            simp_subexpr = subexpr\n",
    "        if subexpr != simp_subexpr:\n",
    "            n_expr = n_expr.subs(subexpr, simp_subexpr)\n",
    "    return n_expr"
   ]
  },
  {
   "cell_type": "code",
   "execution_count": 19,
   "metadata": {
    "autoscroll": "json-false",
    "collapsed": false,
    "ein.tags": [
     "worksheet-0"
    ]
   },
   "outputs": [
    {
     "data": {
      "text/plain": []
     },
     "execution_count": 19,
     "metadata": {},
     "output_type": "execute_result"
    },
    {
     "name": "stdout",
     "output_type": "stream",
     "text": [
      "No remote temporary directory (option server_tmpdir) specified, using /tmp/ on bizet.inria.fr\n"
     ]
    }
   ],
   "source": [
    "from sympy import Symbol\n",
    "import imp\n",
    "import codegen.maple as maple_module\n",
    "imp.reload(maple_module)\n",
    "from codegen.maple import Maple, set_maple\n",
    "maple = Maple(server='bizet.inria.fr')\n",
    "set_maple(maple)\n",
    "t = Symbol('t', positive=True, real=True)\n",
    "maple_assumes = 'mu >= 0 and mu < 1 and rn >=0 and t > 0 and epsilon > 0'\n",
    "maple.assume(maple_assumes)\n"
   ]
  },
  {
   "cell_type": "code",
   "execution_count": 20,
   "metadata": {
    "autoscroll": "json-false",
    "collapsed": false,
    "ein.tags": [
     "worksheet-0"
    ]
   },
   "outputs": [
    {
     "data": {
      "text/plain": [
       "2*cos(2*t)"
      ]
     },
     "execution_count": 20,
     "metadata": {},
     "output_type": "execute_result"
    }
   ],
   "source": [
    "from codegen.maple import _mlimit\n",
    "maple(\"diff(sin(2*t), t)\")"
   ]
  },
  {
   "cell_type": "code",
   "execution_count": 21,
   "metadata": {
    "autoscroll": "json-false",
    "collapsed": false,
    "ein.tags": [
     "worksheet-0"
    ]
   },
   "outputs": [
    {
     "data": {
      "text/plain": [
       "0"
      ]
     },
     "execution_count": 21,
     "metadata": {},
     "output_type": "execute_result"
    }
   ],
   "source": [
    "from sympy import sin\n",
    "from codegen.maple import mlimit\n",
    "mlimit(sin(t), t, 0)"
   ]
  },
  {
   "cell_type": "code",
   "execution_count": 22,
   "metadata": {
    "autoscroll": "json-false",
    "collapsed": false,
    "ein.tags": [
     "worksheet-0"
    ]
   },
   "outputs": [],
   "source": [
    "A=Matrix(3, 3, lambda i, j: 0)"
   ]
  },
  {
   "cell_type": "markdown",
   "metadata": {
    "ein.tags": [
     "worksheet-0"
    ]
   },
   "source": [
    "## A[:, 0]"
   ]
  },
  {
   "cell_type": "code",
   "execution_count": 23,
   "metadata": {
    "autoscroll": "json-false",
    "collapsed": false,
    "ein.tags": [
     "worksheet-0"
    ]
   },
   "outputs": [
    {
     "data": {
      "text/plain": [
       "⎡                             Heaviside(\\lambda₁) + Heaviside(\\lambda₂)       \n",
       "⎢                             ─────────────────────────────────────────       \n",
       "⎢                                                 2                           \n",
       "⎢                                                                             \n",
       "⎢⎧\\Delta₁⋅(Heaviside(\\lambda₁) - Heaviside(\\lambda₂))                         \n",
       "⎢⎪───────────────────────────────────────────────────  for \\lVert {\\Delta} \\rV\n",
       "⎢⎪              2⋅\\lVert {\\Delta} \\rVert                                      \n",
       "⎢⎨                                                                            \n",
       "⎢⎪                                                                            \n",
       "⎢⎪                         0                           for \\lVert {\\Delta} \\rV\n",
       "⎢⎩                                                                            \n",
       "⎢                                                                             \n",
       "⎢⎧\\Delta₂⋅(Heaviside(\\lambda₁) - Heaviside(\\lambda₂))                         \n",
       "⎢⎪───────────────────────────────────────────────────  for \\lVert {\\Delta} \\rV\n",
       "⎢⎪              2⋅\\lVert {\\Delta} \\rVert                                      \n",
       "⎢⎨                                                                            \n",
       "⎢⎪   -(Heaviside(\\lambda₁) - Heaviside(\\lambda₂))                             \n",
       "⎢⎪   ─────────────────────────────────────────────     for \\lVert {\\Delta} \\rV\n",
       "⎣⎩                         2                                                  \n",
       "\n",
       "                       ⎤\n",
       "                       ⎥\n",
       "                       ⎥\n",
       "                       ⎥\n",
       "   2                   ⎥\n",
       "ert  > \\epsilon⋅(μ + 1)⎥\n",
       "                       ⎥\n",
       "                       ⎥\n",
       "   2                   ⎥\n",
       "ert  ≤ \\epsilon⋅(μ + 1)⎥\n",
       "                       ⎥\n",
       "                       ⎥\n",
       "   2                   ⎥\n",
       "ert  > \\epsilon⋅(μ + 1)⎥\n",
       "                       ⎥\n",
       "                       ⎥\n",
       "   2                   ⎥\n",
       "ert  ≤ \\epsilon⋅(μ + 1)⎥\n",
       "                       ⎦"
      ]
     },
     "execution_count": 23,
     "metadata": {},
     "output_type": "execute_result"
    }
   ],
   "source": [
    "add_splitv(make_readable(A_[:, 0]), [[2], [2,0], [2,0]], factor, factor)"
   ]
  },
  {
   "cell_type": "code",
   "execution_count": 24,
   "metadata": {
    "autoscroll": "json-false",
    "collapsed": false,
    "ein.tags": [
     "worksheet-0"
    ]
   },
   "outputs": [],
   "source": [
    "# the first column is ok\n",
    "A[:, 0] = A_[:, 0]"
   ]
  },
  {
   "cell_type": "code",
   "execution_count": 25,
   "metadata": {
    "autoscroll": "json-false",
    "collapsed": false,
    "ein.tags": [
     "worksheet-0"
    ]
   },
   "outputs": [],
   "source": [
    "with open('codegen/tex/A0_fnat.tex', 'w') as f:\n",
    "     f.write(latex(add_splitv(make_readable(A[:, 0]), [[2], [2,0], [2,0]], factor, factor)))"
   ]
  },
  {
   "cell_type": "markdown",
   "metadata": {
    "ein.tags": [
     "worksheet-0"
    ]
   },
   "source": [
    "## A[1, 1]"
   ]
  },
  {
   "cell_type": "code",
   "execution_count": 26,
   "metadata": {
    "autoscroll": "json-false",
    "collapsed": false,
    "ein.tags": [
     "worksheet-0"
    ]
   },
   "outputs": [
    {
     "data": {
      "text/plain": [
       "μ⋅(\\Delta₁⋅\\lVert {u_{t}} \\rVert⋅Heaviside(\\lambda₁) - \\Delta₁⋅\\lVert {u_{t}} \n",
       "──────────────────────────────────────────────────────────────────────────────\n",
       "                                                                              \n",
       "\n",
       "\\rVert⋅Heaviside(\\lambda₂) + \\lVert {\\Delta} \\rVert⋅u_{t1}⋅Heaviside(\\lambda₁)\n",
       "──────────────────────────────────────────────────────────────────────────────\n",
       "    2⋅\\lVert {\\Delta} \\rVert⋅\\lVert {u_{t}} \\rVert                            \n",
       "\n",
       " + \\lVert {\\Delta} \\rVert⋅u_{t1}⋅Heaviside(\\lambda₂))\n",
       "─────────────────────────────────────────────────────\n",
       "                                                     "
      ]
     },
     "execution_count": 26,
     "metadata": {},
     "output_type": "execute_result"
    }
   ],
   "source": [
    "factor(make_readable(A_[0, 1]))"
   ]
  },
  {
   "cell_type": "code",
   "execution_count": 26,
   "metadata": {
    "autoscroll": "json-false",
    "collapsed": false,
    "ein.tags": [
     "worksheet-0"
    ]
   },
   "outputs": [],
   "source": []
  },
  {
   "cell_type": "code",
   "execution_count": 27,
   "metadata": {
    "autoscroll": "json-false",
    "collapsed": false,
    "ein.tags": [
     "worksheet-0"
    ]
   },
   "outputs": [
    {
     "data": {
      "text/plain": [
       "0.25⋅μ⋅(√2⋅\\lVert {r_{t}} \\rVert⋅Heaviside(\\lambda_{1}__{\\prime}) + √2⋅\\lVert \n",
       "──────────────────────────────────────────────────────────────────────────────\n",
       "                                                                              \n",
       "\n",
       "{r_{t}} \\rVert⋅Heaviside(\\lambda_{2}__{\\prime}) - 2.0⋅r_{t1}⋅Heaviside(\\lambda\n",
       "──────────────────────────────────────────────────────────────────────────────\n",
       "                    \\lVert {r_{t}} \\rVert                                     \n",
       "\n",
       "_{1}__{\\prime}) + 2.0⋅r_{t1}⋅Heaviside(\\lambda_{2}__{\\prime}))\n",
       "──────────────────────────────────────────────────────────────\n",
       "                                                              "
      ]
     },
     "execution_count": 27,
     "metadata": {},
     "output_type": "execute_result"
    }
   ],
   "source": [
    "# we must apply the same limits or subsitution for all the jacobian\n",
    "# unfortunately substituing 0 for both ut1 and ut2 (in the same order) leads to some NaN\n",
    "from codegen.maple import mlimit\n",
    "make_readable(nsimp(mlimit(A_[0, 1].subs(ut1, t).subs(ut2, t), t, 0)))"
   ]
  },
  {
   "cell_type": "markdown",
   "metadata": {
    "ein.tags": [
     "worksheet-0"
    ]
   },
   "source": [
    "pour \\Delta_n différent de 0, ||u_t|| -> 0 (==> rt != 0)"
   ]
  },
  {
   "cell_type": "markdown",
   "metadata": {
    "ein.tags": [
     "worksheet-0"
    ]
   },
   "source": [
    "deltan\n",
    "-> 0"
   ]
  },
  {
   "cell_type": "code",
   "execution_count": 28,
   "metadata": {
    "autoscroll": "json-false",
    "collapsed": false,
    "ein.tags": [
     "worksheet-0"
    ]
   },
   "outputs": [
    {
     "data": {
      "text/plain": [
       "μ⋅r_{t1}⋅Heaviside(\\lambda_{1}__{\\prime})\n",
       "─────────────────────────────────────────\n",
       "          \\lVert {r_{t}} \\rVert          "
      ]
     },
     "execution_count": 28,
     "metadata": {},
     "output_type": "execute_result"
    }
   ],
   "source": [
    "from codegen.maple import mlimit\n",
    "make_readable((nsimp(mlimit(A_[0, 1].subs(ut1, (1+t)*rt1/mu).subs(ut2, (1+t)*rt2/mu), t, 0))))"
   ]
  },
  {
   "cell_type": "markdown",
   "metadata": {
    "ein.tags": [
     "worksheet-0"
    ]
   },
   "source": [
    "deltan -> 0 && ut -> 0 ==> rt -> 0"
   ]
  },
  {
   "cell_type": "code",
   "execution_count": 29,
   "metadata": {
    "autoscroll": "json-false",
    "collapsed": false,
    "ein.tags": [
     "worksheet-0"
    ]
   },
   "outputs": [
    {
     "data": {
      "text/plain": [
       "√2⋅μ⋅Heaviside(\\lambda_{1}__{\\prime\\prime})\n",
       "───────────────────────────────────────────\n",
       "                     2                     "
      ]
     },
     "execution_count": 29,
     "metadata": {},
     "output_type": "execute_result"
    }
   ],
   "source": [
    "make_readable(nsimp(mlimit(A_[0, 1].subs(ut1, t).subs(ut2, t).subs(rt1, t).subs(rt2, 0), t, 0)))\n"
   ]
  },
  {
   "cell_type": "code",
   "execution_count": 29,
   "metadata": {
    "autoscroll": "json-false",
    "collapsed": false,
    "ein.tags": [
     "worksheet-0"
    ]
   },
   "outputs": [],
   "source": []
  },
  {
   "cell_type": "code",
   "execution_count": 109,
   "metadata": {
    "autoscroll": "json-false",
    "collapsed": false,
    "ein.tags": [
     "worksheet-0"
    ]
   },
   "outputs": [],
   "source": [
    "from sympy import And, Or, Not, sqrt\n",
    "from codegen.maple import denoms, to_sympy\n",
    "\n",
    "def xsimplify(expr):\n",
    "    expr = fix_from_maple(expr)\n",
    "    return factor_try(simplify(expr), [2, 1/2, sqrt(2), 1/sqrt(2)])\n",
    "\n",
    "from sympy.core.numbers import NaN, Infinity, ComplexInfinity\n",
    "\n",
    "def isfinite(x):\n",
    "    return not(isinstance(x, NaN) or isinstance(x, Infinity) or isinstance(x, ComplexInfinity))\n",
    "\n",
    "rt_norm = sqrt(rt1**2+rt2**2)\n",
    "ut_norm = sqrt(ut1**2+ut2**2)\n",
    "delta_norm = sqrt((-mu*ut1+rt1)**2+(-mu*ut2+rt2)**2)\n",
    "\n",
    "# ||delta|| -> 0\n",
    "def denom_fixA(expr):\n",
    "    return {\n",
    "           2.0*mu**2 - 2.0*mu +1.0:(None, None),\n",
    "           2*mu**2 - 2*mu +1:(None, None),\n",
    "           2*mu**2 - 2.0*mu +1.0:(None, None),\n",
    "           rt_norm**2: (xsimplify(nsimp(mlimit(expr.subs(ut1, t).subs(ut2, t).subs(rt1, t).subs(rt2, 0), t, 0))), rt_norm**2 <= epsilon),\n",
    "           ut_norm**2: (xsimplify(nsimp(mlimit(expr.subs(ut1, t).subs(ut2, t), t, 0))), ut_norm**2 <= epsilon),\n",
    "           delta_norm**2: (xsimplify(nsimp(mlimit(expr.subs(ut1, (1+t*t)*rt1/mu).subs(ut2, (1+t)*rt2/mu), t, 0))), And(delta_norm**2 <= epsilon*(1+mu), ut_norm**2 >= epsilon)) }\n",
    "\n",
    "def denom_fixB(expr):\n",
    "    return {\n",
    "           2*mu**2 - 2*mu +1:(None, None),\n",
    "           rt_norm**2: (xsimplify(nsimp(mlimit(expr.subs(ut1, (1+t*t)*rt1/mu).subs(ut2, (1+t)*rt2/mu).subs(rt1, t).subs(rt2, 0), t, 0))), rt_norm**2 <= epsilon),\n",
    "           delta_norm**2: (xsimplify(nsimp(mlimit(expr.subs(ut1, (1+t*t)*rt1/mu).subs(ut2, (1+t)*rt2/mu), t, 0))), delta_norm**2 <= epsilon*(1+mu)) }\n",
    "\n",
    "similar_cases = { And(delta_norm**2 <= epsilon*(1+mu), rt_norm**2 <= epsilon): And(rt_norm**2 <= epsilon, ut_norm**2 <= epsilon) }\n",
    "\n",
    "def fix_similar_cases(expr):\n",
    "    if expr.is_Piecewise:\n",
    "       cases = []\n",
    "       conds = dict()\n",
    "       for e,c in expr.args:\n",
    "           if c in similar_cases:\n",
    "              c = similar_cases[c]\n",
    "           if c not in conds:\n",
    "              conds[c] = True\n",
    "              cases.append((e,c))\n",
    "       return Piecewise(*cases)\n",
    "    else:\n",
    "       return expr  \n",
    "\n",
    "def add_default_case(expr, cases):\n",
    "    if len(cases) > 0:\n",
    "       exprs, conds = zip(*cases)\n",
    "       if expr not in exprs:\n",
    "          cases.append((expr, (Not(Or(*conds)))))\n",
    "\n",
    "def fix_c(fixes, expr, cases):\n",
    "\n",
    "    for edenoms in denoms(expr):\n",
    "        edenoms = fix_from_maple(edenoms)\n",
    "        icases = []\n",
    "        try:\n",
    "            efix =fixes[edenoms]\n",
    "        except:\n",
    "            print edenoms\n",
    "            raise None\n",
    "        if not efix[0] is None:\n",
    "            fix_c(fixes, fix_from_maple(efix[0]), icases)\n",
    "            if len(icases) > 0:\n",
    "                add_default_case(efix[0], icases)\n",
    "                cases.append((Piecewise(*icases), efix[1]))\n",
    "            else:\n",
    "                cases.append(efix)\n",
    "\n",
    "def natfixA(expr):\n",
    "    cases = []\n",
    "    fixes = denom_fixA(expr)\n",
    "    fix_c(fixes, expr, cases)\n",
    "    add_default_case(expr, cases)\n",
    "    if len(cases) > 0:\n",
    "        return fix_similar_cases(flatten_piecewise(Piecewise(*cases).subs(sqrt(2*rt1**2+2*rt2**2), sqrt(2)*rt_norm)))\n",
    "    else:\n",
    "        return expr\n",
    "\n",
    "def natfixB(expr):\n",
    "    cases = []\n",
    "    fixes = denom_fixB(expr)\n",
    "    fix_c(fixes, expr, cases)\n",
    "    add_default_case(expr, cases)\n",
    "    if len(cases) > 0:\n",
    "        return flatten_piecewise(Piecewise(*cases).subs(sqrt(2*rt1**2+2*rt2**2), sqrt(2)*rt_norm))\n",
    "    else:\n",
    "        return expr\n"
   ]
  },
  {
   "cell_type": "code",
   "execution_count": 106,
   "metadata": {
    "autoscroll": "json-false",
    "collapsed": false,
    "ein.tags": [
     "worksheet-0"
    ]
   },
   "outputs": [
    {
     "data": {
      "text/plain": [
       "⎧                         2      2    \n",
       "⎪       1          for rt₁  + rt₂  ≤ ε\n",
       "⎪                                     \n",
       "⎪      rt₁                2      2    \n",
       "⎨────────────────  for rt₁  + rt₂  > ε\n",
       "⎪   _____________                     \n",
       "⎪  ╱    2      2                      \n",
       "⎪╲╱  rt₁  + rt₂                       \n",
       "⎩                                     "
      ]
     },
     "execution_count": 106,
     "metadata": {},
     "output_type": "execute_result"
    }
   ],
   "source": [
    "natfixA(rt1/sqrt(rt1**2+rt2**2))"
   ]
  },
  {
   "cell_type": "code",
   "execution_count": 32,
   "metadata": {
    "autoscroll": "json-false",
    "collapsed": false,
    "ein.tags": [
     "worksheet-0"
    ]
   },
   "outputs": [
    {
     "data": {
      "text/plain": [
       "⎧                                                                             \n",
       "⎪                                                                             \n",
       "⎪                                                                             \n",
       "⎪                                                                             \n",
       "⎪                              ⎛                   ⎛                       ___\n",
       "⎪                              ⎜                   ⎜                      ╱   \n",
       "⎪                       0.25⋅μ⋅⎝- 2.0⋅rt₁⋅Heaviside⎝μ⋅rn - 1.0⋅un - 1.0⋅╲╱  rt\n",
       "⎪                       ──────────────────────────────────────────────────────\n",
       "⎪                                                                             \n",
       "⎪                                                                             \n",
       "⎪                                                                             \n",
       "⎪                                                                             \n",
       "⎪                                                                             \n",
       "⎪                                                                             \n",
       "⎪                                                                             \n",
       "⎨                                                                             \n",
       "⎪                                                                             \n",
       "⎪                                                                             \n",
       "⎪                                                                             \n",
       "⎪                                                                             \n",
       "⎪                                                                             \n",
       "⎪                                                                             \n",
       "⎪                                                                             \n",
       "⎪                                                                             \n",
       "⎪                                                                             \n",
       "⎪      ⎛       μ⋅ut₁                    μ⋅(-μ⋅ut₁ + rt₁)           ⎞          \n",
       "⎪- 0.5⋅⎜- ──────────────── - ──────────────────────────────────────⎟⋅Heaviside\n",
       "⎪      ⎜     _____________      ___________________________________⎟          \n",
       "⎪      ⎜    ╱    2      2      ╱               2                 2 ⎟          \n",
       "⎪      ⎝  ╲╱  ut₁  + ut₂     ╲╱  (-μ⋅ut₁ + rt₁)  + (-μ⋅ut₂ + rt₂)  ⎠          \n",
       "⎩                                                                             \n",
       "\n",
       "                                                           √2⋅μ⋅Heaviside(μ⋅rn\n",
       "                                                           ───────────────────\n",
       "                                                                         2    \n",
       "                                                                              \n",
       "__________⎞                  ⎛                   _____________⎞         ______\n",
       " 2      2 ⎟                  ⎜                  ╱    2      2 ⎟        ╱    2 \n",
       "₁  + rt₂  ⎠ + 2⋅rt₁⋅Heaviside⎝μ⋅rn - 1.0⋅un + ╲╱  rt₁  + rt₂  ⎠ + √2⋅╲╱  rt₁  \n",
       "──────────────────────────────────────────────────────────────────────────────\n",
       "                                                                    __________\n",
       "                                                                   ╱    2     \n",
       "                                                                 ╲╱  rt₁  + rt\n",
       "                                                                              \n",
       "                                                           √2⋅μ⋅Heaviside(μ⋅rn\n",
       "                                                           ───────────────────\n",
       "                                                                         2    \n",
       "                                                                              \n",
       "                                                              ⎛               \n",
       "                                                              ⎜               \n",
       "                                               μ⋅rt₁⋅Heaviside⎝μ⋅rn - 1.0⋅un -\n",
       "                                               ───────────────────────────────\n",
       "                                                                     _________\n",
       "                                                                    ╱    2    \n",
       "                                                                  ╲╱  rt₁  + r\n",
       "                                                                              \n",
       "⎛            _____________           ___________________________________⎞     \n",
       "⎜           ╱    2      2           ╱               2                 2 ⎟     \n",
       "⎝μ⋅rn - μ⋅╲╱  ut₁  + ut₂   - un + ╲╱  (-μ⋅ut₁ + rt₁)  + (-μ⋅ut₂ + rt₂)  ⎠ - 0.\n",
       "                                                                              \n",
       "                                                                              \n",
       "                                                                              \n",
       "                                                                              \n",
       "\n",
       " - 1.0⋅un)                                                                    \n",
       "──────────                                                                    \n",
       "                                                                              \n",
       "                                                                              \n",
       "_______          ⎛                       _____________⎞         _____________ \n",
       "     2           ⎜                      ╱    2      2 ⎟        ╱    2      2  \n",
       "+ rt₂  ⋅Heaviside⎝μ⋅rn - 1.0⋅un - 1.0⋅╲╱  rt₁  + rt₂  ⎠ + √2⋅╲╱  rt₁  + rt₂  ⋅\n",
       "──────────────────────────────────────────────────────────────────────────────\n",
       "___                                                                           \n",
       " 2                                                                            \n",
       "₂                                                                             \n",
       "                                                                              \n",
       " - 1.0⋅un)                                                                    \n",
       "──────────                                                                    \n",
       "                                                                              \n",
       "                                                                              \n",
       "        _____________⎞                                                        \n",
       "       ╱    2      2 ⎟                                                        \n",
       " 1.0⋅╲╱  rt₁  + rt₂  ⎠                                                        \n",
       "──────────────────────                                                        \n",
       "____                                                                          \n",
       "  2                                                                           \n",
       "t₂                                                                            \n",
       "                                                                              \n",
       "                                                                         ⎛    \n",
       "  ⎛       μ⋅ut₁                    μ⋅(-μ⋅ut₁ + rt₁)           ⎞          ⎜    \n",
       "5⋅⎜- ──────────────── + ──────────────────────────────────────⎟⋅Heaviside⎝μ⋅rn\n",
       "  ⎜     _____________      ___________________________________⎟               \n",
       "  ⎜    ╱    2      2      ╱               2                 2 ⎟               \n",
       "  ⎝  ╲╱  ut₁  + ut₂     ╲╱  (-μ⋅ut₁ + rt₁)  + (-μ⋅ut₂ + rt₂)  ⎠               \n",
       "                                                                              \n",
       "\n",
       "                                                                              \n",
       "                                                                              \n",
       "                                                                              \n",
       "                                                                              \n",
       "         ⎛                   _____________⎞⎞                                  \n",
       "         ⎜                  ╱    2      2 ⎟⎟                                  \n",
       "Heaviside⎝μ⋅rn - 1.0⋅un + ╲╱  rt₁  + rt₂  ⎠⎠                                  \n",
       "────────────────────────────────────────────                                  \n",
       "                                                                              \n",
       "                                                                              \n",
       "                                                                              \n",
       "                                                                              \n",
       "                                                                              \n",
       "                                                                        for ut\n",
       "                                                                              \n",
       "                                                                              \n",
       "                                                                              \n",
       "                                                                              \n",
       "                                                                              \n",
       "                                                                        for ut\n",
       "                                                                              \n",
       "                                                                              \n",
       "                                                                              \n",
       "                                                                              \n",
       "        _____________           ___________________________________⎞          \n",
       "       ╱    2      2           ╱               2                 2 ⎟       ⎛⎛ \n",
       " - μ⋅╲╱  ut₁  + ut₂   - un - ╲╱  (-μ⋅ut₁ + rt₁)  + (-μ⋅ut₂ + rt₂)  ⎠  for ¬⎝⎝u\n",
       "                                                                              \n",
       "                                                                              \n",
       "                                                                              \n",
       "                                                                              \n",
       "\n",
       "                         2      2          2      2                           \n",
       "                  for rt₁  + rt₂  ≤ ε ∧ ut₁  + ut₂  ≤ ε                       \n",
       "                                                                              \n",
       "                                                                              \n",
       "                                                                              \n",
       "                                                                              \n",
       "                         2      2          2      2                           \n",
       "                  for ut₁  + ut₂  ≤ ε ∧ rt₁  + rt₂  > ε                       \n",
       "                                                                              \n",
       "                                                                              \n",
       "                                                                              \n",
       "                                                                              \n",
       " 2      2          2      2                     2                 2           \n",
       "₁  + ut₂  ≥ ε ∧ rt₁  + rt₂  ≤ ε ∧ (-μ⋅ut₁ + rt₁)  + (-μ⋅ut₂ + rt₂)  ≤ ε⋅(μ + 1\n",
       "                                                                              \n",
       "                                                                              \n",
       "                                                                              \n",
       "                                                                              \n",
       " 2      2                     2                 2                  2      2   \n",
       "₁  + ut₂  ≥ ε ∧ (-μ⋅ut₁ + rt₁)  + (-μ⋅ut₂ + rt₂)  ≤ ε⋅(μ + 1) ∧ rt₁  + rt₂  > \n",
       "                                                                              \n",
       "                                                                              \n",
       "                                                                              \n",
       "                                                                              \n",
       "                                                                              \n",
       "  2      2                     2                 2            ⎞      2      2 \n",
       "t₁  + ut₂  ≥ ε ∧ (-μ⋅ut₁ + rt₁)  + (-μ⋅ut₂ + rt₂)  ≤ ε⋅(μ + 1)⎠ ∨ ut₁  + ut₂  \n",
       "                                                                              \n",
       "                                                                              \n",
       "                                                                              \n",
       "                                                                              \n",
       "\n",
       "    \n",
       "    \n",
       "    \n",
       "    \n",
       "    \n",
       "    \n",
       "    \n",
       "    \n",
       "    \n",
       "    \n",
       "    \n",
       "    \n",
       "    \n",
       ")   \n",
       "    \n",
       "    \n",
       "    \n",
       "    \n",
       "    \n",
       "ε   \n",
       "    \n",
       "    \n",
       "    \n",
       "    \n",
       "    \n",
       "   ⎞\n",
       "≤ ε⎠\n",
       "    \n",
       "    \n",
       "    \n",
       "    "
      ]
     },
     "execution_count": 32,
     "metadata": {},
     "output_type": "execute_result"
    }
   ],
   "source": [
    "natfixA(A_[0, 1])"
   ]
  },
  {
   "cell_type": "code",
   "execution_count": 33,
   "metadata": {
    "autoscroll": "json-false",
    "collapsed": false,
    "ein.tags": [
     "worksheet-0"
    ]
   },
   "outputs": [],
   "source": [
    "A[0, 1] = natfixA(A_[0, 1])"
   ]
  },
  {
   "cell_type": "code",
   "execution_count": 34,
   "metadata": {
    "autoscroll": "json-false",
    "collapsed": false,
    "ein.tags": [
     "worksheet-0"
    ]
   },
   "outputs": [
    {
     "data": {
      "text/plain": [
       "⎧                                                                             \n",
       "⎪                                                                             \n",
       "⎪                                                                             \n",
       "⎪                                                                             \n",
       "⎪0.25⋅μ⋅(√2⋅\\lVert {r_{t}} \\rVert⋅Heaviside(\\lambda_{1}__{\\prime}) + √2⋅\\lVert\n",
       "⎪─────────────────────────────────────────────────────────────────────────────\n",
       "⎪                                                                             \n",
       "⎪                                                                             \n",
       "⎪                                                                             \n",
       "⎪                                                                             \n",
       "⎨                                                                             \n",
       "⎪                                                                             \n",
       "⎪                                                                             \n",
       "⎪                                                                             \n",
       "⎪                                                                             \n",
       "⎪                                                                             \n",
       "⎪                                      ⎛        \\Delta₁⋅μ                 μ⋅u_\n",
       "⎪                                      ⎜- ────────────────────── - ───────────\n",
       "⎪                                      ⎝  \\lVert {\\Delta} \\rVert   \\lVert {u_{\n",
       "⎪                                    - ───────────────────────────────────────\n",
       "⎩                                                                        2    \n",
       "\n",
       "         √2⋅μ⋅Heaviside(\\lambda_{1}__{\\prime\\prime})                          \n",
       "         ───────────────────────────────────────────                          \n",
       "                              2                                               \n",
       "                                                                              \n",
       " {r_{t}} \\rVert⋅Heaviside(\\lambda_{2}__{\\prime}) - 2.0⋅r_{t1}⋅Heaviside(\\lambd\n",
       "──────────────────────────────────────────────────────────────────────────────\n",
       "                    \\lVert {r_{t}} \\rVert                                     \n",
       "                                                                              \n",
       "         √2⋅μ⋅Heaviside(\\lambda_{1}__{\\prime\\prime})                          \n",
       "         ───────────────────────────────────────────                          \n",
       "                              2                                               \n",
       "                                                                              \n",
       "          μ⋅r_{t1}⋅Heaviside(\\lambda_{1}__{\\prime})                           \n",
       "          ─────────────────────────────────────────                           \n",
       "                    \\lVert {r_{t}} \\rVert                                     \n",
       "                                                                              \n",
       "{t1}      ⎞                       ⎛      \\Delta₁⋅μ                 μ⋅u_{t1}   \n",
       "──────────⎟⋅Heaviside(\\lambda₁)   ⎜────────────────────── - ──────────────────\n",
       "t}} \\rVert⎠                       ⎝\\lVert {\\Delta} \\rVert   \\lVert {u_{t}} \\rV\n",
       "─────────────────────────────── - ────────────────────────────────────────────\n",
       "                                                                   2          \n",
       "\n",
       "                                                                              \n",
       "                                                                              \n",
       "                                                                              \n",
       "                                                                              \n",
       "a_{1}__{\\prime}) + 2⋅r_{t1}⋅Heaviside(\\lambda_{2}__{\\prime}))                 \n",
       "─────────────────────────────────────────────────────────────                 \n",
       "                                                                              \n",
       "                                                                              \n",
       "                                                                              \n",
       "                                                                 for \\lVert {u\n",
       "                                                                              \n",
       "                                                                              \n",
       "                                                                              \n",
       "                                                                 for \\lVert {u\n",
       "                                                                              \n",
       "                                                                              \n",
       "   ⎞                                                                          \n",
       "───⎟⋅Heaviside(\\lambda₂)                                                      \n",
       "ert⎠                                                                ⎛⎛        \n",
       "────────────────────────                                       for ¬⎝⎝\\lVert {\n",
       "                                                                              \n",
       "\n",
       "                                   2                                   2      \n",
       "          for \\lVert {r_{t}} \\rVert  ≤ \\epsilon ∧ \\lVert {u_{t}} \\rVert  ≤ \\ep\n",
       "                                                                              \n",
       "                                                                              \n",
       "                                   2                                   2      \n",
       "          for \\lVert {u_{t}} \\rVert  ≤ \\epsilon ∧ \\lVert {r_{t}} \\rVert  > \\ep\n",
       "                                                                              \n",
       "                                                                              \n",
       "            2                                    2                            \n",
       "_{t}} \\rVert  ≥ \\epsilon ∧ \\lVert {\\Delta} \\rVert  ≤ \\epsilon⋅(μ + 1) ∧ \\lVert\n",
       "                                                                              \n",
       "                                                                              \n",
       "            2                                    2                            \n",
       "_{t}} \\rVert  ≥ \\epsilon ∧ \\lVert {\\Delta} \\rVert  ≤ \\epsilon⋅(μ + 1) ∧ \\lVert\n",
       "                                                                              \n",
       "                                                                              \n",
       "                                                                              \n",
       "                                                                              \n",
       "             2                                    2                   ⎞       \n",
       "u_{t}} \\rVert  ≥ \\epsilon ∧ \\lVert {\\Delta} \\rVert  ≤ \\epsilon⋅(μ + 1)⎠ ∨ \\lVe\n",
       "                                                                              \n",
       "\n",
       "                              \n",
       "silon                         \n",
       "                              \n",
       "                              \n",
       "                              \n",
       "silon                         \n",
       "                              \n",
       "                              \n",
       "               2              \n",
       " {r_{t}} \\rVert  ≤ \\epsilon   \n",
       "                              \n",
       "                              \n",
       "               2              \n",
       " {r_{t}} \\rVert  > \\epsilon   \n",
       "                              \n",
       "                              \n",
       "                              \n",
       "                              \n",
       "                 2           ⎞\n",
       "rt {u_{t}} \\rVert  ≤ \\epsilon⎠\n",
       "                              "
      ]
     },
     "execution_count": 34,
     "metadata": {},
     "output_type": "execute_result"
    }
   ],
   "source": [
    "     \n",
    "make_readable(A[0, 1])"
   ]
  },
  {
   "cell_type": "code",
   "execution_count": 35,
   "metadata": {
    "autoscroll": "json-false",
    "collapsed": false,
    "ein.tags": [
     "worksheet-0"
    ]
   },
   "outputs": [],
   "source": [
    "with open('codegen/tex/A01_fnat.tex', 'w') as f:\n",
    "     f.write(latex(nsimp(make_readable(A[0, 1]))))"
   ]
  },
  {
   "cell_type": "markdown",
   "metadata": {
    "ein.tags": [
     "worksheet-0"
    ]
   },
   "source": [
    "## A[0, 2]"
   ]
  },
  {
   "cell_type": "code",
   "execution_count": 36,
   "metadata": {
    "autoscroll": "json-false",
    "collapsed": false,
    "ein.tags": [
     "worksheet-0"
    ]
   },
   "outputs": [
    {
     "data": {
      "text/plain": [
       "  ⎛        \\Delta₂⋅μ                 μ⋅u_{t2}      ⎞                       ⎛  \n",
       "  ⎜- ────────────────────── - ─────────────────────⎟⋅Heaviside(\\lambda₁)   ⎜──\n",
       "  ⎝  \\lVert {\\Delta} \\rVert   \\lVert {u_{t}} \\rVert⎠                       ⎝\\l\n",
       "- ────────────────────────────────────────────────────────────────────── - ───\n",
       "                                    2                                         \n",
       "\n",
       "    \\Delta₂⋅μ                 μ⋅u_{t2}      ⎞                    \n",
       "──────────────────── - ─────────────────────⎟⋅Heaviside(\\lambda₂)\n",
       "Vert {\\Delta} \\rVert   \\lVert {u_{t}} \\rVert⎠                    \n",
       "─────────────────────────────────────────────────────────────────\n",
       "                              2                                  "
      ]
     },
     "execution_count": 36,
     "metadata": {},
     "output_type": "execute_result"
    }
   ],
   "source": [
    "make_readable(A_[0,2])"
   ]
  },
  {
   "cell_type": "code",
   "execution_count": 37,
   "metadata": {
    "autoscroll": "json-false",
    "collapsed": false,
    "ein.tags": [
     "worksheet-0"
    ]
   },
   "outputs": [
    {
     "data": {
      "text/plain": [
       "⎧                                                                             \n",
       "⎪                                                                             \n",
       "⎪                                                                             \n",
       "⎪                                                                             \n",
       "⎪                              ⎛                   ⎛                       ___\n",
       "⎪                              ⎜                   ⎜                      ╱   \n",
       "⎪                       0.25⋅μ⋅⎝- 2.0⋅rt₂⋅Heaviside⎝μ⋅rn - 1.0⋅un - 1.0⋅╲╱  rt\n",
       "⎪                       ──────────────────────────────────────────────────────\n",
       "⎪                                                                             \n",
       "⎪                                                                             \n",
       "⎪                                                                             \n",
       "⎪                                                                             \n",
       "⎪                                                                             \n",
       "⎪                                                                             \n",
       "⎪                                                                             \n",
       "⎨                                                                             \n",
       "⎪                                                                             \n",
       "⎪                                                                             \n",
       "⎪                                                                             \n",
       "⎪                                                                             \n",
       "⎪                                                                             \n",
       "⎪                                                                             \n",
       "⎪                                                                             \n",
       "⎪                                                                             \n",
       "⎪                                                                             \n",
       "⎪      ⎛       μ⋅ut₂                    μ⋅(-μ⋅ut₂ + rt₂)           ⎞          \n",
       "⎪- 0.5⋅⎜- ──────────────── - ──────────────────────────────────────⎟⋅Heaviside\n",
       "⎪      ⎜     _____________      ___________________________________⎟          \n",
       "⎪      ⎜    ╱    2      2      ╱               2                 2 ⎟          \n",
       "⎪      ⎝  ╲╱  ut₁  + ut₂     ╲╱  (-μ⋅ut₁ + rt₁)  + (-μ⋅ut₂ + rt₂)  ⎠          \n",
       "⎩                                                                             \n",
       "\n",
       "                                                           √2⋅μ⋅Heaviside(μ⋅rn\n",
       "                                                           ───────────────────\n",
       "                                                                         2    \n",
       "                                                                              \n",
       "__________⎞                  ⎛                   _____________⎞         ______\n",
       " 2      2 ⎟                  ⎜                  ╱    2      2 ⎟        ╱    2 \n",
       "₁  + rt₂  ⎠ + 2⋅rt₂⋅Heaviside⎝μ⋅rn - 1.0⋅un + ╲╱  rt₁  + rt₂  ⎠ + √2⋅╲╱  rt₁  \n",
       "──────────────────────────────────────────────────────────────────────────────\n",
       "                                                                    __________\n",
       "                                                                   ╱    2     \n",
       "                                                                 ╲╱  rt₁  + rt\n",
       "                                                                              \n",
       "                                                           √2⋅μ⋅Heaviside(μ⋅rn\n",
       "                                                           ───────────────────\n",
       "                                                                         2    \n",
       "                                                                              \n",
       "                                                              ⎛               \n",
       "                                                              ⎜               \n",
       "                                               μ⋅rt₂⋅Heaviside⎝μ⋅rn - 1.0⋅un -\n",
       "                                               ───────────────────────────────\n",
       "                                                                     _________\n",
       "                                                                    ╱    2    \n",
       "                                                                  ╲╱  rt₁  + r\n",
       "                                                                              \n",
       "⎛            _____________           ___________________________________⎞     \n",
       "⎜           ╱    2      2           ╱               2                 2 ⎟     \n",
       "⎝μ⋅rn - μ⋅╲╱  ut₁  + ut₂   - un + ╲╱  (-μ⋅ut₁ + rt₁)  + (-μ⋅ut₂ + rt₂)  ⎠ - 0.\n",
       "                                                                              \n",
       "                                                                              \n",
       "                                                                              \n",
       "                                                                              \n",
       "\n",
       " - 1.0⋅un)                                                                    \n",
       "──────────                                                                    \n",
       "                                                                              \n",
       "                                                                              \n",
       "_______          ⎛                       _____________⎞         _____________ \n",
       "     2           ⎜                      ╱    2      2 ⎟        ╱    2      2  \n",
       "+ rt₂  ⋅Heaviside⎝μ⋅rn - 1.0⋅un - 1.0⋅╲╱  rt₁  + rt₂  ⎠ + √2⋅╲╱  rt₁  + rt₂  ⋅\n",
       "──────────────────────────────────────────────────────────────────────────────\n",
       "___                                                                           \n",
       " 2                                                                            \n",
       "₂                                                                             \n",
       "                                                                              \n",
       " - 1.0⋅un)                                                                    \n",
       "──────────                                                                    \n",
       "                                                                              \n",
       "                                                                              \n",
       "        _____________⎞                                                        \n",
       "       ╱    2      2 ⎟                                                        \n",
       " 1.0⋅╲╱  rt₁  + rt₂  ⎠                                                        \n",
       "──────────────────────                                                        \n",
       "____                                                                          \n",
       "  2                                                                           \n",
       "t₂                                                                            \n",
       "                                                                              \n",
       "                                                                         ⎛    \n",
       "  ⎛       μ⋅ut₂                    μ⋅(-μ⋅ut₂ + rt₂)           ⎞          ⎜    \n",
       "5⋅⎜- ──────────────── + ──────────────────────────────────────⎟⋅Heaviside⎝μ⋅rn\n",
       "  ⎜     _____________      ___________________________________⎟               \n",
       "  ⎜    ╱    2      2      ╱               2                 2 ⎟               \n",
       "  ⎝  ╲╱  ut₁  + ut₂     ╲╱  (-μ⋅ut₁ + rt₁)  + (-μ⋅ut₂ + rt₂)  ⎠               \n",
       "                                                                              \n",
       "\n",
       "                                                                              \n",
       "                                                                              \n",
       "                                                                              \n",
       "                                                                              \n",
       "         ⎛                   _____________⎞⎞                                  \n",
       "         ⎜                  ╱    2      2 ⎟⎟                                  \n",
       "Heaviside⎝μ⋅rn - 1.0⋅un + ╲╱  rt₁  + rt₂  ⎠⎠                                  \n",
       "────────────────────────────────────────────                                  \n",
       "                                                                              \n",
       "                                                                              \n",
       "                                                                              \n",
       "                                                                              \n",
       "                                                                              \n",
       "                                                                        for ut\n",
       "                                                                              \n",
       "                                                                              \n",
       "                                                                              \n",
       "                                                                              \n",
       "                                                                              \n",
       "                                                                        for ut\n",
       "                                                                              \n",
       "                                                                              \n",
       "                                                                              \n",
       "                                                                              \n",
       "        _____________           ___________________________________⎞          \n",
       "       ╱    2      2           ╱               2                 2 ⎟       ⎛⎛ \n",
       " - μ⋅╲╱  ut₁  + ut₂   - un - ╲╱  (-μ⋅ut₁ + rt₁)  + (-μ⋅ut₂ + rt₂)  ⎠  for ¬⎝⎝u\n",
       "                                                                              \n",
       "                                                                              \n",
       "                                                                              \n",
       "                                                                              \n",
       "\n",
       "                         2      2          2      2                           \n",
       "                  for rt₁  + rt₂  ≤ ε ∧ ut₁  + ut₂  ≤ ε                       \n",
       "                                                                              \n",
       "                                                                              \n",
       "                                                                              \n",
       "                                                                              \n",
       "                         2      2          2      2                           \n",
       "                  for ut₁  + ut₂  ≤ ε ∧ rt₁  + rt₂  > ε                       \n",
       "                                                                              \n",
       "                                                                              \n",
       "                                                                              \n",
       "                                                                              \n",
       " 2      2          2      2                     2                 2           \n",
       "₁  + ut₂  ≥ ε ∧ rt₁  + rt₂  ≤ ε ∧ (-μ⋅ut₁ + rt₁)  + (-μ⋅ut₂ + rt₂)  ≤ ε⋅(μ + 1\n",
       "                                                                              \n",
       "                                                                              \n",
       "                                                                              \n",
       "                                                                              \n",
       " 2      2                     2                 2                  2      2   \n",
       "₁  + ut₂  ≥ ε ∧ (-μ⋅ut₁ + rt₁)  + (-μ⋅ut₂ + rt₂)  ≤ ε⋅(μ + 1) ∧ rt₁  + rt₂  > \n",
       "                                                                              \n",
       "                                                                              \n",
       "                                                                              \n",
       "                                                                              \n",
       "                                                                              \n",
       "  2      2                     2                 2            ⎞      2      2 \n",
       "t₁  + ut₂  ≥ ε ∧ (-μ⋅ut₁ + rt₁)  + (-μ⋅ut₂ + rt₂)  ≤ ε⋅(μ + 1)⎠ ∨ ut₁  + ut₂  \n",
       "                                                                              \n",
       "                                                                              \n",
       "                                                                              \n",
       "                                                                              \n",
       "\n",
       "    \n",
       "    \n",
       "    \n",
       "    \n",
       "    \n",
       "    \n",
       "    \n",
       "    \n",
       "    \n",
       "    \n",
       "    \n",
       "    \n",
       "    \n",
       ")   \n",
       "    \n",
       "    \n",
       "    \n",
       "    \n",
       "    \n",
       "ε   \n",
       "    \n",
       "    \n",
       "    \n",
       "    \n",
       "    \n",
       "   ⎞\n",
       "≤ ε⎠\n",
       "    \n",
       "    \n",
       "    \n",
       "    "
      ]
     },
     "execution_count": 37,
     "metadata": {},
     "output_type": "execute_result"
    }
   ],
   "source": [
    "\n",
    "natfixA(A_[0, 2])\n"
   ]
  },
  {
   "cell_type": "markdown",
   "metadata": {
    "ein.tags": [
     "worksheet-0"
    ]
   },
   "source": [
    "deltan != 0, ut -> 0"
   ]
  },
  {
   "cell_type": "code",
   "execution_count": 38,
   "metadata": {
    "autoscroll": "json-false",
    "collapsed": false,
    "ein.tags": [
     "worksheet-0"
    ]
   },
   "outputs": [
    {
     "data": {
      "text/plain": [
       "  _______________________\n",
       "╲╱ \\lambda_{1}__{\\prime} "
      ]
     },
     "execution_count": 38,
     "metadata": {},
     "output_type": "execute_result"
    }
   ],
   "source": [
    "make_readable(nsimp(sqrt(lambda1_0)))"
   ]
  },
  {
   "cell_type": "code",
   "execution_count": 39,
   "metadata": {
    "autoscroll": "json-false",
    "collapsed": false,
    "ein.tags": [
     "worksheet-0"
    ]
   },
   "outputs": [
    {
     "data": {
      "text/plain": [
       "⎧                                                                             \n",
       "⎪                                                                             \n",
       "⎪                                                                             \n",
       "⎪                                                                             \n",
       "⎪0.25⋅μ⋅(√2⋅\\lVert {r_{t}} \\rVert⋅Heaviside(\\lambda_{1}__{\\prime}) + √2⋅\\lVert\n",
       "⎪─────────────────────────────────────────────────────────────────────────────\n",
       "⎪                                                                             \n",
       "⎪                                                                             \n",
       "⎪                                                                             \n",
       "⎪                                                                             \n",
       "⎨                                                                             \n",
       "⎪                                                                             \n",
       "⎪                                                                             \n",
       "⎪                                                                             \n",
       "⎪                                                                             \n",
       "⎪                                                                             \n",
       "⎪                                     ⎛        \\Delta₂⋅μ                 μ⋅u_{\n",
       "⎪                                     ⎜- ────────────────────── - ────────────\n",
       "⎪                                     ⎝  \\lVert {\\Delta} \\rVert   \\lVert {u_{t\n",
       "⎪                                   - ────────────────────────────────────────\n",
       "⎩                                                                       2     \n",
       "\n",
       "        √2⋅μ⋅Heaviside(\\lambda_{1}__{\\prime\\prime})                           \n",
       "        ───────────────────────────────────────────                           \n",
       "                             2                                                \n",
       "                                                                              \n",
       " {r_{t}} \\rVert⋅Heaviside(\\lambda_{2}__{\\prime}) - 2⋅r_{t2}⋅Heaviside(\\lambda_\n",
       "──────────────────────────────────────────────────────────────────────────────\n",
       "                   \\lVert {r_{t}} \\rVert                                      \n",
       "                                                                              \n",
       "        √2⋅μ⋅Heaviside(\\lambda_{1}__{\\prime\\prime})                           \n",
       "        ───────────────────────────────────────────                           \n",
       "                             2                                                \n",
       "                                                                              \n",
       "         μ⋅r_{t2}⋅Heaviside(\\lambda_{1}__{\\prime})                            \n",
       "         ─────────────────────────────────────────                            \n",
       "                   \\lVert {r_{t}} \\rVert                                      \n",
       "                                                                              \n",
       "t2}      ⎞                       ⎛      \\Delta₂⋅μ                 μ⋅u_{t2}    \n",
       "─────────⎟⋅Heaviside(\\lambda₁)   ⎜────────────────────── - ───────────────────\n",
       "}} \\rVert⎠                       ⎝\\lVert {\\Delta} \\rVert   \\lVert {u_{t}} \\rVe\n",
       "────────────────────────────── - ─────────────────────────────────────────────\n",
       "                                                                  2           \n",
       "\n",
       "                                                                              \n",
       "                                                                              \n",
       "                                                                              \n",
       "                                                                              \n",
       "{1}__{\\prime}) + 2⋅r_{t2}⋅Heaviside(\\lambda_{2}__{\\prime}))                   \n",
       "───────────────────────────────────────────────────────────                   \n",
       "                                                                              \n",
       "                                                                              \n",
       "                                                                              \n",
       "                                                               for \\lVert {u_{\n",
       "                                                                              \n",
       "                                                                              \n",
       "                                                                              \n",
       "                                                               for \\lVert {u_{\n",
       "                                                                              \n",
       "                                                                              \n",
       "  ⎞                                                                           \n",
       "──⎟⋅Heaviside(\\lambda₂)                                                       \n",
       "rt⎠                                                               ⎛⎛          \n",
       "───────────────────────                                      for ¬⎝⎝\\lVert {u_\n",
       "                                                                              \n",
       "\n",
       "                                 2                                   2        \n",
       "        for \\lVert {r_{t}} \\rVert  ≤ \\epsilon ∧ \\lVert {u_{t}} \\rVert  ≤ \\epsi\n",
       "                                                                              \n",
       "                                                                              \n",
       "                                 2                                   2        \n",
       "        for \\lVert {u_{t}} \\rVert  ≤ \\epsilon ∧ \\lVert {r_{t}} \\rVert  > \\epsi\n",
       "                                                                              \n",
       "                                                                              \n",
       "          2                                    2                              \n",
       "t}} \\rVert  ≥ \\epsilon ∧ \\lVert {\\Delta} \\rVert  ≤ \\epsilon⋅(μ + 1) ∧ \\lVert {\n",
       "                                                                              \n",
       "                                                                              \n",
       "          2                                    2                              \n",
       "t}} \\rVert  ≥ \\epsilon ∧ \\lVert {\\Delta} \\rVert  ≤ \\epsilon⋅(μ + 1) ∧ \\lVert {\n",
       "                                                                              \n",
       "                                                                              \n",
       "                                                                              \n",
       "                                                                              \n",
       "           2                                    2                   ⎞         \n",
       "{t}} \\rVert  ≥ \\epsilon ∧ \\lVert {\\Delta} \\rVert  ≤ \\epsilon⋅(μ + 1)⎠ ∨ \\lVert\n",
       "                                                                              \n",
       "\n",
       "                            \n",
       "lon                         \n",
       "                            \n",
       "                            \n",
       "                            \n",
       "lon                         \n",
       "                            \n",
       "                            \n",
       "             2              \n",
       "r_{t}} \\rVert  ≤ \\epsilon   \n",
       "                            \n",
       "                            \n",
       "             2              \n",
       "r_{t}} \\rVert  > \\epsilon   \n",
       "                            \n",
       "                            \n",
       "                            \n",
       "                            \n",
       "               2           ⎞\n",
       " {u_{t}} \\rVert  ≤ \\epsilon⎠\n",
       "                            "
      ]
     },
     "execution_count": 39,
     "metadata": {},
     "output_type": "execute_result"
    }
   ],
   "source": [
    "A[0, 2] = natfixA(A_[0, 2])\n",
    "     \n",
    "nsimp(make_readable(A[0, 2]))"
   ]
  },
  {
   "cell_type": "code",
   "execution_count": 40,
   "metadata": {
    "autoscroll": "json-false",
    "collapsed": false,
    "ein.tags": [
     "worksheet-0"
    ]
   },
   "outputs": [],
   "source": [
    "with open('codegen/tex/A02_fnat.tex', 'w') as f:\n",
    "     f.write(latex(nsimp(make_readable(A[0, 2]))))"
   ]
  },
  {
   "cell_type": "markdown",
   "metadata": {
    "ein.tags": [
     "worksheet-0"
    ]
   },
   "source": [
    "## A[1, 0]"
   ]
  },
  {
   "cell_type": "code",
   "execution_count": 41,
   "metadata": {
    "autoscroll": "json-false",
    "collapsed": false,
    "ein.tags": [
     "worksheet-0"
    ]
   },
   "outputs": [
    {
     "data": {
      "text/plain": [
       "⎧\\Delta₁⋅Heaviside(\\lambda₁)   \\Delta₁⋅Heaviside(\\lambda₂)                    \n",
       "⎪─────────────────────────── - ───────────────────────────  for \\lVert {\\Delta\n",
       "⎪  2⋅\\lVert {\\Delta} \\rVert      2⋅\\lVert {\\Delta} \\rVert                     \n",
       "⎨                                                                             \n",
       "⎪                                                                             \n",
       "⎪                            0                              for \\lVert {\\Delta\n",
       "⎩                                                                             \n",
       "\n",
       "        2                   \n",
       "} \\rVert  > \\epsilon⋅(μ + 1)\n",
       "                            \n",
       "                            \n",
       "        2                   \n",
       "} \\rVert  ≤ \\epsilon⋅(μ + 1)\n",
       "                            "
      ]
     },
     "execution_count": 41,
     "metadata": {},
     "output_type": "execute_result"
    }
   ],
   "source": [
    "make_readable(A_[1, 0])"
   ]
  },
  {
   "cell_type": "code",
   "execution_count": 42,
   "metadata": {
    "autoscroll": "json-false",
    "collapsed": false,
    "ein.tags": [
     "worksheet-0"
    ]
   },
   "outputs": [],
   "source": [
    "# just a verification\n",
    "#mlimit(A_[1, 0].subs(ut1, (1+t)*rt1/mu).subs(ut2, (1+t)*rt2/mu), t, 0)"
   ]
  },
  {
   "cell_type": "code",
   "execution_count": 43,
   "metadata": {
    "autoscroll": "json-false",
    "collapsed": false,
    "ein.tags": [
     "worksheet-0"
    ]
   },
   "outputs": [],
   "source": [
    "A[1, 0] = A_[1, 0]"
   ]
  },
  {
   "cell_type": "code",
   "execution_count": 44,
   "metadata": {
    "autoscroll": "json-false",
    "collapsed": false,
    "ein.tags": [
     "worksheet-0"
    ]
   },
   "outputs": [
    {
     "data": {
      "text/plain": [
       "⎧\\Delta₁⋅Heaviside(\\lambda₁)   \\Delta₁⋅Heaviside(\\lambda₂)                    \n",
       "⎪─────────────────────────── - ───────────────────────────  for \\lVert {\\Delta\n",
       "⎪  2⋅\\lVert {\\Delta} \\rVert      2⋅\\lVert {\\Delta} \\rVert                     \n",
       "⎨                                                                             \n",
       "⎪                                                                             \n",
       "⎪                            0                              for \\lVert {\\Delta\n",
       "⎩                                                                             \n",
       "\n",
       "        2                   \n",
       "} \\rVert  > \\epsilon⋅(μ + 1)\n",
       "                            \n",
       "                            \n",
       "        2                   \n",
       "} \\rVert  ≤ \\epsilon⋅(μ + 1)\n",
       "                            "
      ]
     },
     "execution_count": 44,
     "metadata": {},
     "output_type": "execute_result"
    }
   ],
   "source": [
    "make_readable(A[1, 0])"
   ]
  },
  {
   "cell_type": "code",
   "execution_count": 45,
   "metadata": {
    "autoscroll": "json-false",
    "collapsed": false,
    "ein.tags": [
     "worksheet-0"
    ]
   },
   "outputs": [],
   "source": [
    "with open('codegen/tex/A10_fnat.tex', 'w') as f:\n",
    "     f.write(latex(factor(make_readable(A[1, 0]))))"
   ]
  },
  {
   "cell_type": "markdown",
   "metadata": {
    "ein.tags": [
     "worksheet-0"
    ]
   },
   "source": [
    "## A[1, 1]"
   ]
  },
  {
   "cell_type": "code",
   "execution_count": 46,
   "metadata": {
    "autoscroll": "json-false",
    "collapsed": false,
    "ein.tags": [
     "worksheet-0"
    ]
   },
   "outputs": [
    {
     "data": {
      "text/plain": [
       "⎧                                                                             \n",
       "⎪                                                                             \n",
       "⎪          ⎛        \\Delta₁⋅μ                 μ⋅u_{t1}      ⎞                 \n",
       "⎪  \\Delta₁⋅⎜- ────────────────────── - ─────────────────────⎟⋅Heaviside(\\lambd\n",
       "⎪          ⎝  \\lVert {\\Delta} \\rVert   \\lVert {u_{t}} \\rVert⎠                 \n",
       "⎨- ───────────────────────────────────────────────────────────────────────────\n",
       "⎪                             2⋅\\lVert {\\Delta} \\rVert                        \n",
       "⎪                                                                             \n",
       "⎪                                                                             \n",
       "⎪                                                                             \n",
       "⎩                                                                             \n",
       "\n",
       "                                                                              \n",
       "                                                                              \n",
       "              ⎛      \\Delta₁⋅μ                 μ⋅u_{t1}      ⎞                \n",
       "a₁)   \\Delta₁⋅⎜────────────────────── - ─────────────────────⎟⋅Heaviside(\\lamb\n",
       "              ⎝\\lVert {\\Delta} \\rVert   \\lVert {u_{t}} \\rVert⎠                \n",
       "─── + ────────────────────────────────────────────────────────────────────────\n",
       "                                2⋅\\lVert {\\Delta} \\rVert                      \n",
       "                                                                              \n",
       "                                                                              \n",
       "                                                                          0   \n",
       "                                                                              \n",
       "\n",
       "       ⎛                2                                 ⎞                   \n",
       "       ⎜         \\Delta₁ ⋅μ                   μ           ⎟                   \n",
       "       ⎜- ─────────────────────── + ──────────────────────⎟⋅Max(0, \\lambda_1) \n",
       "da₂)   ⎜                        3   \\lVert {\\Delta} \\rVert⎟                   \n",
       "       ⎝  \\lVert {\\Delta} \\rVert                          ⎠                   \n",
       "──── - ────────────────────────────────────────────────────────────────────── \n",
       "                                         2                                    \n",
       "                                                                              \n",
       "                                                                              \n",
       "                                                                              \n",
       "                                                                              \n",
       "\n",
       "  ⎛              2                                 ⎞                          \n",
       "  ⎜       \\Delta₁ ⋅μ                   μ           ⎟                          \n",
       "  ⎜─────────────────────── - ──────────────────────⎟⋅Max(0, \\lambda_2)        \n",
       "  ⎜                      3   \\lVert {\\Delta} \\rVert⎟                          \n",
       "  ⎝\\lVert {\\Delta} \\rVert                          ⎠                          \n",
       "- ────────────────────────────────────────────────────────────────────  for \\l\n",
       "                                   2                                          \n",
       "                                                                              \n",
       "                                                                              \n",
       "                                                                        for \\l\n",
       "                                                                              \n",
       "\n",
       "                                        \n",
       "                                        \n",
       "                                        \n",
       "                                        \n",
       "                    2                   \n",
       "Vert {\\Delta} \\rVert  > \\epsilon⋅(μ + 1)\n",
       "                                        \n",
       "                                        \n",
       "                    2                   \n",
       "Vert {\\Delta} \\rVert  ≤ \\epsilon⋅(μ + 1)\n",
       "                                        "
      ]
     },
     "execution_count": 46,
     "metadata": {},
     "output_type": "execute_result"
    }
   ],
   "source": [
    "make_readable(A_[1, 1])"
   ]
  },
  {
   "cell_type": "code",
   "execution_count": 47,
   "metadata": {
    "autoscroll": "json-false",
    "collapsed": false,
    "ein.tags": [
     "worksheet-0"
    ]
   },
   "outputs": [
    {
     "data": {
      "text/plain": [
       "                                                                              \n",
       "                                                                              \n",
       "          ⎛        \\Delta₁⋅μ                 μ⋅u_{t1}      ⎞                  \n",
       "  \\Delta₁⋅⎜- ────────────────────── - ─────────────────────⎟⋅Heaviside(\\lambda\n",
       "          ⎝  \\lVert {\\Delta} \\rVert   \\lVert {u_{t}} \\rVert⎠                  \n",
       "- ────────────────────────────────────────────────────────────────────────────\n",
       "                             2⋅\\lVert {\\Delta} \\rVert                         \n",
       "\n",
       "                                                                              \n",
       "                                                                              \n",
       "             ⎛      \\Delta₁⋅μ                 μ⋅u_{t1}      ⎞                 \n",
       "₁)   \\Delta₁⋅⎜────────────────────── - ─────────────────────⎟⋅Heaviside(\\lambd\n",
       "             ⎝\\lVert {\\Delta} \\rVert   \\lVert {u_{t}} \\rVert⎠                 \n",
       "── + ─────────────────────────────────────────────────────────────────────────\n",
       "                               2⋅\\lVert {\\Delta} \\rVert                       \n",
       "\n",
       "      ⎛                2                                 ⎞                    \n",
       "      ⎜         \\Delta₁ ⋅μ                   μ           ⎟                    \n",
       "      ⎜- ─────────────────────── + ──────────────────────⎟⋅Max(0, \\lambda_1)  \n",
       "a₂)   ⎜                        3   \\lVert {\\Delta} \\rVert⎟                    \n",
       "      ⎝  \\lVert {\\Delta} \\rVert                          ⎠                    \n",
       "─── - ────────────────────────────────────────────────────────────────────── -\n",
       "                                        2                                     \n",
       "\n",
       " ⎛              2                                 ⎞                  \n",
       " ⎜       \\Delta₁ ⋅μ                   μ           ⎟                  \n",
       " ⎜─────────────────────── - ──────────────────────⎟⋅Max(0, \\lambda_2)\n",
       " ⎜                      3   \\lVert {\\Delta} \\rVert⎟                  \n",
       " ⎝\\lVert {\\Delta} \\rVert                          ⎠                  \n",
       " ────────────────────────────────────────────────────────────────────\n",
       "                                  2                                  "
      ]
     },
     "execution_count": 47,
     "metadata": {},
     "output_type": "execute_result"
    }
   ],
   "source": [
    "A11_raw = flatten_piecewise(A_[1, 1]).args[0][0]\n",
    "make_readable(A11_raw)"
   ]
  },
  {
   "cell_type": "code",
   "execution_count": 48,
   "metadata": {
    "autoscroll": "json-false",
    "collapsed": false,
    "ein.tags": [
     "worksheet-0"
    ]
   },
   "outputs": [
    {
     "data": {
      "text/plain": [
       "             2                                       \n",
       "1.0⋅μ⋅(μ - 1) ⋅Heaviside(\\lambda_{1}__{\\prime\\prime})\n",
       "─────────────────────────────────────────────────────\n",
       "                       2                             \n",
       "                    2⋅μ  - 2⋅μ + 1                   "
      ]
     },
     "execution_count": 48,
     "metadata": {},
     "output_type": "execute_result"
    }
   ],
   "source": [
    "#mlimit(A_[1, 1].subs(ut1, t).subs(ut2, t), t, 0)\n",
    "A11_ut0=nsimp(mlimit(flatten_piecewise(A_[1, 1]).args[0][0].subs(ut1, t).subs(ut2, t), t, 0))\n",
    "A11_ut0rt0=simplify(nsimp(mlimit(flatten_piecewise(A_[1, 1]).args[0][0].subs(ut1, t).subs(ut2, t).subs(rt1, t).subs(rt2, 0), t, 0)))\n",
    "simplify(make_readable(A11_ut0rt0))"
   ]
  },
  {
   "cell_type": "code",
   "execution_count": 49,
   "metadata": {
    "autoscroll": "json-false",
    "collapsed": false,
    "ein.tags": [
     "worksheet-0"
    ]
   },
   "outputs": [
    {
     "data": {
      "text/plain": [
       "1/2"
      ]
     },
     "execution_count": 49,
     "metadata": {},
     "output_type": "execute_result"
    }
   ],
   "source": [
    "maple.minimize(2*mu*mu-2*mu+1)"
   ]
  },
  {
   "cell_type": "code",
   "execution_count": 50,
   "metadata": {
    "autoscroll": "json-false",
    "collapsed": false,
    "ein.tags": [
     "worksheet-0"
    ]
   },
   "outputs": [
    {
     "data": {
      "text/plain": [
       "       ⎛       ⎛                                                              \n",
       "0.25⋅μ⋅⎝r_{t1}⋅⎝r_{t1}⋅(2⋅\\lVert {r_{t}} \\rVert⋅(Heaviside(\\lambda_{1}__{\\prim\n",
       "──────────────────────────────────────────────────────────────────────────────\n",
       "                                                                              \n",
       "                                                                              \n",
       "\n",
       "                                                                              \n",
       "e}) + Heaviside(\\lambda_{2}__{\\prime})) + √2⋅r_{t1}⋅(-Heaviside(\\lambda_{1}__{\n",
       "──────────────────────────────────────────────────────────────────────────────\n",
       "                                                                              \n",
       "                                                                              \n",
       "\n",
       "                                                         2                    \n",
       "\\prime}) + Heaviside(\\lambda_{2}__{\\prime}))) + √2⋅r_{t2} ⋅(-Heaviside(\\lambda\n",
       "──────────────────────────────────────────────────────────────────────────────\n",
       "                                     3                                        \n",
       "                \\lVert {r_{t}} \\rVert                                         \n",
       "\n",
       "                                                   ⎞         2                \n",
       "_{1}__{\\prime}) + Heaviside(\\lambda_{2}__{\\prime}))⎠ + r_{t2} ⋅(-2.0⋅Max(0, \\l\n",
       "──────────────────────────────────────────────────────────────────────────────\n",
       "                                                                              \n",
       "                                                                              \n",
       "\n",
       "                                                     ⎞\n",
       "ambda_{1}^{\\prime}) + 2⋅Max(0, \\lambda_{2}^{\\prime}))⎠\n",
       "──────────────────────────────────────────────────────\n",
       "                                                      \n",
       "                                                      "
      ]
     },
     "execution_count": 50,
     "metadata": {},
     "output_type": "execute_result"
    }
   ],
   "source": [
    "A11_ut0p = simplify(factor_try(A11_ut0.subs('rt1',rt1).subs('rt2',rt2), [rt1, rt1, rt2, rt2, sqrt(2), 2, rt_norm]))\n",
    "make_readable(A11_ut0p)"
   ]
  },
  {
   "cell_type": "code",
   "execution_count": 51,
   "metadata": {
    "autoscroll": "json-false",
    "collapsed": false,
    "ein.tags": [
     "worksheet-0"
    ]
   },
   "outputs": [],
   "source": [
    "from sympy import Or\n",
    "A[1, 1] = natfixA(A11_raw)"
   ]
  },
  {
   "cell_type": "code",
   "execution_count": 52,
   "metadata": {
    "autoscroll": "json-false",
    "collapsed": false,
    "ein.tags": [
     "worksheet-0"
    ]
   },
   "outputs": [
    {
     "data": {
      "text/plain": [
       "⎧                                                                             \n",
       "⎪                                                                             \n",
       "⎪                                                                             \n",
       "⎪                                                                             \n",
       "⎪                                                                             \n",
       "⎪                                                                             \n",
       "⎪       ⎛                              2                                      \n",
       "⎪0.25⋅μ⋅⎝2⋅\\lVert {r_{t}} \\rVert⋅r_{t1} ⋅Heaviside(\\lambda_{1}__{\\prime}) + 2⋅\n",
       "⎪─────────────────────────────────────────────────────────────────────────────\n",
       "⎪                                                                             \n",
       "⎪                                                                             \n",
       "⎪                                                                             \n",
       "⎪                                                                             \n",
       "⎪                                                                             \n",
       "⎪                                                                             \n",
       "⎨                                                                             \n",
       "⎪                                                                             \n",
       "⎪                                                                             \n",
       "⎪                                                                             \n",
       "⎪                                                                             \n",
       "⎪                                                                             \n",
       "⎪                                                                             \n",
       "⎪                                                                             \n",
       "⎪                                                                             \n",
       "⎪                                                                             \n",
       "⎪                                                                             \n",
       "⎪                                                                   ⎛        \\\n",
       "⎪                                                           \\Delta₁⋅⎜- ───────\n",
       "⎪                                                                   ⎝  \\lVert \n",
       "⎪                                                         - ──────────────────\n",
       "⎩                                                                             \n",
       "\n",
       "                                                                              \n",
       "                                                                              \n",
       "                                                                              \n",
       "                                                                              \n",
       "                                                                              \n",
       "                                                                              \n",
       "                            2                                              2  \n",
       "\\lVert {r_{t}} \\rVert⋅r_{t1} ⋅Heaviside(\\lambda_{2}__{\\prime}) - 2.0⋅r_{t2} ⋅M\n",
       "──────────────────────────────────────────────────────────────────────────────\n",
       "                                                                              \n",
       "                                                                              \n",
       "                                                                              \n",
       "                                                                              \n",
       "                                                                              \n",
       "                                                                              \n",
       "                                                                              \n",
       "                                                                              \n",
       "                                                                              \n",
       "                                                                              \n",
       "                                                                              \n",
       "                                                                              \n",
       "                                                                              \n",
       "                                                                              \n",
       "                                                                              \n",
       "                                                                              \n",
       "                                                                              \n",
       "Delta₁⋅μ                 μ⋅u_{t1}      ⎞                               ⎛      \n",
       "─────────────── - ─────────────────────⎟⋅Heaviside(\\lambda₁)   \\Delta₁⋅⎜──────\n",
       "{\\Delta} \\rVert   \\lVert {u_{t}} \\rVert⎠                               ⎝\\lVert\n",
       "──────────────────────────────────────────────────────────── + ───────────────\n",
       "         2⋅\\lVert {\\Delta} \\rVert                                             \n",
       "\n",
       "                                        2                                     \n",
       "                           1.0⋅μ⋅(μ - 1) ⋅Heaviside(\\lambda_{1}__{\\prime\\prime\n",
       "                           ───────────────────────────────────────────────────\n",
       "                                                  2                           \n",
       "                                               2⋅μ  - 2⋅μ + 1                 \n",
       "                                                                              \n",
       "                                      2                                   ⎛   \n",
       "ax(0, \\lambda_{1}^{\\prime}) + 2⋅r_{t2} ⋅Max(0, \\lambda_{2}^{\\prime}) + √2⋅⎝- r\n",
       "──────────────────────────────────────────────────────────────────────────────\n",
       "                                                                3             \n",
       "                                           \\lVert {r_{t}} \\rVert              \n",
       "                                                                              \n",
       "                                        2                                     \n",
       "                           1.0⋅μ⋅(μ - 1) ⋅Heaviside(\\lambda_{1}__{\\prime\\prime\n",
       "                           ───────────────────────────────────────────────────\n",
       "                                                  2                           \n",
       "                                               2⋅μ  - 2⋅μ + 1                 \n",
       "                                                                              \n",
       "                                        2                                     \n",
       "                                μ⋅r_{t1} ⋅Heaviside(\\lambda_{1}__{\\prime})    \n",
       "                                ──────────────────────────────────────────    \n",
       "                                                               2              \n",
       "                                          \\lVert {r_{t}} \\rVert               \n",
       "                                                                              \n",
       "                                                                ⎛             \n",
       "                                                                ⎜         \\Del\n",
       "\\Delta₁⋅μ                 μ⋅u_{t1}      ⎞                       ⎜- ───────────\n",
       "──────────────── - ─────────────────────⎟⋅Heaviside(\\lambda₂)   ⎜             \n",
       " {\\Delta} \\rVert   \\lVert {u_{t}} \\rVert⎠                       ⎝  \\lVert {\\De\n",
       "───────────────────────────────────────────────────────────── - ──────────────\n",
       "           2⋅\\lVert {\\Delta} \\rVert                                           \n",
       "\n",
       "                                                                              \n",
       "})                                                                            \n",
       "──                                                                            \n",
       "                                                                              \n",
       "                                                                              \n",
       "                                                                              \n",
       "     3                                          3                             \n",
       "_{t1} ⋅Heaviside(\\lambda_{1}__{\\prime}) + r_{t1} ⋅Heaviside(\\lambda_{2}__{\\pri\n",
       "──────────────────────────────────────────────────────────────────────────────\n",
       "                                                                              \n",
       "                                                                              \n",
       "                                                                              \n",
       "                                                                              \n",
       "})                                                                            \n",
       "──                                                                            \n",
       "                                                                              \n",
       "                                                                              \n",
       "                                                                              \n",
       "                                                                              \n",
       "                                                                              \n",
       "                                                                              \n",
       "                                                                              \n",
       "                                                                              \n",
       "                                                                              \n",
       "   2                                 ⎞                     ⎛              2   \n",
       "ta₁ ⋅μ                   μ           ⎟                     ⎜       \\Delta₁ ⋅μ \n",
       "──────────── + ──────────────────────⎟⋅Max(0, \\lambda_1)   ⎜──────────────────\n",
       "           3   \\lVert {\\Delta} \\rVert⎟                     ⎜                  \n",
       "lta} \\rVert                          ⎠                     ⎝\\lVert {\\Delta} \\r\n",
       "──────────────────────────────────────────────────────── - ───────────────────\n",
       "                    2                                                         \n",
       "\n",
       "                                                                              \n",
       "                                                                              \n",
       "                                                                              \n",
       "                                                                              \n",
       "                                                                              \n",
       "                                                                              \n",
       "                    2                                                 2       \n",
       "me}) - r_{t1}⋅r_{t2} ⋅Heaviside(\\lambda_{1}__{\\prime}) + r_{t1}⋅r_{t2} ⋅Heavis\n",
       "──────────────────────────────────────────────────────────────────────────────\n",
       "                                                                              \n",
       "                                                                              \n",
       "                                                                              \n",
       "                                                                              \n",
       "                                                                              \n",
       "                                                                              \n",
       "                                                                              \n",
       "                                                                              \n",
       "                                                                              \n",
       "                                                                              \n",
       "                                                                              \n",
       "                                                                              \n",
       "                                                                              \n",
       "                                                                              \n",
       "                                                                              \n",
       "                              ⎞                                               \n",
       "                  μ           ⎟                                               \n",
       "───── - ──────────────────────⎟⋅Max(0, \\lambda_2)                             \n",
       "    3   \\lVert {\\Delta} \\rVert⎟                                               \n",
       "Vert                          ⎠                                               \n",
       "─────────────────────────────────────────────────                             \n",
       "              2                                                               \n",
       "\n",
       "                                                                              \n",
       "                                                                              \n",
       "                                                       for \\lVert {r_{t}} \\rVe\n",
       "                                                                              \n",
       "                                                                              \n",
       "                                                                              \n",
       "                          ⎞⎞                                                  \n",
       "ide(\\lambda_{2}__{\\prime})⎠⎠                                                  \n",
       "────────────────────────────                           for \\lVert {u_{t}} \\rVe\n",
       "                                                                              \n",
       "                                                                              \n",
       "                                                                              \n",
       "                                                                              \n",
       "                                                         2                    \n",
       "                                for \\lVert {u_{t}} \\rVert  ≥ \\epsilon ∧ \\lVert\n",
       "                                                                              \n",
       "                                                                              \n",
       "                                                                              \n",
       "                                                                              \n",
       "                                                         2                    \n",
       "                                for \\lVert {u_{t}} \\rVert  ≥ \\epsilon ∧ \\lVert\n",
       "                                                                              \n",
       "                                                                              \n",
       "                                                                              \n",
       "                                                                              \n",
       "                                                                              \n",
       "                                                                              \n",
       "                                                                              \n",
       "                                   ⎛⎛                     2                   \n",
       "                              for ¬⎝⎝\\lVert {u_{t}} \\rVert  ≥ \\epsilon ∧ \\lVer\n",
       "                                                                              \n",
       "\n",
       "                                                                           \n",
       "  2                                   2                                    \n",
       "rt  ≤ \\epsilon ∧ \\lVert {u_{t}} \\rVert  ≤ \\epsilon                         \n",
       "                                                                           \n",
       "                                                                           \n",
       "                                                                           \n",
       "                                                                           \n",
       "  2                                   2                                    \n",
       "rt  ≤ \\epsilon ∧ \\lVert {r_{t}} \\rVert  > \\epsilon                         \n",
       "                                                                           \n",
       "                                                                           \n",
       "                                                                           \n",
       "                                                                           \n",
       "                2                                           2              \n",
       " {\\Delta} \\rVert  ≤ \\epsilon⋅(μ + 1) ∧ \\lVert {r_{t}} \\rVert  ≤ \\epsilon   \n",
       "                                                                           \n",
       "                                                                           \n",
       "                                                                           \n",
       "                                                                           \n",
       "                2                                           2              \n",
       " {\\Delta} \\rVert  ≤ \\epsilon⋅(μ + 1) ∧ \\lVert {r_{t}} \\rVert  > \\epsilon   \n",
       "                                                                           \n",
       "                                                                           \n",
       "                                                                           \n",
       "                                                                           \n",
       "                                                                           \n",
       "                                                                           \n",
       "                                                                           \n",
       "                 2                   ⎞                        2           ⎞\n",
       "t {\\Delta} \\rVert  ≤ \\epsilon⋅(μ + 1)⎠ ∨ \\lVert {u_{t}} \\rVert  ≤ \\epsilon⎠\n",
       "                                                                           "
      ]
     },
     "execution_count": 52,
     "metadata": {},
     "output_type": "execute_result"
    }
   ],
   "source": [
    "# ||delta|| -> 0 && ||ut|| -> 0 ==> ||rt|| > 0\n",
    "make_readable(A[1, 1])"
   ]
  },
  {
   "cell_type": "code",
   "execution_count": 53,
   "metadata": {
    "autoscroll": "json-false",
    "collapsed": false,
    "ein.tags": [
     "worksheet-0"
    ]
   },
   "outputs": [],
   "source": [
    "with open('codegen/tex/A11_fnat.tex', 'w') as f:\n",
    "     f.write(latex(make_readable(A[1, 1])))"
   ]
  },
  {
   "cell_type": "markdown",
   "metadata": {
    "ein.tags": [
     "worksheet-0"
    ]
   },
   "source": [
    "## A[1, 2]"
   ]
  },
  {
   "cell_type": "code",
   "execution_count": 54,
   "metadata": {
    "autoscroll": "json-false",
    "collapsed": false,
    "ein.tags": [
     "worksheet-0"
    ]
   },
   "outputs": [
    {
     "data": {
      "text/plain": [
       "⎧                                                                             \n",
       "⎪                                                                            \\\n",
       "⎪\\Delta₁⋅\\Delta₂⋅μ⋅Max(0, \\lambda_1)   \\Delta₁⋅\\Delta₂⋅μ⋅Max(0, \\lambda_2)    \n",
       "⎪─────────────────────────────────── - ─────────────────────────────────── - ─\n",
       "⎨                             3                                     3         \n",
       "⎪     2⋅\\lVert {\\Delta} \\rVert              2⋅\\lVert {\\Delta} \\rVert          \n",
       "⎪                                                                             \n",
       "⎪                                                                             \n",
       "⎩                                                                             \n",
       "\n",
       "       ⎛        \\Delta₂⋅μ                 μ⋅u_{t2}      ⎞                     \n",
       "Delta₁⋅⎜- ────────────────────── - ─────────────────────⎟⋅Heaviside(\\lambda₁) \n",
       "       ⎝  \\lVert {\\Delta} \\rVert   \\lVert {u_{t}} \\rVert⎠                     \n",
       "───────────────────────────────────────────────────────────────────────────── \n",
       "                          2⋅\\lVert {\\Delta} \\rVert                            \n",
       "                                                                              \n",
       "                                                                              \n",
       "                                                                              \n",
       "                                       0                                      \n",
       "\n",
       "          ⎛      \\Delta₂⋅μ                 μ⋅u_{t2}      ⎞                    \n",
       "  \\Delta₁⋅⎜────────────────────── - ─────────────────────⎟⋅Heaviside(\\lambda₂)\n",
       "          ⎝\\lVert {\\Delta} \\rVert   \\lVert {u_{t}} \\rVert⎠                    \n",
       "+ ────────────────────────────────────────────────────────────────────────────\n",
       "                            2⋅\\lVert {\\Delta} \\rVert                          \n",
       "                                                                              \n",
       "                                                                              \n",
       "                                                                              \n",
       "                                                                              \n",
       "\n",
       "                                                \n",
       "                                                \n",
       "                            2                   \n",
       "  for \\lVert {\\Delta} \\rVert  > \\epsilon⋅(μ + 1)\n",
       "                                                \n",
       "                                                \n",
       "                                                \n",
       "                            2                   \n",
       "  for \\lVert {\\Delta} \\rVert  ≤ \\epsilon⋅(μ + 1)"
      ]
     },
     "execution_count": 54,
     "metadata": {},
     "output_type": "execute_result"
    }
   ],
   "source": [
    "make_readable(A_[1, 2])"
   ]
  },
  {
   "cell_type": "code",
   "execution_count": 55,
   "metadata": {
    "autoscroll": "json-false",
    "collapsed": false,
    "ein.tags": [
     "worksheet-0"
    ]
   },
   "outputs": [],
   "source": [
    "A12_raw=flatten_piecewise(A_[1, 2]).args[0][0]"
   ]
  },
  {
   "cell_type": "code",
   "execution_count": 56,
   "metadata": {
    "autoscroll": "json-false",
    "collapsed": false,
    "ein.tags": [
     "worksheet-0"
    ]
   },
   "outputs": [
    {
     "data": {
      "text/plain": [
       "⎧                                                                             \n",
       "⎪                                                                             \n",
       "⎪                                                                             \n",
       "⎪                                                                             \n",
       "⎪                                                                             \n",
       "⎪                                                                             \n",
       "⎪              ⎛                                                              \n",
       "⎪0.25⋅μ⋅r_{t1}⋅⎝2⋅\\lVert {r_{t}} \\rVert⋅r_{t2}⋅Heaviside(\\lambda_{1}__{\\prime}\n",
       "⎪─────────────────────────────────────────────────────────────────────────────\n",
       "⎪                                                                             \n",
       "⎪                                                                             \n",
       "⎪                                                                             \n",
       "⎪                                                                             \n",
       "⎪                                                                             \n",
       "⎨                                                                             \n",
       "⎪                                                                             \n",
       "⎪                                                                             \n",
       "⎪                                                                             \n",
       "⎪                                                                             \n",
       "⎪                                                                             \n",
       "⎪                                                                             \n",
       "⎪                                                                             \n",
       "⎪                                                                             \n",
       "⎪                                                                             \n",
       "⎪                                                                             \n",
       "⎪                                                                             \n",
       "⎪                                                                             \n",
       "⎪                                                                             \n",
       "⎩                                                                             \n",
       "\n",
       "                                                                              \n",
       "                                                                              \n",
       "                                                                              \n",
       "                                                                              \n",
       "                                                                              \n",
       "                                                                              \n",
       "                                                                              \n",
       ") + 2⋅\\lVert {r_{t}} \\rVert⋅r_{t2}⋅Heaviside(\\lambda_{2}__{\\prime}) + 2⋅r_{t2}\n",
       "──────────────────────────────────────────────────────────────────────────────\n",
       "                                                                              \n",
       "                                                                              \n",
       "                                                                              \n",
       "                                                                              \n",
       "                                                                              \n",
       "                                                                              \n",
       "                                                                              \n",
       "                                                                              \n",
       "                                                                              \n",
       "                                                                              \n",
       "                                                                              \n",
       "                                                                              \n",
       "                                                                              \n",
       "                                                                              \n",
       "                                                                              \n",
       "                                                                              \n",
       "         \\Delta₁⋅\\Delta₂⋅μ⋅Max(0, \\lambda_1)   \\Delta₁⋅\\Delta₂⋅μ⋅Max(0, \\lambd\n",
       "         ─────────────────────────────────── - ───────────────────────────────\n",
       "                                      3                                     3 \n",
       "              2⋅\\lVert {\\Delta} \\rVert              2⋅\\lVert {\\Delta} \\rVert  \n",
       "\n",
       "                       2                                                      \n",
       "                      μ ⋅(μ - 1.0)⋅Heaviside(\\lambda_{1}__{\\prime\\prime})     \n",
       "                      ───────────────────────────────────────────────────     \n",
       "                                            2                                 \n",
       "                                         2⋅μ  - 2⋅μ + 1                       \n",
       "                                                                              \n",
       "                                                                             ⎛\n",
       "⋅Max(0, \\lambda_{1}^{\\prime}) - 2.0⋅r_{t2}⋅Max(0, \\lambda_{2}^{\\prime}) + √2⋅⎝\n",
       "──────────────────────────────────────────────────────────────────────────────\n",
       "                                                          3                   \n",
       "                                     \\lVert {r_{t}} \\rVert                    \n",
       "                                                                              \n",
       "                       2                                                      \n",
       "                      μ ⋅(μ - 1.0)⋅Heaviside(\\lambda_{1}__{\\prime\\prime})     \n",
       "                      ───────────────────────────────────────────────────     \n",
       "                                            2                                 \n",
       "                                         2⋅μ  - 2⋅μ + 1                       \n",
       "                                                                              \n",
       "                        μ⋅r_{t1}⋅r_{t2}⋅Heaviside(\\lambda_{1}__{\\prime})      \n",
       "                        ────────────────────────────────────────────────      \n",
       "                                                          2                   \n",
       "                                     \\lVert {r_{t}} \\rVert                    \n",
       "                                                                              \n",
       "               ⎛        \\Delta₂⋅μ                 μ⋅u_{t2}      ⎞             \n",
       "       \\Delta₁⋅⎜- ────────────────────── - ─────────────────────⎟⋅Heaviside(\\l\n",
       "a_2)           ⎝  \\lVert {\\Delta} \\rVert   \\lVert {u_{t}} \\rVert⎠             \n",
       "──── - ───────────────────────────────────────────────────────────────────────\n",
       "                                  2⋅\\lVert {\\Delta} \\rVert                    \n",
       "                                                                              \n",
       "\n",
       "                                                                              \n",
       "                                                                              \n",
       "                                                                              \n",
       "                                                                              \n",
       "                                                                              \n",
       "                                                                              \n",
       "        2                                          2                          \n",
       "- r_{t1} ⋅Heaviside(\\lambda_{1}__{\\prime}) + r_{t1} ⋅Heaviside(\\lambda_{2}__{\\\n",
       "──────────────────────────────────────────────────────────────────────────────\n",
       "                                                                              \n",
       "                                                                              \n",
       "                                                                              \n",
       "                                                                              \n",
       "                                                                              \n",
       "                                                                              \n",
       "                                                                              \n",
       "                                                                              \n",
       "                                                                              \n",
       "                                                                              \n",
       "                                                                              \n",
       "                                                                              \n",
       "                                                                              \n",
       "                                                                              \n",
       "                  ⎛      \\Delta₂⋅μ                 μ⋅u_{t2}      ⎞            \n",
       "ambda₁)   \\Delta₁⋅⎜────────────────────── - ─────────────────────⎟⋅Heaviside(\\\n",
       "                  ⎝\\lVert {\\Delta} \\rVert   \\lVert {u_{t}} \\rVert⎠            \n",
       "─────── + ────────────────────────────────────────────────────────────────────\n",
       "                                    2⋅\\lVert {\\Delta} \\rVert                  \n",
       "                                                                              \n",
       "\n",
       "                                                                              \n",
       "                                                                              \n",
       "                                                                              \n",
       "                                                                              \n",
       "                                                                              \n",
       "                                                                              \n",
       "                2                                          2                  \n",
       "prime}) - r_{t2} ⋅Heaviside(\\lambda_{1}__{\\prime}) + r_{t2} ⋅Heaviside(\\lambda\n",
       "──────────────────────────────────────────────────────────────────────────────\n",
       "                                                                              \n",
       "                                                                              \n",
       "                                                                              \n",
       "                                                                              \n",
       "                                                                              \n",
       "                                                                              \n",
       "                                                                              \n",
       "                                                                              \n",
       "                                                                              \n",
       "                                                                              \n",
       "                                                                              \n",
       "                                                                              \n",
       "                                                                              \n",
       "                                                                              \n",
       "                                                                              \n",
       "lambda₂)                                                                      \n",
       "                                                                              \n",
       "────────                                                                      \n",
       "                                                                              \n",
       "                                                                              \n",
       "\n",
       "                                                                              \n",
       "                                                                     2        \n",
       "                                            for \\lVert {r_{t}} \\rVert  ≤ \\epsi\n",
       "                                                                              \n",
       "                                                                              \n",
       "                                                                              \n",
       "               ⎞⎞                                                             \n",
       "_{2}__{\\prime})⎠⎠                                                    2        \n",
       "─────────────────                           for \\lVert {u_{t}} \\rVert  ≤ \\epsi\n",
       "                                                                              \n",
       "                                                                              \n",
       "                                                                              \n",
       "                                                                              \n",
       "                                              2                               \n",
       "                     for \\lVert {u_{t}} \\rVert  ≥ \\epsilon ∧ \\lVert {\\Delta} \\\n",
       "                                                                              \n",
       "                                                                              \n",
       "                                                                              \n",
       "                                              2                               \n",
       "                     for \\lVert {u_{t}} \\rVert  ≥ \\epsilon ∧ \\lVert {\\Delta} \\\n",
       "                                                                              \n",
       "                                                                              \n",
       "                                                                              \n",
       "                                                                              \n",
       "                                                                              \n",
       "                        ⎛⎛                     2                              \n",
       "                   for ¬⎝⎝\\lVert {u_{t}} \\rVert  ≥ \\epsilon ∧ \\lVert {\\Delta} \n",
       "                                                                              \n",
       "                                                                              \n",
       "\n",
       "                                                                \n",
       "                           2                                    \n",
       "lon ∧ \\lVert {u_{t}} \\rVert  ≤ \\epsilon                         \n",
       "                                                                \n",
       "                                                                \n",
       "                                                                \n",
       "                                                                \n",
       "                           2                                    \n",
       "lon ∧ \\lVert {r_{t}} \\rVert  > \\epsilon                         \n",
       "                                                                \n",
       "                                                                \n",
       "                                                                \n",
       "                                                                \n",
       "     2                                           2              \n",
       "rVert  ≤ \\epsilon⋅(μ + 1) ∧ \\lVert {r_{t}} \\rVert  ≤ \\epsilon   \n",
       "                                                                \n",
       "                                                                \n",
       "                                                                \n",
       "     2                                           2              \n",
       "rVert  ≤ \\epsilon⋅(μ + 1) ∧ \\lVert {r_{t}} \\rVert  > \\epsilon   \n",
       "                                                                \n",
       "                                                                \n",
       "                                                                \n",
       "                                                                \n",
       "                                                                \n",
       "      2                   ⎞                        2           ⎞\n",
       "\\rVert  ≤ \\epsilon⋅(μ + 1)⎠ ∨ \\lVert {u_{t}} \\rVert  ≤ \\epsilon⎠\n",
       "                                                                \n",
       "                                                                "
      ]
     },
     "execution_count": 56,
     "metadata": {},
     "output_type": "execute_result"
    }
   ],
   "source": [
    "A[1, 2] = natfixA(A12_raw)\n",
    "make_readable(A[1, 2])"
   ]
  },
  {
   "cell_type": "code",
   "execution_count": 57,
   "metadata": {
    "autoscroll": "json-false",
    "collapsed": false,
    "ein.tags": [
     "worksheet-0"
    ]
   },
   "outputs": [],
   "source": [
    "with open('codegen/tex/A12_fnat.tex', 'w') as f:\n",
    "     f.write(latex(make_readable(A[1, 2])))"
   ]
  },
  {
   "cell_type": "markdown",
   "metadata": {
    "ein.tags": [
     "worksheet-0"
    ]
   },
   "source": [
    "## A[2, 0]"
   ]
  },
  {
   "cell_type": "code",
   "execution_count": 58,
   "metadata": {
    "autoscroll": "json-false",
    "collapsed": false,
    "ein.tags": [
     "worksheet-0"
    ]
   },
   "outputs": [
    {
     "data": {
      "text/plain": [
       "⎧\\Delta₂⋅Heaviside(\\lambda₁)   \\Delta₂⋅Heaviside(\\lambda₂)                    \n",
       "⎪─────────────────────────── - ───────────────────────────  for \\lVert {\\Delta\n",
       "⎪  2⋅\\lVert {\\Delta} \\rVert      2⋅\\lVert {\\Delta} \\rVert                     \n",
       "⎨                                                                             \n",
       "⎪         Heaviside(\\lambda₁)   Heaviside(\\lambda₂)                           \n",
       "⎪       - ─────────────────── + ───────────────────         for \\lVert {\\Delta\n",
       "⎩                  2                     2                                    \n",
       "\n",
       "        2                   \n",
       "} \\rVert  > \\epsilon⋅(μ + 1)\n",
       "                            \n",
       "                            \n",
       "        2                   \n",
       "} \\rVert  ≤ \\epsilon⋅(μ + 1)\n",
       "                            "
      ]
     },
     "execution_count": 58,
     "metadata": {},
     "output_type": "execute_result"
    }
   ],
   "source": [
    "make_readable(A_[2, 0])"
   ]
  },
  {
   "cell_type": "markdown",
   "metadata": {
    "ein.tags": [
     "worksheet-0"
    ]
   },
   "source": [
    "## A[2, 1]"
   ]
  },
  {
   "cell_type": "code",
   "execution_count": 59,
   "metadata": {
    "autoscroll": "json-false",
    "collapsed": false,
    "ein.tags": [
     "worksheet-0"
    ]
   },
   "outputs": [
    {
     "data": {
      "text/plain": [
       "⎧                                                                             \n",
       "⎪                                                                            \\\n",
       "⎪\\Delta₁⋅\\Delta₂⋅μ⋅Max(0, \\lambda_1)   \\Delta₁⋅\\Delta₂⋅μ⋅Max(0, \\lambda_2)    \n",
       "⎪─────────────────────────────────── - ─────────────────────────────────── - ─\n",
       "⎪                             3                                     3         \n",
       "⎪     2⋅\\lVert {\\Delta} \\rVert              2⋅\\lVert {\\Delta} \\rVert          \n",
       "⎨                                                                             \n",
       "⎪                                              ⎛        \\Delta₁⋅μ             \n",
       "⎪                                              ⎜- ────────────────────── - ───\n",
       "⎪                                              ⎝  \\lVert {\\Delta} \\rVert   \\lV\n",
       "⎪                                              ───────────────────────────────\n",
       "⎪                                                                             \n",
       "⎩                                                                             \n",
       "\n",
       "       ⎛        \\Delta₁⋅μ                 μ⋅u_{t1}      ⎞                     \n",
       "Delta₂⋅⎜- ────────────────────── - ─────────────────────⎟⋅Heaviside(\\lambda₁) \n",
       "       ⎝  \\lVert {\\Delta} \\rVert   \\lVert {u_{t}} \\rVert⎠                     \n",
       "───────────────────────────────────────────────────────────────────────────── \n",
       "                          2⋅\\lVert {\\Delta} \\rVert                            \n",
       "                                                                              \n",
       "                                                                              \n",
       "    μ⋅u_{t1}      ⎞                       ⎛      \\Delta₁⋅μ                 μ⋅u\n",
       "──────────────────⎟⋅Heaviside(\\lambda₁)   ⎜────────────────────── - ──────────\n",
       "ert {u_{t}} \\rVert⎠                       ⎝\\lVert {\\Delta} \\rVert   \\lVert {u_\n",
       "─────────────────────────────────────── - ────────────────────────────────────\n",
       "   2                                                                       2  \n",
       "                                                                              \n",
       "\n",
       "          ⎛      \\Delta₁⋅μ                 μ⋅u_{t1}      ⎞                    \n",
       "  \\Delta₂⋅⎜────────────────────── - ─────────────────────⎟⋅Heaviside(\\lambda₂)\n",
       "          ⎝\\lVert {\\Delta} \\rVert   \\lVert {u_{t}} \\rVert⎠                    \n",
       "+ ────────────────────────────────────────────────────────────────────────────\n",
       "                            2⋅\\lVert {\\Delta} \\rVert                          \n",
       "                                                                              \n",
       "                                                                              \n",
       "_{t1}      ⎞                                                                  \n",
       "───────────⎟⋅Heaviside(\\lambda₂)                                              \n",
       "{t}} \\rVert⎠                                                                  \n",
       "────────────────────────────────                                              \n",
       "                                                                              \n",
       "                                                                              \n",
       "\n",
       "                                                \n",
       "                                                \n",
       "                            2                   \n",
       "  for \\lVert {\\Delta} \\rVert  > \\epsilon⋅(μ + 1)\n",
       "                                                \n",
       "                                                \n",
       "                                                \n",
       "                                                \n",
       "                                                \n",
       "                            2                   \n",
       "  for \\lVert {\\Delta} \\rVert  ≤ \\epsilon⋅(μ + 1)\n",
       "                                                \n",
       "                                                "
      ]
     },
     "execution_count": 59,
     "metadata": {},
     "output_type": "execute_result"
    }
   ],
   "source": [
    "make_readable(A_[2, 1])"
   ]
  },
  {
   "cell_type": "code",
   "execution_count": 60,
   "metadata": {
    "autoscroll": "json-false",
    "collapsed": false,
    "ein.tags": [
     "worksheet-0"
    ]
   },
   "outputs": [],
   "source": [
    "A21_raw = flatten_piecewise(A_[2, 1]).args[0][0]"
   ]
  },
  {
   "cell_type": "code",
   "execution_count": 60,
   "metadata": {
    "autoscroll": "json-false",
    "collapsed": false,
    "ein.tags": [
     "worksheet-0"
    ]
   },
   "outputs": [],
   "source": []
  },
  {
   "cell_type": "code",
   "execution_count": 61,
   "metadata": {
    "autoscroll": "json-false",
    "collapsed": false,
    "ein.tags": [
     "worksheet-0"
    ]
   },
   "outputs": [],
   "source": [
    "A[2, 1] = natfixA(A21_raw)"
   ]
  },
  {
   "cell_type": "code",
   "execution_count": 62,
   "metadata": {
    "autoscroll": "json-false",
    "collapsed": false,
    "ein.tags": [
     "worksheet-0"
    ]
   },
   "outputs": [
    {
     "data": {
      "text/plain": [
       "   ⎛⎡   2      2                2                 2⎤⎞\n",
       "set⎝⎣ut₁  + ut₂ , (-μ⋅ut₁ + rt₁)  + (-μ⋅ut₂ + rt₂) ⎦⎠"
      ]
     },
     "execution_count": 62,
     "metadata": {},
     "output_type": "execute_result"
    }
   ],
   "source": [
    "denoms(A21_raw)"
   ]
  },
  {
   "cell_type": "code",
   "execution_count": 63,
   "metadata": {
    "autoscroll": "json-false",
    "collapsed": false,
    "ein.tags": [
     "worksheet-0"
    ]
   },
   "outputs": [
    {
     "data": {
      "text/plain": [
       "⎧                                                                             \n",
       "⎪                                                                             \n",
       "⎪                                                                             \n",
       "⎪                                                                             \n",
       "⎪                                                                             \n",
       "⎪                                                                             \n",
       "⎪              ⎛                                                              \n",
       "⎪0.25⋅μ⋅r_{t2}⋅⎝2⋅\\lVert {r_{t}} \\rVert⋅r_{t1}⋅Heaviside(\\lambda_{1}__{\\prime}\n",
       "⎪─────────────────────────────────────────────────────────────────────────────\n",
       "⎪                                                                             \n",
       "⎪                                                                             \n",
       "⎪                                                                             \n",
       "⎪                                                                             \n",
       "⎪                                                                             \n",
       "⎨                                                                             \n",
       "⎪                                                                             \n",
       "⎪                                                                             \n",
       "⎪                                                                             \n",
       "⎪                                                                             \n",
       "⎪                                                                             \n",
       "⎪                                                                             \n",
       "⎪                                                                             \n",
       "⎪                                                                             \n",
       "⎪                                                                             \n",
       "⎪                                                                             \n",
       "⎪                                                                             \n",
       "⎪                                                                             \n",
       "⎪                                                                             \n",
       "⎩                                                                             \n",
       "\n",
       "                                                                              \n",
       "                                                                              \n",
       "                                                                              \n",
       "                                                                              \n",
       "                                                                              \n",
       "                                                                              \n",
       "                                                                              \n",
       ") + 2⋅\\lVert {r_{t}} \\rVert⋅r_{t1}⋅Heaviside(\\lambda_{2}__{\\prime}) + 2⋅r_{t1}\n",
       "──────────────────────────────────────────────────────────────────────────────\n",
       "                                                                              \n",
       "                                                                              \n",
       "                                                                              \n",
       "                                                                              \n",
       "                                                                              \n",
       "                                                                              \n",
       "                                                                              \n",
       "                                                                              \n",
       "                                                                              \n",
       "                                                                              \n",
       "                                                                              \n",
       "                                                                              \n",
       "                                                                              \n",
       "                                                                              \n",
       "                                                                              \n",
       "                                                                              \n",
       "         \\Delta₁⋅\\Delta₂⋅μ⋅Max(0, \\lambda_1)   \\Delta₁⋅\\Delta₂⋅μ⋅Max(0, \\lambd\n",
       "         ─────────────────────────────────── - ───────────────────────────────\n",
       "                                      3                                     3 \n",
       "              2⋅\\lVert {\\Delta} \\rVert              2⋅\\lVert {\\Delta} \\rVert  \n",
       "\n",
       "                          2                                                   \n",
       "                     1.0⋅μ ⋅(μ - 1)⋅Heaviside(\\lambda_{1}__{\\prime\\prime})    \n",
       "                     ─────────────────────────────────────────────────────    \n",
       "                                          2                                   \n",
       "                                       2⋅μ  - 2.0⋅μ + 1.0                     \n",
       "                                                                              \n",
       "                                                                             ⎛\n",
       "⋅Max(0, \\lambda_{1}^{\\prime}) - 2.0⋅r_{t1}⋅Max(0, \\lambda_{2}^{\\prime}) + √2⋅⎝\n",
       "──────────────────────────────────────────────────────────────────────────────\n",
       "                                                          3                   \n",
       "                                     \\lVert {r_{t}} \\rVert                    \n",
       "                                                                              \n",
       "                          2                                                   \n",
       "                     1.0⋅μ ⋅(μ - 1)⋅Heaviside(\\lambda_{1}__{\\prime\\prime})    \n",
       "                     ─────────────────────────────────────────────────────    \n",
       "                                          2                                   \n",
       "                                       2⋅μ  - 2.0⋅μ + 1.0                     \n",
       "                                                                              \n",
       "                        μ⋅r_{t1}⋅r_{t2}⋅Heaviside(\\lambda_{1}__{\\prime})      \n",
       "                        ────────────────────────────────────────────────      \n",
       "                                                          2                   \n",
       "                                     \\lVert {r_{t}} \\rVert                    \n",
       "                                                                              \n",
       "               ⎛        \\Delta₁⋅μ                 μ⋅u_{t1}      ⎞             \n",
       "       \\Delta₂⋅⎜- ────────────────────── - ─────────────────────⎟⋅Heaviside(\\l\n",
       "a_2)           ⎝  \\lVert {\\Delta} \\rVert   \\lVert {u_{t}} \\rVert⎠             \n",
       "──── - ───────────────────────────────────────────────────────────────────────\n",
       "                                  2⋅\\lVert {\\Delta} \\rVert                    \n",
       "                                                                              \n",
       "\n",
       "                                                                              \n",
       "                                                                              \n",
       "                                                                              \n",
       "                                                                              \n",
       "                                                                              \n",
       "                                                                              \n",
       "        2                                          2                          \n",
       "- r_{t1} ⋅Heaviside(\\lambda_{1}__{\\prime}) + r_{t1} ⋅Heaviside(\\lambda_{2}__{\\\n",
       "──────────────────────────────────────────────────────────────────────────────\n",
       "                                                                              \n",
       "                                                                              \n",
       "                                                                              \n",
       "                                                                              \n",
       "                                                                              \n",
       "                                                                              \n",
       "                                                                              \n",
       "                                                                              \n",
       "                                                                              \n",
       "                                                                              \n",
       "                                                                              \n",
       "                                                                              \n",
       "                                                                              \n",
       "                                                                              \n",
       "                  ⎛      \\Delta₁⋅μ                 μ⋅u_{t1}      ⎞            \n",
       "ambda₁)   \\Delta₂⋅⎜────────────────────── - ─────────────────────⎟⋅Heaviside(\\\n",
       "                  ⎝\\lVert {\\Delta} \\rVert   \\lVert {u_{t}} \\rVert⎠            \n",
       "─────── + ────────────────────────────────────────────────────────────────────\n",
       "                                    2⋅\\lVert {\\Delta} \\rVert                  \n",
       "                                                                              \n",
       "\n",
       "                                                                              \n",
       "                                                                              \n",
       "                                                                              \n",
       "                                                                              \n",
       "                                                                              \n",
       "                                                                              \n",
       "                2                                          2                  \n",
       "prime}) - r_{t2} ⋅Heaviside(\\lambda_{1}__{\\prime}) + r_{t2} ⋅Heaviside(\\lambda\n",
       "──────────────────────────────────────────────────────────────────────────────\n",
       "                                                                              \n",
       "                                                                              \n",
       "                                                                              \n",
       "                                                                              \n",
       "                                                                              \n",
       "                                                                              \n",
       "                                                                              \n",
       "                                                                              \n",
       "                                                                              \n",
       "                                                                              \n",
       "                                                                              \n",
       "                                                                              \n",
       "                                                                              \n",
       "                                                                              \n",
       "                                                                              \n",
       "lambda₂)                                                                      \n",
       "                                                                              \n",
       "────────                                                                      \n",
       "                                                                              \n",
       "                                                                              \n",
       "\n",
       "                                                                              \n",
       "                                                                     2        \n",
       "                                            for \\lVert {r_{t}} \\rVert  ≤ \\epsi\n",
       "                                                                              \n",
       "                                                                              \n",
       "                                                                              \n",
       "               ⎞⎞                                                             \n",
       "_{2}__{\\prime})⎠⎠                                                    2        \n",
       "─────────────────                           for \\lVert {u_{t}} \\rVert  ≤ \\epsi\n",
       "                                                                              \n",
       "                                                                              \n",
       "                                                                              \n",
       "                                                                              \n",
       "                                              2                               \n",
       "                     for \\lVert {u_{t}} \\rVert  ≥ \\epsilon ∧ \\lVert {\\Delta} \\\n",
       "                                                                              \n",
       "                                                                              \n",
       "                                                                              \n",
       "                                              2                               \n",
       "                     for \\lVert {u_{t}} \\rVert  ≥ \\epsilon ∧ \\lVert {\\Delta} \\\n",
       "                                                                              \n",
       "                                                                              \n",
       "                                                                              \n",
       "                                                                              \n",
       "                                                                              \n",
       "                        ⎛⎛                     2                              \n",
       "                   for ¬⎝⎝\\lVert {u_{t}} \\rVert  ≥ \\epsilon ∧ \\lVert {\\Delta} \n",
       "                                                                              \n",
       "                                                                              \n",
       "\n",
       "                                                                \n",
       "                           2                                    \n",
       "lon ∧ \\lVert {u_{t}} \\rVert  ≤ \\epsilon                         \n",
       "                                                                \n",
       "                                                                \n",
       "                                                                \n",
       "                                                                \n",
       "                           2                                    \n",
       "lon ∧ \\lVert {r_{t}} \\rVert  > \\epsilon                         \n",
       "                                                                \n",
       "                                                                \n",
       "                                                                \n",
       "                                                                \n",
       "     2                                           2              \n",
       "rVert  ≤ \\epsilon⋅(μ + 1) ∧ \\lVert {r_{t}} \\rVert  ≤ \\epsilon   \n",
       "                                                                \n",
       "                                                                \n",
       "                                                                \n",
       "     2                                           2              \n",
       "rVert  ≤ \\epsilon⋅(μ + 1) ∧ \\lVert {r_{t}} \\rVert  > \\epsilon   \n",
       "                                                                \n",
       "                                                                \n",
       "                                                                \n",
       "                                                                \n",
       "                                                                \n",
       "      2                   ⎞                        2           ⎞\n",
       "\\rVert  ≤ \\epsilon⋅(μ + 1)⎠ ∨ \\lVert {u_{t}} \\rVert  ≤ \\epsilon⎠\n",
       "                                                                \n",
       "                                                                "
      ]
     },
     "execution_count": 63,
     "metadata": {},
     "output_type": "execute_result"
    }
   ],
   "source": [
    "make_readable(A[2, 1])"
   ]
  },
  {
   "cell_type": "code",
   "execution_count": 64,
   "metadata": {
    "autoscroll": "json-false",
    "collapsed": false,
    "ein.tags": [
     "worksheet-0"
    ]
   },
   "outputs": [],
   "source": [
    "with open('codegen/tex/A21_fnat.tex', 'w') as f:\n",
    "     f.write(latex(make_readable(A[2, 1])))"
   ]
  },
  {
   "cell_type": "markdown",
   "metadata": {
    "ein.tags": [
     "worksheet-0"
    ]
   },
   "source": [
    "## A[2, 2]"
   ]
  },
  {
   "cell_type": "code",
   "execution_count": 65,
   "metadata": {
    "autoscroll": "json-false",
    "collapsed": false,
    "ein.tags": [
     "worksheet-0"
    ]
   },
   "outputs": [
    {
     "data": {
      "text/plain": [
       "⎧                                                                             \n",
       "⎪                                                                             \n",
       "⎪          ⎛        \\Delta₂⋅μ                 μ⋅u_{t2}      ⎞                 \n",
       "⎪  \\Delta₂⋅⎜- ────────────────────── - ─────────────────────⎟⋅Heaviside(\\lambd\n",
       "⎪          ⎝  \\lVert {\\Delta} \\rVert   \\lVert {u_{t}} \\rVert⎠                 \n",
       "⎪- ───────────────────────────────────────────────────────────────────────────\n",
       "⎨                             2⋅\\lVert {\\Delta} \\rVert                        \n",
       "⎪                                                                             \n",
       "⎪                                                                             \n",
       "⎪                                                                             \n",
       "⎪                                                                             \n",
       "⎪                                                                             \n",
       "⎩                                                                             \n",
       "\n",
       "                                                                              \n",
       "                                                                              \n",
       "              ⎛      \\Delta₂⋅μ                 μ⋅u_{t2}      ⎞                \n",
       "a₁)   \\Delta₂⋅⎜────────────────────── - ─────────────────────⎟⋅Heaviside(\\lamb\n",
       "              ⎝\\lVert {\\Delta} \\rVert   \\lVert {u_{t}} \\rVert⎠                \n",
       "─── + ────────────────────────────────────────────────────────────────────────\n",
       "                                2⋅\\lVert {\\Delta} \\rVert                      \n",
       "                                                                              \n",
       "    ⎛        \\Delta₂⋅μ                 μ⋅u_{t2}      ⎞                       ⎛\n",
       "    ⎜- ────────────────────── - ─────────────────────⎟⋅Heaviside(\\lambda₁)   ⎜\n",
       "    ⎝  \\lVert {\\Delta} \\rVert   \\lVert {u_{t}} \\rVert⎠                       ⎝\n",
       "    ────────────────────────────────────────────────────────────────────── - ─\n",
       "                                      2                                       \n",
       "\n",
       "       ⎛                2                                 ⎞                   \n",
       "       ⎜         \\Delta₂ ⋅μ                   μ           ⎟                   \n",
       "       ⎜- ─────────────────────── + ──────────────────────⎟⋅Max(0, \\lambda_1) \n",
       "da₂)   ⎜                        3   \\lVert {\\Delta} \\rVert⎟                   \n",
       "       ⎝  \\lVert {\\Delta} \\rVert                          ⎠                   \n",
       "──── - ────────────────────────────────────────────────────────────────────── \n",
       "                                         2                                    \n",
       "                                                                              \n",
       "      \\Delta₂⋅μ                 μ⋅u_{t2}      ⎞                               \n",
       "────────────────────── - ─────────────────────⎟⋅Heaviside(\\lambda₂)           \n",
       "\\lVert {\\Delta} \\rVert   \\lVert {u_{t}} \\rVert⎠                               \n",
       "───────────────────────────────────────────────────────────────────           \n",
       "                                2                                             \n",
       "\n",
       "  ⎛              2                                 ⎞                          \n",
       "  ⎜       \\Delta₂ ⋅μ                   μ           ⎟                          \n",
       "  ⎜─────────────────────── - ──────────────────────⎟⋅Max(0, \\lambda_2)        \n",
       "  ⎜                      3   \\lVert {\\Delta} \\rVert⎟                          \n",
       "  ⎝\\lVert {\\Delta} \\rVert                          ⎠                          \n",
       "- ────────────────────────────────────────────────────────────────────  for \\l\n",
       "                                   2                                          \n",
       "                                                                              \n",
       "                                                                              \n",
       "                                                                              \n",
       "                                                                              \n",
       "                                                                        for \\l\n",
       "                                                                              \n",
       "\n",
       "                                        \n",
       "                                        \n",
       "                                        \n",
       "                                        \n",
       "                    2                   \n",
       "Vert {\\Delta} \\rVert  > \\epsilon⋅(μ + 1)\n",
       "                                        \n",
       "                                        \n",
       "                                        \n",
       "                                        \n",
       "                    2                   \n",
       "Vert {\\Delta} \\rVert  ≤ \\epsilon⋅(μ + 1)\n",
       "                                        "
      ]
     },
     "execution_count": 65,
     "metadata": {},
     "output_type": "execute_result"
    }
   ],
   "source": [
    "make_readable(A_[2, 2])"
   ]
  },
  {
   "cell_type": "code",
   "execution_count": 66,
   "metadata": {
    "autoscroll": "json-false",
    "collapsed": false,
    "ein.tags": [
     "worksheet-0"
    ]
   },
   "outputs": [],
   "source": [
    "A22_raw = flatten_piecewise(A_[2, 2]).args[0][0]"
   ]
  },
  {
   "cell_type": "code",
   "execution_count": 67,
   "metadata": {
    "autoscroll": "json-false",
    "collapsed": false,
    "ein.tags": [
     "worksheet-0"
    ]
   },
   "outputs": [
    {
     "data": {
      "text/plain": [
       "⎧                                                                             \n",
       "⎪                                                                             \n",
       "⎪                                                                             \n",
       "⎪                                                                             \n",
       "⎪                                                                             \n",
       "⎪                                                                             \n",
       "⎪       ⎛                              2                                      \n",
       "⎪0.25⋅μ⋅⎝2⋅\\lVert {r_{t}} \\rVert⋅r_{t2} ⋅Heaviside(\\lambda_{1}__{\\prime}) + 2⋅\n",
       "⎪─────────────────────────────────────────────────────────────────────────────\n",
       "⎪                                                                             \n",
       "⎪                                                                             \n",
       "⎪                                                                             \n",
       "⎪                                                                             \n",
       "⎪                                                                             \n",
       "⎪                                                                             \n",
       "⎨                                                                             \n",
       "⎪                                                                             \n",
       "⎪                                                                             \n",
       "⎪                                                                             \n",
       "⎪                                                                             \n",
       "⎪                                                                             \n",
       "⎪                                                                             \n",
       "⎪                                                                             \n",
       "⎪                                                                             \n",
       "⎪                                                                             \n",
       "⎪                                                                             \n",
       "⎪                                                                   ⎛        \\\n",
       "⎪                                                           \\Delta₂⋅⎜- ───────\n",
       "⎪                                                                   ⎝  \\lVert \n",
       "⎪                                                         - ──────────────────\n",
       "⎩                                                                             \n",
       "\n",
       "                                                                              \n",
       "                                                                              \n",
       "                                                                              \n",
       "                                                                              \n",
       "                                                                              \n",
       "                                                                              \n",
       "                            2                                              2  \n",
       "\\lVert {r_{t}} \\rVert⋅r_{t2} ⋅Heaviside(\\lambda_{2}__{\\prime}) - 2.0⋅r_{t1} ⋅M\n",
       "──────────────────────────────────────────────────────────────────────────────\n",
       "                                                                              \n",
       "                                                                              \n",
       "                                                                              \n",
       "                                                                              \n",
       "                                                                              \n",
       "                                                                              \n",
       "                                                                              \n",
       "                                                                              \n",
       "                                                                              \n",
       "                                                                              \n",
       "                                                                              \n",
       "                                                                              \n",
       "                                                                              \n",
       "                                                                              \n",
       "                                                                              \n",
       "                                                                              \n",
       "                                                                              \n",
       "Delta₂⋅μ                 μ⋅u_{t2}      ⎞                               ⎛      \n",
       "─────────────── - ─────────────────────⎟⋅Heaviside(\\lambda₁)   \\Delta₂⋅⎜──────\n",
       "{\\Delta} \\rVert   \\lVert {u_{t}} \\rVert⎠                               ⎝\\lVert\n",
       "──────────────────────────────────────────────────────────── + ───────────────\n",
       "         2⋅\\lVert {\\Delta} \\rVert                                             \n",
       "\n",
       "                                  3                                           \n",
       "                                 μ ⋅Heaviside(\\lambda_{1}__{\\prime\\prime})    \n",
       "                                 ─────────────────────────────────────────    \n",
       "                                                  2                           \n",
       "                                               2⋅μ  - 2⋅μ + 1                 \n",
       "                                                                              \n",
       "                                      2                                   ⎛   \n",
       "ax(0, \\lambda_{1}^{\\prime}) + 2⋅r_{t1} ⋅Max(0, \\lambda_{2}^{\\prime}) + √2⋅⎝- r\n",
       "──────────────────────────────────────────────────────────────────────────────\n",
       "                                                                3             \n",
       "                                           \\lVert {r_{t}} \\rVert              \n",
       "                                                                              \n",
       "                                  3                                           \n",
       "                                 μ ⋅Heaviside(\\lambda_{1}__{\\prime\\prime})    \n",
       "                                 ─────────────────────────────────────────    \n",
       "                                                  2                           \n",
       "                                               2⋅μ  - 2⋅μ + 1                 \n",
       "                                                                              \n",
       "                                        2                                     \n",
       "                                μ⋅r_{t2} ⋅Heaviside(\\lambda_{1}__{\\prime})    \n",
       "                                ──────────────────────────────────────────    \n",
       "                                                               2              \n",
       "                                          \\lVert {r_{t}} \\rVert               \n",
       "                                                                              \n",
       "                                                                ⎛             \n",
       "                                                                ⎜         \\Del\n",
       "\\Delta₂⋅μ                 μ⋅u_{t2}      ⎞                       ⎜- ───────────\n",
       "──────────────── - ─────────────────────⎟⋅Heaviside(\\lambda₂)   ⎜             \n",
       " {\\Delta} \\rVert   \\lVert {u_{t}} \\rVert⎠                       ⎝  \\lVert {\\De\n",
       "───────────────────────────────────────────────────────────── - ──────────────\n",
       "           2⋅\\lVert {\\Delta} \\rVert                                           \n",
       "\n",
       "                                                                              \n",
       "                                                                              \n",
       "                                                                              \n",
       "                                                                              \n",
       "                                                                              \n",
       "                                                                              \n",
       "     2                                                 2                      \n",
       "_{t1} ⋅r_{t2}⋅Heaviside(\\lambda_{1}__{\\prime}) + r_{t1} ⋅r_{t2}⋅Heaviside(\\lam\n",
       "──────────────────────────────────────────────────────────────────────────────\n",
       "                                                                              \n",
       "                                                                              \n",
       "                                                                              \n",
       "                                                                              \n",
       "                                                                              \n",
       "                                                                              \n",
       "                                                                              \n",
       "                                                                              \n",
       "                                                                              \n",
       "                                                                              \n",
       "                                                                              \n",
       "                                                                              \n",
       "                                                                              \n",
       "                                                                              \n",
       "                                                                              \n",
       "   2                                 ⎞                     ⎛              2   \n",
       "ta₂ ⋅μ                   μ           ⎟                     ⎜       \\Delta₂ ⋅μ \n",
       "──────────── + ──────────────────────⎟⋅Max(0, \\lambda_1)   ⎜──────────────────\n",
       "           3   \\lVert {\\Delta} \\rVert⎟                     ⎜                  \n",
       "lta} \\rVert                          ⎠                     ⎝\\lVert {\\Delta} \\r\n",
       "──────────────────────────────────────────────────────── - ───────────────────\n",
       "                    2                                                         \n",
       "\n",
       "                                                                              \n",
       "                                                                              \n",
       "                                                                              \n",
       "                                                                              \n",
       "                                                                              \n",
       "                                                                              \n",
       "                           3                                          3       \n",
       "bda_{2}__{\\prime}) - r_{t2} ⋅Heaviside(\\lambda_{1}__{\\prime}) + r_{t2} ⋅Heavis\n",
       "──────────────────────────────────────────────────────────────────────────────\n",
       "                                                                              \n",
       "                                                                              \n",
       "                                                                              \n",
       "                                                                              \n",
       "                                                                              \n",
       "                                                                              \n",
       "                                                                              \n",
       "                                                                              \n",
       "                                                                              \n",
       "                                                                              \n",
       "                                                                              \n",
       "                                                                              \n",
       "                                                                              \n",
       "                                                                              \n",
       "                                                                              \n",
       "                              ⎞                                               \n",
       "                  μ           ⎟                                               \n",
       "───── - ──────────────────────⎟⋅Max(0, \\lambda_2)                             \n",
       "    3   \\lVert {\\Delta} \\rVert⎟                                               \n",
       "Vert                          ⎠                                               \n",
       "─────────────────────────────────────────────────                             \n",
       "              2                                                               \n",
       "\n",
       "                                                                              \n",
       "                                                                              \n",
       "                                                       for \\lVert {r_{t}} \\rVe\n",
       "                                                                              \n",
       "                                                                              \n",
       "                                                                              \n",
       "                          ⎞⎞                                                  \n",
       "ide(\\lambda_{2}__{\\prime})⎠⎠                                                  \n",
       "────────────────────────────                           for \\lVert {u_{t}} \\rVe\n",
       "                                                                              \n",
       "                                                                              \n",
       "                                                                              \n",
       "                                                                              \n",
       "                                                         2                    \n",
       "                                for \\lVert {u_{t}} \\rVert  ≥ \\epsilon ∧ \\lVert\n",
       "                                                                              \n",
       "                                                                              \n",
       "                                                                              \n",
       "                                                                              \n",
       "                                                         2                    \n",
       "                                for \\lVert {u_{t}} \\rVert  ≥ \\epsilon ∧ \\lVert\n",
       "                                                                              \n",
       "                                                                              \n",
       "                                                                              \n",
       "                                                                              \n",
       "                                                                              \n",
       "                                                                              \n",
       "                                                                              \n",
       "                                   ⎛⎛                     2                   \n",
       "                              for ¬⎝⎝\\lVert {u_{t}} \\rVert  ≥ \\epsilon ∧ \\lVer\n",
       "                                                                              \n",
       "\n",
       "                                                                           \n",
       "  2                                   2                                    \n",
       "rt  ≤ \\epsilon ∧ \\lVert {u_{t}} \\rVert  ≤ \\epsilon                         \n",
       "                                                                           \n",
       "                                                                           \n",
       "                                                                           \n",
       "                                                                           \n",
       "  2                                   2                                    \n",
       "rt  ≤ \\epsilon ∧ \\lVert {r_{t}} \\rVert  > \\epsilon                         \n",
       "                                                                           \n",
       "                                                                           \n",
       "                                                                           \n",
       "                                                                           \n",
       "                2                                           2              \n",
       " {\\Delta} \\rVert  ≤ \\epsilon⋅(μ + 1) ∧ \\lVert {r_{t}} \\rVert  ≤ \\epsilon   \n",
       "                                                                           \n",
       "                                                                           \n",
       "                                                                           \n",
       "                                                                           \n",
       "                2                                           2              \n",
       " {\\Delta} \\rVert  ≤ \\epsilon⋅(μ + 1) ∧ \\lVert {r_{t}} \\rVert  > \\epsilon   \n",
       "                                                                           \n",
       "                                                                           \n",
       "                                                                           \n",
       "                                                                           \n",
       "                                                                           \n",
       "                                                                           \n",
       "                                                                           \n",
       "                 2                   ⎞                        2           ⎞\n",
       "t {\\Delta} \\rVert  ≤ \\epsilon⋅(μ + 1)⎠ ∨ \\lVert {u_{t}} \\rVert  ≤ \\epsilon⎠\n",
       "                                                                           "
      ]
     },
     "execution_count": 67,
     "metadata": {},
     "output_type": "execute_result"
    }
   ],
   "source": [
    "A[2, 2] = natfixA(A22_raw)\n",
    "make_readable(A[2, 2])"
   ]
  },
  {
   "cell_type": "code",
   "execution_count": 68,
   "metadata": {
    "autoscroll": "json-false",
    "collapsed": false,
    "ein.tags": [
     "worksheet-0"
    ]
   },
   "outputs": [
    {
     "data": {
      "text/plain": [
       "       ⎛                                    ⎛                       __________\n",
       "       ⎜                     2              ⎜                      ╱    2     \n",
       "0.25⋅μ⋅⎝- 1.4142135623731⋅rt₁ ⋅rt₂⋅Heaviside⎝μ⋅rn - 1.0⋅un - 1.0⋅╲╱  rt₁  + rt\n",
       "──────────────────────────────────────────────────────────────────────────────\n",
       "                                                                              \n",
       "                                                                              \n",
       "                                                                              \n",
       "\n",
       "___⎞                                     ⎛                   _____________⎞   \n",
       " 2 ⎟                      2              ⎜                  ╱    2      2 ⎟   \n",
       "₂  ⎠ + 1.4142135623731⋅rt₁ ⋅rt₂⋅Heaviside⎝μ⋅rn - 1.0⋅un + ╲╱  rt₁  + rt₂  ⎠ - \n",
       "──────────────────────────────────────────────────────────────────────────────\n",
       "                                                                              \n",
       "                                                                              \n",
       "                                                                              \n",
       "\n",
       "                                                                              \n",
       "       2                                                     2                \n",
       "2.0⋅rt₁ ⋅Max(0, mu*rn - un - sqrt(rt1**2 + rt2**2)) + 2.0⋅rt₁ ⋅Max(0, mu*rn - \n",
       "──────────────────────────────────────────────────────────────────────────────\n",
       "                                                                              \n",
       "                                                                              \n",
       "                                                                              \n",
       "\n",
       "                                                            ⎛                 \n",
       "                                                 3          ⎜                 \n",
       "un + sqrt(rt1**2 + rt2**2)) - 1.4142135623731⋅rt₂ ⋅Heaviside⎝μ⋅rn - 1.0⋅un - 1\n",
       "──────────────────────────────────────────────────────────────────────────────\n",
       "                                             3/2                              \n",
       "                                ⎛   2      2⎞                                 \n",
       "                                ⎝rt₁  + rt₂ ⎠                                 \n",
       "\n",
       "      _____________⎞                                 ⎛                   _____\n",
       "     ╱    2      2 ⎟                      3          ⎜                  ╱    2\n",
       ".0⋅╲╱  rt₁  + rt₂  ⎠ + 1.4142135623731⋅rt₂ ⋅Heaviside⎝μ⋅rn - 1.0⋅un + ╲╱  rt₁ \n",
       "──────────────────────────────────────────────────────────────────────────────\n",
       "                                                                              \n",
       "                                                                              \n",
       "                                                                              \n",
       "\n",
       "________⎞               _____________          ⎛                       _______\n",
       "      2 ⎟          2   ╱    2      2           ⎜                      ╱    2  \n",
       " + rt₂  ⎠ + 2.0⋅rt₂ ⋅╲╱  rt₁  + rt₂  ⋅Heaviside⎝μ⋅rn - 1.0⋅un - 1.0⋅╲╱  rt₁  +\n",
       "──────────────────────────────────────────────────────────────────────────────\n",
       "                                                                              \n",
       "                                                                              \n",
       "                                                                              \n",
       "\n",
       "______⎞               _____________          ⎛                   _____________\n",
       "    2 ⎟          2   ╱    2      2           ⎜                  ╱    2      2 \n",
       " rt₂  ⎠ + 2.0⋅rt₂ ⋅╲╱  rt₁  + rt₂  ⋅Heaviside⎝μ⋅rn - 1.0⋅un + ╲╱  rt₁  + rt₂  \n",
       "──────────────────────────────────────────────────────────────────────────────\n",
       "                                                                              \n",
       "                                                                              \n",
       "                                                                              \n",
       "\n",
       "⎞⎞\n",
       "⎟⎟\n",
       "⎠⎠\n",
       "──\n",
       "  \n",
       "  \n",
       "  "
      ]
     },
     "execution_count": 68,
     "metadata": {},
     "output_type": "execute_result"
    }
   ],
   "source": [
    "mlimit(simplify(mlimit(A22_raw.subs(ut1, t).subs(ut2, t), t, 0)).subs(rt1, t).subs(rt2, 0), t, 0)"
   ]
  },
  {
   "cell_type": "code",
   "execution_count": 69,
   "metadata": {
    "autoscroll": "json-false",
    "collapsed": false,
    "ein.tags": [
     "worksheet-0"
    ]
   },
   "outputs": [],
   "source": [
    "with open('codegen/tex/A22_fnat.tex', 'w') as f:\n",
    "     f.write(latex(make_readable(A[2, 2])))"
   ]
  },
  {
   "cell_type": "markdown",
   "metadata": {
    "ein.tags": [
     "worksheet-0"
    ]
   },
   "source": [
    "# B"
   ]
  },
  {
   "cell_type": "code",
   "execution_count": 70,
   "metadata": {
    "autoscroll": "json-false",
    "collapsed": false,
    "ein.tags": [
     "worksheet-0"
    ]
   },
   "outputs": [],
   "source": [
    "B = Matrix(3, 3, lambda i,j: 0)"
   ]
  },
  {
   "cell_type": "markdown",
   "metadata": {
    "ein.tags": [
     "worksheet-0"
    ]
   },
   "source": [
    "## B[:, 0]"
   ]
  },
  {
   "cell_type": "code",
   "execution_count": 71,
   "metadata": {
    "autoscroll": "json-false",
    "collapsed": false,
    "ein.tags": [
     "worksheet-0"
    ]
   },
   "outputs": [
    {
     "data": {
      "text/plain": [
       "⎡                                μ⋅Heaviside(\\lambda₁)   μ⋅Heaviside(\\lambda₂)\n",
       "⎢                              - ───────────────────── - ─────────────────────\n",
       "⎢                                          2                       2          \n",
       "⎢                                                                             \n",
       "⎢⎧  \\Delta₁⋅μ⋅Heaviside(\\lambda₁)   \\Delta₁⋅μ⋅Heaviside(\\lambda₂)             \n",
       "⎢⎪- ───────────────────────────── + ─────────────────────────────  for \\lVert \n",
       "⎢⎪     2⋅\\lVert {\\Delta} \\rVert        2⋅\\lVert {\\Delta} \\rVert               \n",
       "⎢⎨                                                                            \n",
       "⎢⎪                                                                            \n",
       "⎢⎪                               0                                 for \\lVert \n",
       "⎢⎩                                                                            \n",
       "⎢                                                                             \n",
       "⎢⎧  \\Delta₂⋅μ⋅Heaviside(\\lambda₁)   \\Delta₂⋅μ⋅Heaviside(\\lambda₂)             \n",
       "⎢⎪- ───────────────────────────── + ─────────────────────────────  for \\lVert \n",
       "⎢⎪     2⋅\\lVert {\\Delta} \\rVert        2⋅\\lVert {\\Delta} \\rVert               \n",
       "⎢⎨                                                                            \n",
       "⎢⎪         μ⋅Heaviside(\\lambda₁)   μ⋅Heaviside(\\lambda₂)                      \n",
       "⎢⎪         ───────────────────── - ─────────────────────           for \\lVert \n",
       "⎣⎩                   2                       2                                \n",
       "\n",
       "                                   ⎤\n",
       " + μ                               ⎥\n",
       "                                   ⎥\n",
       "                                   ⎥\n",
       "               2                   ⎥\n",
       "{\\Delta} \\rVert  > \\epsilon⋅(μ + 1)⎥\n",
       "                                   ⎥\n",
       "                                   ⎥\n",
       "               2                   ⎥\n",
       "{\\Delta} \\rVert  ≤ \\epsilon⋅(μ + 1)⎥\n",
       "                                   ⎥\n",
       "                                   ⎥\n",
       "               2                   ⎥\n",
       "{\\Delta} \\rVert  > \\epsilon⋅(μ + 1)⎥\n",
       "                                   ⎥\n",
       "                                   ⎥\n",
       "               2                   ⎥\n",
       "{\\Delta} \\rVert  ≤ \\epsilon⋅(μ + 1)⎥\n",
       "                                   ⎦"
      ]
     },
     "execution_count": 71,
     "metadata": {},
     "output_type": "execute_result"
    }
   ],
   "source": [
    "B[:, 0] = B_[:, 0]\n",
    "make_readable(B[:, 0])"
   ]
  },
  {
   "cell_type": "code",
   "execution_count": 72,
   "metadata": {
    "autoscroll": "json-false",
    "collapsed": false,
    "ein.tags": [
     "worksheet-0"
    ]
   },
   "outputs": [],
   "source": [
    "with open('codegen/tex/B0_fnat.tex', 'w') as f:\n",
    "     f.write(latex(make_readable(B[:, 0])))"
   ]
  },
  {
   "cell_type": "markdown",
   "metadata": {
    "ein.tags": [
     "worksheet-0"
    ]
   },
   "source": [
    "## B[0, 1]"
   ]
  },
  {
   "cell_type": "code",
   "execution_count": 73,
   "metadata": {
    "autoscroll": "json-false",
    "collapsed": false,
    "ein.tags": [
     "worksheet-0"
    ]
   },
   "outputs": [
    {
     "data": {
      "text/plain": [
       "  \\Delta₁⋅Heaviside(\\lambda₁)   \\Delta₁⋅Heaviside(\\lambda₂)\n",
       "- ─────────────────────────── + ───────────────────────────\n",
       "    2⋅\\lVert {\\Delta} \\rVert      2⋅\\lVert {\\Delta} \\rVert "
      ]
     },
     "execution_count": 73,
     "metadata": {},
     "output_type": "execute_result"
    }
   ],
   "source": [
    "make_readable(B_[0, 1])\n"
   ]
  },
  {
   "cell_type": "code",
   "execution_count": 74,
   "metadata": {
    "autoscroll": "json-false",
    "collapsed": false,
    "ein.tags": [
     "worksheet-0"
    ]
   },
   "outputs": [
    {
     "name": "stdout",
     "output_type": "stream",
     "text": [
      "Warning: subs failed for 0.0!!!!\n"
     ]
    }
   ],
   "source": [
    "B[0, 1] = natfixB(B_[0, 1])"
   ]
  },
  {
   "cell_type": "code",
   "execution_count": 75,
   "metadata": {
    "autoscroll": "json-false",
    "collapsed": false,
    "ein.tags": [
     "worksheet-0"
    ]
   },
   "outputs": [
    {
     "data": {
      "text/plain": [
       "⎧                                                                             \n",
       "⎪                            0.0                              for \\lVert {\\Del\n",
       "⎪                                                                             \n",
       "⎨  \\Delta₁⋅Heaviside(\\lambda₁)   \\Delta₁⋅Heaviside(\\lambda₂)                  \n",
       "⎪- ─────────────────────────── + ───────────────────────────  for \\lVert {\\Del\n",
       "⎪    2⋅\\lVert {\\Delta} \\rVert      2⋅\\lVert {\\Delta} \\rVert                   \n",
       "⎩                                                                             \n",
       "\n",
       "          2                   \n",
       "ta} \\rVert  ≤ \\epsilon⋅(μ + 1)\n",
       "                              \n",
       "          2                   \n",
       "ta} \\rVert  > \\epsilon⋅(μ + 1)\n",
       "                              \n",
       "                              "
      ]
     },
     "execution_count": 75,
     "metadata": {},
     "output_type": "execute_result"
    }
   ],
   "source": [
    "make_readable(B[0, 1])"
   ]
  },
  {
   "cell_type": "code",
   "execution_count": 76,
   "metadata": {
    "autoscroll": "json-false",
    "collapsed": false,
    "ein.tags": [
     "worksheet-0"
    ]
   },
   "outputs": [],
   "source": [
    "with open('codegen/tex/B01_fnat.tex', 'w') as f:\n",
    "     f.write(latex(make_readable(B[0, 1])))"
   ]
  },
  {
   "cell_type": "markdown",
   "metadata": {
    "ein.tags": [
     "worksheet-0"
    ]
   },
   "source": [
    "## B[0, 2]"
   ]
  },
  {
   "cell_type": "code",
   "execution_count": 77,
   "metadata": {
    "autoscroll": "json-false",
    "collapsed": false,
    "ein.tags": [
     "worksheet-0"
    ]
   },
   "outputs": [
    {
     "data": {
      "text/plain": [
       "  \\Delta₂⋅Heaviside(\\lambda₁)   \\Delta₂⋅Heaviside(\\lambda₂)\n",
       "- ─────────────────────────── + ───────────────────────────\n",
       "    2⋅\\lVert {\\Delta} \\rVert      2⋅\\lVert {\\Delta} \\rVert "
      ]
     },
     "execution_count": 77,
     "metadata": {},
     "output_type": "execute_result"
    }
   ],
   "source": [
    "make_readable(B_[0, 2])"
   ]
  },
  {
   "cell_type": "code",
   "execution_count": 78,
   "metadata": {
    "autoscroll": "json-false",
    "collapsed": false,
    "ein.tags": [
     "worksheet-0"
    ]
   },
   "outputs": [
    {
     "name": "stdout",
     "output_type": "stream",
     "text": [
      "Warning: subs failed for 0.0!!!!\n"
     ]
    }
   ],
   "source": [
    "B[0, 2] = natfixB(B_[0, 2])"
   ]
  },
  {
   "cell_type": "code",
   "execution_count": 79,
   "metadata": {
    "autoscroll": "json-false",
    "collapsed": false,
    "ein.tags": [
     "worksheet-0"
    ]
   },
   "outputs": [
    {
     "data": {
      "text/plain": [
       "⎧                                                                             \n",
       "⎪                            0.0                              for \\lVert {\\Del\n",
       "⎪                                                                             \n",
       "⎨  \\Delta₂⋅Heaviside(\\lambda₁)   \\Delta₂⋅Heaviside(\\lambda₂)                  \n",
       "⎪- ─────────────────────────── + ───────────────────────────  for \\lVert {\\Del\n",
       "⎪    2⋅\\lVert {\\Delta} \\rVert      2⋅\\lVert {\\Delta} \\rVert                   \n",
       "⎩                                                                             \n",
       "\n",
       "          2                   \n",
       "ta} \\rVert  ≤ \\epsilon⋅(μ + 1)\n",
       "                              \n",
       "          2                   \n",
       "ta} \\rVert  > \\epsilon⋅(μ + 1)\n",
       "                              \n",
       "                              "
      ]
     },
     "execution_count": 79,
     "metadata": {},
     "output_type": "execute_result"
    }
   ],
   "source": [
    "make_readable(B[0, 2])"
   ]
  },
  {
   "cell_type": "code",
   "execution_count": 80,
   "metadata": {
    "autoscroll": "json-false",
    "collapsed": false,
    "ein.tags": [
     "worksheet-0"
    ]
   },
   "outputs": [],
   "source": [
    "with open('codegen/tex/B02_fnat.tex', 'w') as f:\n",
    "     f.write(latex(make_readable(B[0, 2])))"
   ]
  },
  {
   "cell_type": "markdown",
   "metadata": {
    "ein.tags": [
     "worksheet-0"
    ]
   },
   "source": [
    "## B[1, 1]"
   ]
  },
  {
   "cell_type": "code",
   "execution_count": 81,
   "metadata": {
    "autoscroll": "json-false",
    "collapsed": false,
    "ein.tags": [
     "worksheet-0"
    ]
   },
   "outputs": [
    {
     "data": {
      "text/plain": [
       "⎧                                                                ⎛            \n",
       "⎪                                                                ⎜          \\D\n",
       "⎪                                                                ⎜- ──────────\n",
       "⎪         2                              2                       ⎜            \n",
       "⎪  \\Delta₁ ⋅Heaviside(\\lambda₁)   \\Delta₁ ⋅Heaviside(\\lambda₂)   ⎝  \\lVert {\\D\n",
       "⎨- ──────────────────────────── - ──────────────────────────── - ─────────────\n",
       "⎪                           2                              2                  \n",
       "⎪   2⋅\\lVert {\\Delta} \\rVert       2⋅\\lVert {\\Delta} \\rVert                   \n",
       "⎪                                                                             \n",
       "⎪                                                                             \n",
       "⎩                                                                             \n",
       "\n",
       "     2                                ⎞                     ⎛               2 \n",
       "elta₁                     1           ⎟                     ⎜        \\Delta₁  \n",
       "───────────── + ──────────────────────⎟⋅Max(0, \\lambda_2)   ⎜─────────────────\n",
       "            3   \\lVert {\\Delta} \\rVert⎟                     ⎜                 \n",
       "elta} \\rVert                          ⎠                     ⎝\\lVert {\\Delta} \\\n",
       "───────────────────────────────────────────────────────── - ──────────────────\n",
       "                     2                                                        \n",
       "                                                                              \n",
       "                                                                              \n",
       "                                                                              \n",
       "                           1                                                  \n",
       "\n",
       "                               ⎞                                              \n",
       "                   1           ⎟                                              \n",
       "────── - ──────────────────────⎟⋅Max(0, \\lambda_1)                            \n",
       "     3   \\lVert {\\Delta} \\rVert⎟                                              \n",
       "rVert                          ⎠                                              \n",
       "────────────────────────────────────────────────── + 1  for \\lVert {\\Delta} \\r\n",
       "               2                                                              \n",
       "                                                                              \n",
       "                                                                              \n",
       "                                                                              \n",
       "                                                        for \\lVert {\\Delta} \\r\n",
       "\n",
       "                        \n",
       "                        \n",
       "                        \n",
       "                        \n",
       "    2                   \n",
       "Vert  > \\epsilon⋅(μ + 1)\n",
       "                        \n",
       "                        \n",
       "                        \n",
       "    2                   \n",
       "Vert  ≤ \\epsilon⋅(μ + 1)"
      ]
     },
     "execution_count": 81,
     "metadata": {},
     "output_type": "execute_result"
    }
   ],
   "source": [
    "make_readable(B_[1, 1])"
   ]
  },
  {
   "cell_type": "code",
   "execution_count": 82,
   "metadata": {
    "autoscroll": "json-false",
    "collapsed": false,
    "ein.tags": [
     "worksheet-0"
    ]
   },
   "outputs": [],
   "source": [
    "B[1, 1] = B_[1, 1]"
   ]
  },
  {
   "cell_type": "code",
   "execution_count": 83,
   "metadata": {
    "autoscroll": "json-false",
    "collapsed": false,
    "ein.tags": [
     "worksheet-0"
    ]
   },
   "outputs": [],
   "source": [
    "with open('codegen/tex/B11_fnat.tex', 'w') as f:\n",
    "     f.write(latex(make_readable(B[1, 1])))\n"
   ]
  },
  {
   "cell_type": "markdown",
   "metadata": {
    "ein.tags": [
     "worksheet-0"
    ]
   },
   "source": [
    "## B[1, 2]"
   ]
  },
  {
   "cell_type": "code",
   "execution_count": 84,
   "metadata": {
    "autoscroll": "json-false",
    "collapsed": false,
    "ein.tags": [
     "worksheet-0"
    ]
   },
   "outputs": [
    {
     "data": {
      "text/plain": [
       "⎧  \\Delta₁⋅\\Delta₂⋅Heaviside(\\lambda₁)   \\Delta₁⋅\\Delta₂⋅Heaviside(\\lambda₂)  \n",
       "⎪- ─────────────────────────────────── - ─────────────────────────────────── -\n",
       "⎪                               2                                     2       \n",
       "⎨       2⋅\\lVert {\\Delta} \\rVert              2⋅\\lVert {\\Delta} \\rVert        \n",
       "⎪                                                                             \n",
       "⎪                                                                             \n",
       "⎩                                                                         0   \n",
       "\n",
       " \\Delta₁⋅\\Delta₂⋅Max(0, \\lambda_1)   \\Delta₁⋅\\Delta₂⋅Max(0, \\lambda_2)        \n",
       " ───────────────────────────────── + ─────────────────────────────────  for \\l\n",
       "                             3                                   3            \n",
       "     2⋅\\lVert {\\Delta} \\rVert            2⋅\\lVert {\\Delta} \\rVert             \n",
       "                                                                              \n",
       "                                                                              \n",
       "                                                                        for \\l\n",
       "\n",
       "                    2                   \n",
       "Vert {\\Delta} \\rVert  > \\epsilon⋅(μ + 1)\n",
       "                                        \n",
       "                                        \n",
       "                                        \n",
       "                    2                   \n",
       "Vert {\\Delta} \\rVert  ≤ \\epsilon⋅(μ + 1)"
      ]
     },
     "execution_count": 84,
     "metadata": {},
     "output_type": "execute_result"
    }
   ],
   "source": [
    "make_readable(B_[1, 2])"
   ]
  },
  {
   "cell_type": "code",
   "execution_count": 85,
   "metadata": {
    "autoscroll": "json-false",
    "collapsed": false,
    "ein.tags": [
     "worksheet-0"
    ]
   },
   "outputs": [],
   "source": [
    "B[1, 2] = B_[1, 2]"
   ]
  },
  {
   "cell_type": "code",
   "execution_count": 86,
   "metadata": {
    "autoscroll": "json-false",
    "collapsed": false,
    "ein.tags": [
     "worksheet-0"
    ]
   },
   "outputs": [],
   "source": [
    "with open('codegen/tex/B12_fnat.tex', 'w') as f:\n",
    "     f.write(latex(make_readable(B[1, 2])))"
   ]
  },
  {
   "cell_type": "markdown",
   "metadata": {
    "ein.tags": [
     "worksheet-0"
    ]
   },
   "source": [
    "## B[2, 1]"
   ]
  },
  {
   "cell_type": "code",
   "execution_count": 87,
   "metadata": {
    "autoscroll": "json-false",
    "collapsed": false,
    "ein.tags": [
     "worksheet-0"
    ]
   },
   "outputs": [
    {
     "data": {
      "text/plain": [
       "  \\Delta₁⋅\\Delta₂⋅Heaviside(\\lambda₁)   \\Delta₁⋅\\Delta₂⋅Heaviside(\\lambda₂)   \n",
       "- ─────────────────────────────────── - ─────────────────────────────────── - \n",
       "                               2                                     2        \n",
       "       2⋅\\lVert {\\Delta} \\rVert              2⋅\\lVert {\\Delta} \\rVert         \n",
       "\n",
       "\\Delta₁⋅\\Delta₂⋅Max(0, \\lambda_1)   \\Delta₁⋅\\Delta₂⋅Max(0, \\lambda_2)\n",
       "───────────────────────────────── + ─────────────────────────────────\n",
       "                            3                                   3    \n",
       "    2⋅\\lVert {\\Delta} \\rVert            2⋅\\lVert {\\Delta} \\rVert     "
      ]
     },
     "execution_count": 87,
     "metadata": {},
     "output_type": "execute_result"
    }
   ],
   "source": [
    "B21_delta0 = flatten_piecewise(B_[2, 1]).args[0][0]\n",
    "make_readable(B21_delta0)"
   ]
  },
  {
   "cell_type": "code",
   "execution_count": 88,
   "metadata": {
    "autoscroll": "json-false",
    "collapsed": false,
    "ein.tags": [
     "worksheet-0"
    ]
   },
   "outputs": [
    {
     "data": {
      "text/plain": [
       "-1.0⋅r_{t1}⋅r_{t2}⋅Heaviside(\\lambda_{1}__{\\prime}) \n",
       "────────────────────────────────────────────────────\n",
       "                                    2               \n",
       "               \\lVert {r_{t}} \\rVert                "
      ]
     },
     "execution_count": 88,
     "metadata": {},
     "output_type": "execute_result"
    }
   ],
   "source": [
    "make_readable(mlimit(B21_delta0.subs(ut1, (1+t)*rt1/mu).subs(ut2, (1+t)*rt2/mu), t, 0))\n"
   ]
  },
  {
   "cell_type": "code",
   "execution_count": 89,
   "metadata": {
    "autoscroll": "json-false",
    "collapsed": false,
    "ein.tags": [
     "worksheet-0"
    ]
   },
   "outputs": [
    {
     "data": {
      "text/plain": [
       "\\Delta₁⋅Heaviside(\\lambda₁)   \\Delta₁⋅Heaviside(\\lambda₂)\n",
       "─────────────────────────── + ───────────────────────────\n",
       "  2⋅\\lVert {\\Delta} \\rVert      2⋅\\lVert {\\Delta} \\rVert "
      ]
     },
     "execution_count": 89,
     "metadata": {},
     "output_type": "execute_result"
    }
   ],
   "source": [
    "B21_delta1 = flatten_piecewise(B_[2, 1]).args[1][0]\n",
    "make_readable(B21_delta1)"
   ]
  },
  {
   "cell_type": "code",
   "execution_count": 90,
   "metadata": {
    "autoscroll": "json-false",
    "collapsed": false,
    "ein.tags": [
     "worksheet-0"
    ]
   },
   "outputs": [
    {
     "data": {
      "text/plain": [
       "r_{t1}⋅Heaviside(\\lambda_{1}__{\\prime})\n",
       "───────────────────────────────────────\n",
       "         \\lVert {r_{t}} \\rVert         "
      ]
     },
     "execution_count": 90,
     "metadata": {},
     "output_type": "execute_result"
    }
   ],
   "source": [
    "make_readable(mlimit(B21_delta1.subs(ut1, (1+t)*rt1/mu).subs(ut2, (1+t)*rt2/mu), t, 0))\n"
   ]
  },
  {
   "cell_type": "code",
   "execution_count": 110,
   "metadata": {
    "autoscroll": "json-false",
    "collapsed": false,
    "ein.tags": [
     "worksheet-0"
    ]
   },
   "outputs": [
    {
     "data": {
      "text/plain": [
       "⎧                                                                             \n",
       "⎪                                                                        0.0  \n",
       "⎪                                                                             \n",
       "⎪                                               -1.0⋅r_{t1}⋅r_{t2}⋅Heaviside(\\\n",
       "⎪                                               ──────────────────────────────\n",
       "⎪                                                                             \n",
       "⎨                                                              \\lVert {r_{t}} \n",
       "⎪                                                                             \n",
       "⎪  \\Delta₁⋅\\Delta₂⋅Heaviside(\\lambda₁)   \\Delta₁⋅\\Delta₂⋅Heaviside(\\lambda₂)  \n",
       "⎪- ─────────────────────────────────── - ─────────────────────────────────── -\n",
       "⎪                               2                                     2       \n",
       "⎪       2⋅\\lVert {\\Delta} \\rVert              2⋅\\lVert {\\Delta} \\rVert        \n",
       "⎩                                                                             \n",
       "\n",
       "                                                                              \n",
       "                                                                        for \\l\n",
       "                                                                              \n",
       "lambda_{1}__{\\prime})                                                         \n",
       "──────────────────────                                                  for \\l\n",
       "      2                                                                       \n",
       "\\rVert                                                                        \n",
       "                                                                              \n",
       " \\Delta₁⋅\\Delta₂⋅Max(0, \\lambda_1)   \\Delta₁⋅\\Delta₂⋅Max(0, \\lambda_2)        \n",
       " ───────────────────────────────── + ─────────────────────────────────        \n",
       "                             3                                   3            \n",
       "     2⋅\\lVert {\\Delta} \\rVert            2⋅\\lVert {\\Delta} \\rVert             \n",
       "                                                                              \n",
       "\n",
       "                    2                                           2           \n",
       "Vert {\\Delta} \\rVert  ≤ \\epsilon⋅(μ + 1) ∧ \\lVert {r_{t}} \\rVert  ≤ \\epsilon\n",
       "                                                                            \n",
       "                    2                                           2           \n",
       "Vert {\\Delta} \\rVert  ≤ \\epsilon⋅(μ + 1) ∧ \\lVert {r_{t}} \\rVert  > \\epsilon\n",
       "                                                                            \n",
       "                                                                            \n",
       "                                                                            \n",
       "                                      2                                     \n",
       "            for \\lVert {\\Delta} \\rVert  > \\epsilon⋅(μ + 1)                  \n",
       "                                                                            \n",
       "                                                                            \n",
       "                                                                            "
      ]
     },
     "execution_count": 110,
     "metadata": {},
     "output_type": "execute_result"
    },
    {
     "name": "stdout",
     "output_type": "stream",
     "text": [
      "Warning: subs failed for 0.0!!!!\n"
     ]
    }
   ],
   "source": [
    "make_readable(natfixB(B21_delta0))"
   ]
  },
  {
   "cell_type": "code",
   "execution_count": 111,
   "metadata": {
    "autoscroll": "json-false",
    "collapsed": false,
    "ein.tags": [
     "worksheet-0"
    ]
   },
   "outputs": [
    {
     "name": "stdout",
     "output_type": "stream",
     "text": [
      "Warning: subs failed for 0.0!!!!\n"
     ]
    }
   ],
   "source": [
    "B[2, 1] = natfixB(B21_delta0)\n",
    "\n"
   ]
  },
  {
   "cell_type": "code",
   "execution_count": 112,
   "metadata": {
    "autoscroll": "json-false",
    "collapsed": false,
    "ein.tags": [
     "worksheet-0"
    ]
   },
   "outputs": [],
   "source": [
    "with open('codegen/tex/B21_fnat.tex', 'w') as f:\n",
    "     f.write(latex(make_readable(B[2, 1])))"
   ]
  },
  {
   "cell_type": "markdown",
   "metadata": {
    "ein.tags": [
     "worksheet-0"
    ]
   },
   "source": [
    "## B[2, 2]"
   ]
  },
  {
   "cell_type": "code",
   "execution_count": 113,
   "metadata": {
    "autoscroll": "json-false",
    "collapsed": false,
    "ein.tags": [
     "worksheet-0"
    ]
   },
   "outputs": [
    {
     "data": {
      "text/plain": [
       "⎧                                                                ⎛            \n",
       "⎪                                                                ⎜          \\D\n",
       "⎪                                                                ⎜- ──────────\n",
       "⎪         2                              2                       ⎜            \n",
       "⎪  \\Delta₂ ⋅Heaviside(\\lambda₁)   \\Delta₂ ⋅Heaviside(\\lambda₂)   ⎝  \\lVert {\\D\n",
       "⎪- ──────────────────────────── - ──────────────────────────── - ─────────────\n",
       "⎨                           2                              2                  \n",
       "⎪   2⋅\\lVert {\\Delta} \\rVert       2⋅\\lVert {\\Delta} \\rVert                   \n",
       "⎪                                                                             \n",
       "⎪                                                                          \\De\n",
       "⎪                                                                          ───\n",
       "⎪                                                                            2\n",
       "⎩                                                                             \n",
       "\n",
       "     2                                ⎞                     ⎛               2 \n",
       "elta₂                     1           ⎟                     ⎜        \\Delta₂  \n",
       "───────────── + ──────────────────────⎟⋅Max(0, \\lambda_2)   ⎜─────────────────\n",
       "            3   \\lVert {\\Delta} \\rVert⎟                     ⎜                 \n",
       "elta} \\rVert                          ⎠                     ⎝\\lVert {\\Delta} \\\n",
       "───────────────────────────────────────────────────────── - ──────────────────\n",
       "                     2                                                        \n",
       "                                                                              \n",
       "                                                                              \n",
       "lta₂⋅Heaviside(\\lambda₁)   \\Delta₂⋅Heaviside(\\lambda₂)                        \n",
       "──────────────────────── + ─────────────────────────── + 1                    \n",
       "⋅\\lVert {\\Delta} \\rVert      2⋅\\lVert {\\Delta} \\rVert                         \n",
       "                                                                              \n",
       "\n",
       "                               ⎞                                              \n",
       "                   1           ⎟                                              \n",
       "────── - ──────────────────────⎟⋅Max(0, \\lambda_1)                            \n",
       "     3   \\lVert {\\Delta} \\rVert⎟                                              \n",
       "rVert                          ⎠                                              \n",
       "────────────────────────────────────────────────── + 1  for \\lVert {\\Delta} \\r\n",
       "               2                                                              \n",
       "                                                                              \n",
       "                                                                              \n",
       "                                                                              \n",
       "                                                        for \\lVert {\\Delta} \\r\n",
       "                                                                              \n",
       "                                                                              \n",
       "\n",
       "                        \n",
       "                        \n",
       "                        \n",
       "                        \n",
       "    2                   \n",
       "Vert  > \\epsilon⋅(μ + 1)\n",
       "                        \n",
       "                        \n",
       "                        \n",
       "    2                   \n",
       "Vert  ≤ \\epsilon⋅(μ + 1)\n",
       "                        \n",
       "                        "
      ]
     },
     "execution_count": 113,
     "metadata": {},
     "output_type": "execute_result"
    }
   ],
   "source": [
    "make_readable(B_[2, 2])"
   ]
  },
  {
   "cell_type": "code",
   "execution_count": 114,
   "metadata": {
    "autoscroll": "json-false",
    "collapsed": false,
    "ein.tags": [
     "worksheet-0"
    ]
   },
   "outputs": [],
   "source": [
    "B22_delta0 = flatten_piecewise(B_[2, 2]).args[0][0]\n",
    "B22_delta1 = flatten_piecewise(B_[2, 2]).args[1][0]"
   ]
  },
  {
   "cell_type": "code",
   "execution_count": 0,
   "metadata": {
    "autoscroll": "json-false",
    "collapsed": false,
    "ein.tags": [
     "worksheet-0"
    ]
   },
   "outputs": [],
   "source": []
  },
  {
   "cell_type": "code",
   "execution_count": 161,
   "metadata": {
    "autoscroll": "json-false",
    "collapsed": false,
    "ein.tags": [
     "worksheet-0"
    ]
   },
   "outputs": [
    {
     "data": {
      "text/plain": [
       "-1.0⋅Heaviside(μ⋅rn - 1.0⋅un) + 1.0"
      ]
     },
     "execution_count": 161,
     "metadata": {},
     "output_type": "execute_result"
    }
   ],
   "source": [
    "from codegen.maple import _to_sympy\n",
    "nsimp(mlimit(simplify(simplify(B22_delta0).subs(ut1, (1+t*t)*rt1/mu).subs(ut2, (1+t)*rt2/mu).subs(rt1, t).subs(rt2, t)), t, 0))\n",
    "#make_readable(mlimit((B22_delta0).subs(ut1, (1+t)*rt1/mu).subs(ut2, (1+t)*rt2/mu), t, 0))"
   ]
  },
  {
   "cell_type": "code",
   "execution_count": 183,
   "metadata": {
    "autoscroll": "json-false",
    "collapsed": false,
    "ein.tags": [
     "worksheet-0"
    ]
   },
   "outputs": [
    {
     "data": {
      "text/plain": [
       "(0, 1)"
      ]
     },
     "execution_count": 183,
     "metadata": {},
     "output_type": "execute_result"
    }
   ],
   "source": [
    "from sympy import diff\n",
    "X=Symbol('X', real=True)\n",
    "Y=Symbol('Y', real=True)\n",
    "F=sqrt(X*X+Y*Y)\n",
    "mlimit(diff(F, X).subs(X, sin(t*t)).subs(Y, t), t, 0), mlimit(diff(F, Y).subs(X, sin(t*t)).subs(Y, t), t, 0)"
   ]
  },
  {
   "cell_type": "code",
   "execution_count": 0,
   "metadata": {
    "autoscroll": "json-false",
    "collapsed": false,
    "ein.tags": [
     "worksheet-0"
    ]
   },
   "outputs": [],
   "source": [
    "make_readable(B[2, 2])\n"
   ]
  },
  {
   "cell_type": "code",
   "execution_count": 0,
   "metadata": {
    "autoscroll": "json-false",
    "collapsed": false,
    "ein.tags": [
     "worksheet-0"
    ]
   },
   "outputs": [],
   "source": [
    "with open('codegen/tex/B22_fnat.tex', 'w') as f:\n",
    "     f.write(latex(make_readable(B[2, 2])))"
   ]
  },
  {
   "cell_type": "markdown",
   "metadata": {
    "ein.tags": [
     "worksheet-0"
    ]
   },
   "source": [
    "# Code generation"
   ]
  },
  {
   "cell_type": "code",
   "execution_count": 0,
   "metadata": {
    "autoscroll": "json-false",
    "collapsed": false,
    "ein.tags": [
     "worksheet-0"
    ]
   },
   "outputs": [],
   "source": [
    "import pickle\n",
    "with open('Fnat_A', 'w') as A_file:\n",
    "    pickle.dump(A, A_file)\n",
    "\n",
    "with open('Fnat_B', 'w') as B_file:\n",
    "    pickle.dump(B, B_file)\n",
    "\n",
    "with open('Fnat', 'w') as Fnat_file:\n",
    "    pickle.dump(Fnat, Fnat_file)\n",
    "\n",
    "    \n",
    "    "
   ]
  },
  {
   "cell_type": "markdown",
   "metadata": {
    "ein.tags": [
     "worksheet-0"
    ]
   },
   "source": [
    "## partial code"
   ]
  },
  {
   "cell_type": "code",
   "execution_count": 0,
   "metadata": {
    "autoscroll": "json-false",
    "collapsed": false,
    "ein.tags": [
     "worksheet-0"
    ]
   },
   "outputs": [],
   "source": [
    "import pickle\n",
    "def load(v):\n",
    "\n",
    "    with open(v) as r_file:\n",
    "        return pickle.load(r_file)\n",
    "\n",
    "A = load('Fnat_A')\n",
    "B = load('Fnat_B')\n",
    "Fnat = load('Fnat')"
   ]
  },
  {
   "cell_type": "code",
   "execution_count": 0,
   "metadata": {
    "autoscroll": "json-false",
    "collapsed": false,
    "ein.tags": [
     "worksheet-0"
    ]
   },
   "outputs": [],
   "source": [
    "from sympy import var, Interval\n",
    "intervals = {mu: Interval(0, 1), rn: Interval(0, 1e6)}"
   ]
  },
  {
   "cell_type": "code",
   "execution_count": 0,
   "metadata": {
    "autoscroll": "json-false",
    "collapsed": false,
    "ein.tags": [
     "worksheet-0"
    ]
   },
   "outputs": [],
   "source": [
    "from codegen.maple import denoms_bounds\n",
    "print set(denoms(A)), set(bounds(A, intervals=intervals))"
   ]
  },
  {
   "cell_type": "code",
   "execution_count": 0,
   "metadata": {
    "autoscroll": "json-false",
    "collapsed": false,
    "ein.tags": [
     "worksheet-0"
    ]
   },
   "outputs": [],
   "source": [
    "EPSILON = np.finfo(float).eps\n",
    "\n",
    "var('rhon rhot1 rhot2')\n",
    "\n",
    "for i in range(3):\n",
    "    for j in range(3):  \n",
    "        print i, j\n",
    "        print funcodegen('tA{0}{1}'.format(i, j), A[i, j].subs(epsilon, EPSILON),\n",
    "                         variables=[rn, rt1, rt2, un, ut1, ut2, mu, rhon, rhot1,\n",
    "                                                 rhot2],\n",
    "                     intervals=intervals,\n",
    "                     array_format='Fortran',\n",
    "                     epsilon_inf=EPSILON,\n",
    "                     epsilon_power=3,\n",
    "                     with_files_generation=True,\n",
    "                     assertions=True, contracts=False, main_check=True)\n",
    "\n",
    "None"
   ]
  },
  {
   "cell_type": "code",
   "execution_count": 0,
   "metadata": {
    "autoscroll": "json-false",
    "collapsed": false,
    "ein.tags": [
     "worksheet-0"
    ]
   },
   "outputs": [],
   "source": [
    "%%bash\n",
    "framac_path=`frama-c -print-path`\n",
    "echo $framac_path\n",
    "#frama-c -kernel-msg-key pp -cpp-extra-args=\"$framac_path/libc -I$framac_path -std=c99\" -pp-annot -print -ocode t_temp.c -then -val tA00.c -slevel 100 -then -wp  tA00.c -wp-model nat+real -no-print   -wp-timeout 40 -wp-prover alt-ergo -wp-alt-ergo-opt=\"-backward-compat\" -wp-out temp -wp-verbose 2  -then -wp -wp-prover cvc3 -then -wp -wp-prover z3 -then -wp -wp-prover zenon -then -report "
   ]
  },
  {
   "cell_type": "markdown",
   "metadata": {
    "ein.tags": [
     "worksheet-0"
    ]
   },
   "source": [
    "## full code generation"
   ]
  },
  {
   "cell_type": "code",
   "execution_count": 0,
   "metadata": {
    "autoscroll": "json-false",
    "collapsed": false,
    "ein.tags": [
     "worksheet-0"
    ]
   },
   "outputs": [],
   "source": [
    "from sympy import var, Interval\n",
    "intervals = {mu: Interval(0, 1), rn: Interval(0, 1e6)}\n",
    "\n",
    "function_name = 'NaturalMap'\n",
    "target_name = 'FAB'\n",
    "\n",
    "EPSILON = np.finfo(float).eps\n",
    "\n",
    "expression = {\n",
    "    'fc3d_{0}FABGenerated'.format(function_name): Fnat.row_join(A).row_join(B),\n",
    "    'fc3d_{0}FGenerated'.format(function_name):   Fnat,\n",
    "    'fc3d_{0}ABGenerated'.format(function_name):  A.row_join(B)}\n",
    "\n",
    "C_function_name = 'fc3d_{0}{1}Generated'.format(\n",
    "    function_name, target_name)\n",
    "\n",
    "var('rhon rhot1 rhot2')\n",
    "\n",
    "print funcodegen(C_function_name, expression[C_function_name].subs(epsilon, EPSILON),\n",
    "                 variables=[rn, rt1, rt2, un, ut1, ut2, mu, rhon, rhot1,\n",
    "                            rhot2],\n",
    "                 intervals=intervals,\n",
    "                 array_format='Fortran',\n",
    "                 epsilon_inf=EPSILON,\n",
    "                 epsilon_power=3,\n",
    "                 with_files_generation=True,\n",
    "                 assertions=True, contracts=False, main_check=True)\n"
   ]
  },
  {
   "cell_type": "code",
   "execution_count": 0,
   "metadata": {
    "autoscroll": "json-false",
    "collapsed": false,
    "ein.tags": [
     "worksheet-0"
    ]
   },
   "outputs": [],
   "source": []
  },
  {
   "cell_type": "code",
   "execution_count": 0,
   "metadata": {
    "autoscroll": "json-false",
    "collapsed": false,
    "ein.tags": [
     "worksheet-0"
    ]
   },
   "outputs": [],
   "source": [
    "maple.solve(0.2*t*t - 0.2*t + 0.025)"
   ]
  }
 ],
 "metadata": {
  "kernelspec": {
   "display_name": "Python 2",
   "name": "python2"
  },
  "language_info": {
   "codemirror_mode": {
    "name": "ipython",
    "version": 2
   },
   "file_extension": ".py",
   "mimetype": "text/x-python",
   "name": "python",
   "nbconvert_exporter": "python",
   "pygments_lexer": "ipython2",
   "version": "2.7.10"
  },
  "name": "NM.ipynb"
 },
 "nbformat": 4,
 "nbformat_minor": 0
}
