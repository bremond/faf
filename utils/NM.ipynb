{
 "cells": [
  {
   "cell_type": "code",
   "execution_count": 0,
   "metadata": {
    "autoscroll": "json-false",
    "collapsed": false,
    "ein.tags": [
     "worksheet-0"
    ]
   },
   "outputs": [],
   "source": []
  },
  {
   "cell_type": "markdown",
   "metadata": {
    "ein.tags": [
     "worksheet-0"
    ]
   },
   "source": [
    "# Natural Map"
   ]
  },
  {
   "cell_type": "markdown",
   "metadata": {
    "ein.tags": [
     "worksheet-0"
    ]
   },
   "source": [
    "## imports"
   ]
  },
  {
   "cell_type": "code",
   "execution_count": 0,
   "metadata": {
    "autoscroll": "json-false",
    "collapsed": false,
    "ein.tags": [
     "worksheet-0"
    ]
   },
   "outputs": [],
   "source": [
    "import JordanAlgebra\n",
    "from sympy import Symbol, Matrix, sqrt, Pow, Add, Rational, postorder_traversal, factor, simplify, nsimplify, latex\n",
    "from codegen.funcodegen import funcodegen\n",
    "import numpy as np\n"
   ]
  },
  {
   "cell_type": "markdown",
   "metadata": {
    "ein.tags": [
     "worksheet-0"
    ]
   },
   "source": [
    "## symbols"
   ]
  },
  {
   "cell_type": "code",
   "execution_count": 0,
   "metadata": {
    "autoscroll": "json-false",
    "collapsed": false,
    "ein.tags": [
     "worksheet-0"
    ]
   },
   "outputs": [],
   "source": [
    "from JordanAlgebra import epsilon\n",
    "from friction import mu, rn, rt1, rt2, un, ut1, ut2, xn, xt1, xt2, yn, yt1, yt2, u, r, x, y, ut\n"
   ]
  },
  {
   "cell_type": "markdown",
   "metadata": {
    "ein.tags": [
     "worksheet-0"
    ]
   },
   "source": [
    "## The natural map function"
   ]
  },
  {
   "cell_type": "code",
   "execution_count": 0,
   "metadata": {
    "autoscroll": "json-false",
    "collapsed": false,
    "ein.tags": [
     "worksheet-0"
    ]
   },
   "outputs": [],
   "source": [
    "Fnat = y - JordanAlgebra.projection(y - x)\n"
   ]
  },
  {
   "cell_type": "markdown",
   "metadata": {
    "ein.tags": [
     "worksheet-0"
    ]
   },
   "source": [
    "## Raw jacobians"
   ]
  },
  {
   "cell_type": "code",
   "execution_count": 0,
   "metadata": {
    "autoscroll": "json-false",
    "collapsed": false,
    "ein.tags": [
     "worksheet-0"
    ]
   },
   "outputs": [],
   "source": [
    "A_ = Fnat.jacobian(u)\n",
    "B_ = Fnat.jacobian(r)"
   ]
  },
  {
   "cell_type": "code",
   "execution_count": 0,
   "metadata": {
    "autoscroll": "json-false",
    "collapsed": false,
    "ein.tags": [
     "worksheet-0"
    ]
   },
   "outputs": [],
   "source": [
    "lambda1, lambda2, u1, u2 = JordanAlgebra.spectral_decomposition(y - x)\n",
    "\n",
    "#def load(v):\n",
    "\n",
    "#    with open(v) as r_file:\n",
    "#        return pickle.load(r_file)\n",
    "\n",
    "#A = load('Fnat_A')\n",
    "#B = load('Fnat_B')\n",
    "#Fnat = load('Fnat')\n",
    "#Rnow = load('Fnat_Rnow')"
   ]
  },
  {
   "cell_type": "code",
   "execution_count": 0,
   "metadata": {
    "autoscroll": "json-false",
    "collapsed": false,
    "ein.tags": [
     "worksheet-0"
    ]
   },
   "outputs": [],
   "source": [
    "from sympy import Piecewise\n",
    "def add_split(expr, pos, f1, f2):\n",
    "    n_expr = expr\n",
    "    if type(expr) == Add:       \n",
    "       n_expr1 = Add(*expr.args[:pos])\n",
    "       n_expr2 = Add(*expr.args[pos:])\n",
    "       n_expr = Add(f2(n_expr2), f1(n_expr1))\n",
    "    return n_expr\n",
    "\n",
    "def add_splitp(p_expr, lpos, f1, f2):\n",
    "    if hasattr(p_expr, 'is_Piecewise') and p_expr.is_Piecewise:\n",
    "        return Piecewise(*[(add_split(c[0], lpos[i], f1, f2), c[1]) for i, c in enumerate(p_expr.args)])\n",
    "    else:\n",
    "        return add_split(p_expr, lpos[0], f1, f2)\n",
    "\n",
    "def add_splitv(mat, lpos, f1, f2):\n",
    "    return Matrix(mat.shape[0], mat.shape[1], \n",
    "        lambda i,j: add_splitp(mat[i, j], lpos[i], f1, f2))\n",
    "\n",
    "def map_matrix(mat, fun, args):\n",
    "    return Matrix(mat.shape[0], mat.shape[1], \n",
    "                  lambda i,j: fun(mat[i, j], *(args[i])))\n",
    "\n",
    "from sympy import Mul, Add, Pow, Wild\n",
    "def factor_try(input_expr, fexprs):\n",
    "    n_expr = input_expr\n",
    "    subs = dict()   \n",
    "    for fexpr in fexprs:\n",
    "        for expr in postorder_traversal(n_expr):\n",
    "            niexpr = expr   \n",
    "            for iexpr in subs:\n",
    "               niexpr = niexpr.subs(iexpr, subs[iexpr])\n",
    "            expr = niexpr\n",
    "            if type(expr) == Add:\n",
    "               fterms = filter(lambda e: type(e)==Mul and fexpr in e.args, expr.args)\n",
    "               uterms = filter(lambda e: type(e)==Mul and any([fexpr == ee.args[0] for ee in filter(lambda e: type(e)==Pow, e.args)]), expr.args)              \n",
    "               pterms = filter(lambda e: type(e)==Pow and e.args[1].is_Integer and fexpr == e.args[0], expr.args)\n",
    "               tterms = filter(lambda e: e == fexpr, expr.args)\n",
    "               oterms = list(set(expr.args).difference(set(uterms)).difference(set(pterms)).difference(set(tterms)).difference(set(fterms)))\n",
    "               nfterms = list()\n",
    "               for e in fterms:\n",
    "                   nargs = list(e.args)\n",
    "                   nargs.remove(fexpr)\n",
    "                   nfterms.append(e.func(*nargs))\n",
    "               for e in uterms:\n",
    "                   ne = 1\n",
    "                   wuterms = filter(lambda ie: type(ie)==Pow and ie.args[0]==fexpr, e.args)\n",
    "                   for ee in wuterms:\n",
    "                       ne = Mul(ne, Pow(ee.args[0], ee.args[1]-1))\n",
    "                   for ee in set(e.args).difference(wuterms):\n",
    "                       ne = Mul(ne, ee)\n",
    "                   nfterms.append(ne)\n",
    "               for e in pterms:\n",
    "                   nfterms.append(e.func(e.args[0], e.args[1]-1))\n",
    "               for e in tterms:\n",
    "                   nfterms.append(1)\n",
    "               \n",
    "               nfresult = fexpr * Add(*nfterms)\n",
    "              \n",
    "               n_expr = n_expr.subs(expr, Add(Add(*oterms), nfresult))\n",
    "               subs[expr] = Add(Add(*oterms), nfresult)\n",
    "    return n_expr\n",
    "       \n"
   ]
  },
  {
   "cell_type": "code",
   "execution_count": 0,
   "metadata": {
    "autoscroll": "json-false",
    "collapsed": false,
    "ein.tags": [
     "worksheet-0"
    ]
   },
   "outputs": [],
   "source": [
    "from sympy import Wild\n",
    "expr = sqrt(rt1)\n",
    "y = Wild('y')\n",
    "expr.replace(Pow(y, Rational(3,2)), lambda y: y+1)"
   ]
  },
  {
   "cell_type": "code",
   "execution_count": 0,
   "metadata": {
    "autoscroll": "json-false",
    "collapsed": false,
    "ein.tags": [
     "worksheet-0"
    ]
   },
   "outputs": [],
   "source": [
    "factor_try(sqrt(2)*ut1*rt1**4+rt1*ut1+sqrt(2)*rt1*ut2, [sqrt(2), rt1])"
   ]
  },
  {
   "cell_type": "code",
   "execution_count": 0,
   "metadata": {
    "autoscroll": "json-false",
    "collapsed": false,
    "ein.tags": [
     "worksheet-0"
    ]
   },
   "outputs": [],
   "source": [
    "factor_try(sqrt(rt1+ut1*rt1**7)+ ut1*rt1 + ut2*rt1*rt1, [rt1,2])"
   ]
  },
  {
   "cell_type": "code",
   "execution_count": 0,
   "metadata": {
    "autoscroll": "json-false",
    "collapsed": false,
    "ein.tags": [
     "worksheet-0"
    ]
   },
   "outputs": [],
   "source": [
    "add_splitp(Piecewise((1 + ut1**2/2 + ut2**2/2, ut1>0), (ut1, ut1<=0)), [1,0], factor, factor)\n",
    "\n",
    "#map_matrix(Matrix([1 + ut1**2/2 + ut2**2/2]), add_split, [1, factor, factor])"
   ]
  },
  {
   "cell_type": "code",
   "execution_count": 0,
   "metadata": {
    "autoscroll": "json-false",
    "collapsed": false,
    "ein.tags": [
     "worksheet-0"
    ]
   },
   "outputs": [],
   "source": []
  },
  {
   "cell_type": "markdown",
   "metadata": {
    "ein.tags": [
     "worksheet-0"
    ]
   },
   "source": [
    "ndelta, sqrt((mu*ut2-rt2)**2+(mu*ut1-rt1)**2)"
   ]
  },
  {
   "cell_type": "code",
   "execution_count": 0,
   "metadata": {
    "autoscroll": "json-false",
    "collapsed": false,
    "ein.tags": [
     "worksheet-0"
    ]
   },
   "outputs": [],
   "source": [
    "from sympy import init_printing\n",
    "init_printing(use_latex=True)\n",
    "\n",
    "from sympy import Symbol\n",
    "nut = Symbol(r'\\lVert {u_{t}} \\rVert', negative=False)\n",
    "nrt = Symbol(r'\\lVert {r_{t}} \\rVert', negative=False)\n",
    "lbd1 = Symbol(r'\\lambda_1')\n",
    "lbd2 = Symbol(r'\\lambda_2')\n",
    "lbd10 = Symbol(r'\\lambda_1^{\\prime}')\n",
    "lbd20 = Symbol(r'\\lambda_2^{\\prime}')\n",
    "lbd100 = Symbol(r'\\lambda_1^{\\prime\\prime}')\n",
    "lbd200 = Symbol(r'\\lambda_2^{\\prime\\prime}')\n",
    "delta1 = Symbol(r'\\Delta_1')\n",
    "delta2 = Symbol(r'\\Delta_2')\n",
    "ndelta = Symbol(r'\\lVert {\\Delta} \\rVert', negative=False)\n",
    "lepsilon = Symbol(r'\\epsilon')\n",
    "lut1 = Symbol(r'u_{t1}')\n",
    "lut2 = Symbol(r'u_{t2}')\n",
    "lun = Symbol(r'u_n')\n",
    "lrt1 = Symbol(r'r_{t1}')\n",
    "lrt2 = Symbol(r'r_{t2}')\n",
    "lrn = Symbol(r'r_n')\n",
    "\n",
    "from codegen.funcodegen import flatten_piecewise\n",
    "\n",
    "lambda1_0 = lambda1.subs(ut1, 0).subs(ut2, 0)\n",
    "lambda2_0 = lambda2.subs(ut1, 0).subs(ut2, 0)\n",
    "\n",
    "lambda1_00 = lambda1_0.subs(rt1, 0).subs(rt2, 0)\n",
    "lambda2_00 = lambda2_0.subs(rt1, 0).subs(rt2, 0)\n",
    "\n",
    "def make_readable(expr, deep=False):\n",
    "    return flatten_piecewise(expr).subs(lrt1, rt1).subs(lrt2, rt2).subs(lrn, rn).subs(lut1, ut1).subs(lut2, ut2).subs(lun, un).subs(nut, sqrt(ut1**2+ut2**2)).subs(nrt, sqrt(rt1**2+rt2**2)).subs('rt1', rt1).subs('rt2', rt2).subs('rn', rn).subs('ut1', ut1).subs('ut2', ut2).subs('un', un).subs('mu', mu).subs(lambda1, lbd1).subs(lambda2, lbd2).subs(lambda1_0, lbd10).subs(lambda2_0, lbd20).subs(lambda1_00, lbd100).subs(lambda2_00, lbd200).subs(ut1**2+ut2**2,nut**2).subs(rt1**2+rt2**2, nrt**2).subs(mu*ut2-rt2, delta2).subs(mu*ut1-rt1, delta1).subs(delta1**2+delta2**2, ndelta**2).subs(rt1, lrt1).subs(rt2, lrt2).subs(rn, lrn).subs(ut1, lut1).subs(ut2, lut2).subs(un, lun).subs(epsilon, lepsilon).subs(0.5, Rational(1, 2)).subs(sqrt(nrt**2), nrt).subs(sqrt(nut**2), nut).subs(sqrt(ndelta**2), ndelta).subs(sqrt(sqrt(nrt**2)), sqrt(nrt))\n"
   ]
  },
  {
   "cell_type": "code",
   "execution_count": 0,
   "metadata": {
    "autoscroll": "json-false",
    "collapsed": false,
    "ein.tags": [
     "worksheet-0"
    ]
   },
   "outputs": [],
   "source": [
    "from sympy import expand\n",
    "add_splitv(make_readable(Fnat), [[2], [1,0], [1,1]], factor, factor)\n"
   ]
  },
  {
   "cell_type": "code",
   "execution_count": 0,
   "metadata": {
    "autoscroll": "json-false",
    "collapsed": false,
    "ein.tags": [
     "worksheet-0"
    ]
   },
   "outputs": [],
   "source": [
    "P=make_readable(Fnat[1]).args[0][0]\n",
    "\n"
   ]
  },
  {
   "cell_type": "code",
   "execution_count": 0,
   "metadata": {
    "autoscroll": "json-false",
    "collapsed": false,
    "ein.tags": [
     "worksheet-0"
    ]
   },
   "outputs": [],
   "source": [
    "add_split(make_readable(Fnat), [2], factor, factor)"
   ]
  },
  {
   "cell_type": "code",
   "execution_count": 0,
   "metadata": {
    "autoscroll": "json-false",
    "collapsed": false,
    "ein.tags": [
     "worksheet-0"
    ]
   },
   "outputs": [],
   "source": [
    "with open('codegen/tex/fnat.tex', 'w') as f:\n",
    "    f.write(latex(add_splitv(make_readable(Fnat), [[2], [1,0], [1,1]], factor, factor)))"
   ]
  },
  {
   "cell_type": "code",
   "execution_count": 0,
   "metadata": {
    "autoscroll": "json-false",
    "collapsed": false,
    "ein.tags": [
     "worksheet-0"
    ]
   },
   "outputs": [],
   "source": [
    "from codegen.maple import limzero, Maple, set_maple\n",
    "maple = Maple(server='bizet.inria.fr')\n",
    "set_maple(maple)\n",
    "t = Symbol('t', positive=True, real=True)\n",
    "maple_assumes = 'mu >= 0 and mu < 1 and rn >=0 and t > 0 and epsilon > 0'\n",
    "maple.assume(maple_assumes)\n"
   ]
  },
  {
   "cell_type": "code",
   "execution_count": 0,
   "metadata": {
    "autoscroll": "json-false",
    "collapsed": false,
    "ein.tags": [
     "worksheet-0"
    ]
   },
   "outputs": [],
   "source": [
    "def nsimp(expr):\n",
    "    n_expr = expr\n",
    "    for subexpr in postorder_traversal(expr):\n",
    "        simp_subexpr = nsimplify(subexpr)\n",
    "        if subexpr != simp_subexpr:\n",
    "            n_expr = n_expr.subs(subexpr, simp_subexpr)\n",
    "    return n_expr"
   ]
  },
  {
   "cell_type": "code",
   "execution_count": 0,
   "metadata": {
    "autoscroll": "json-false",
    "collapsed": false,
    "ein.tags": [
     "worksheet-0"
    ]
   },
   "outputs": [],
   "source": [
    "A=Matrix(3, 3, lambda i, j: 0)"
   ]
  },
  {
   "cell_type": "markdown",
   "metadata": {
    "ein.tags": [
     "worksheet-0"
    ]
   },
   "source": [
    "## A[:, 0]"
   ]
  },
  {
   "cell_type": "code",
   "execution_count": 0,
   "metadata": {
    "autoscroll": "json-false",
    "collapsed": false,
    "ein.tags": [
     "worksheet-0"
    ]
   },
   "outputs": [],
   "source": [
    "add_splitv(make_readable(A_[:, 0]), [[2], [2,0], [2,0]], factor, factor)"
   ]
  },
  {
   "cell_type": "code",
   "execution_count": 0,
   "metadata": {
    "autoscroll": "json-false",
    "collapsed": false,
    "ein.tags": [
     "worksheet-0"
    ]
   },
   "outputs": [],
   "source": [
    "# the first column is ok\n",
    "A[:, 0] = A_[:, 0]"
   ]
  },
  {
   "cell_type": "code",
   "execution_count": 0,
   "metadata": {
    "autoscroll": "json-false",
    "collapsed": false,
    "ein.tags": [
     "worksheet-0"
    ]
   },
   "outputs": [],
   "source": [
    "with open('codegen/tex/A0_fnat.tex', 'w') as f:\n",
    "     f.write(latex(add_splitv(make_readable(A[:, 0]), [[2], [2,0], [2,0]], factor, factor)))"
   ]
  },
  {
   "cell_type": "markdown",
   "metadata": {
    "ein.tags": [
     "worksheet-0"
    ]
   },
   "source": [
    "## A[1, 1]"
   ]
  },
  {
   "cell_type": "code",
   "execution_count": 0,
   "metadata": {
    "autoscroll": "json-false",
    "collapsed": false,
    "ein.tags": [
     "worksheet-0"
    ]
   },
   "outputs": [],
   "source": [
    "factor(make_readable(A_[0, 1]))"
   ]
  },
  {
   "cell_type": "code",
   "execution_count": 0,
   "metadata": {
    "autoscroll": "json-false",
    "collapsed": false,
    "ein.tags": [
     "worksheet-0"
    ]
   },
   "outputs": [],
   "source": [
    "# we must apply the same limits or subsitution for all the jacobian\n",
    "# unfortunately substituing 0 for both ut1 and ut2 (in the same order) leads to some NaN\n",
    "make_readable(nsimp(limzero(A_[0, 1], [(ut1, t), (ut2, t)])))"
   ]
  },
  {
   "cell_type": "markdown",
   "metadata": {
    "ein.tags": [
     "worksheet-0"
    ]
   },
   "source": [
    "pour \\Delta_n différent de 0, ||u_t|| -> 0 (==> rt != 0)"
   ]
  },
  {
   "cell_type": "markdown",
   "metadata": {
    "ein.tags": [
     "worksheet-0"
    ]
   },
   "source": [
    "deltan\n",
    "-> 0"
   ]
  },
  {
   "cell_type": "code",
   "execution_count": 0,
   "metadata": {
    "autoscroll": "json-false",
    "collapsed": false,
    "ein.tags": [
     "worksheet-0"
    ]
   },
   "outputs": [],
   "source": [
    "from codegen.maple import mlimit\n",
    "make_readable((nsimp(mlimit(A_[0, 1].subs(ut1, (1+t)*rt1/mu).subs(ut2, (1+t)*rt2/mu), t, 0))))"
   ]
  },
  {
   "cell_type": "markdown",
   "metadata": {
    "ein.tags": [
     "worksheet-0"
    ]
   },
   "source": [
    "deltan -> 0 && ut -> 0 ==> rt -> 0"
   ]
  },
  {
   "cell_type": "code",
   "execution_count": 0,
   "metadata": {
    "autoscroll": "json-false",
    "collapsed": false,
    "ein.tags": [
     "worksheet-0"
    ]
   },
   "outputs": [],
   "source": [
    "make_readable(nsimp(limzero(A_[0, 1], [(ut1, t), (ut2, t), (rt1, t), (rt2, 0)])))\n"
   ]
  },
  {
   "cell_type": "code",
   "execution_count": 0,
   "metadata": {
    "autoscroll": "json-false",
    "collapsed": false,
    "ein.tags": [
     "worksheet-0"
    ]
   },
   "outputs": [],
   "source": [
    "def natfixA(expr):\n",
    "    return Piecewise(\n",
    "     (simplify(nsimp(limzero(expr, [(ut1, t), (ut2, t), (rt1, t), (rt2, 0)]))), And(sqrt(ut1**2+ut2**2) <= epsilon, sqrt(rt1**2+rt2**2) <= epsilon)),\n",
    "     (simplify(nsimp(mlimit(expr.subs(ut1, (1+t)*rt1/mu).subs(ut2, (1+t)*rt2/mu), t, 0))), And(sqrt((mu*ut1-rt1)**2+(mu*ut2-rt2)**2) <= epsilon, sqrt(ut1**2+ut2**2) > epsilon, sqrt(rt1**2+rt2**2) > epsilon)),\n",
    "     (expr, And(sqrt(ut1**2+ut2**2) > epsilon, sqrt((mu*ut1-rt1)**2+(mu*ut2-rt2)**2) > epsilon)),\n",
    "     (simplify(nsimp(limzero(expr, [(ut1, t), (ut2, t)]))), And(sqrt((mu*ut1-rt1)**2+(mu*ut2-rt2)**2) > epsilon, sqrt(ut1**2+ut2**2) <= epsilon, sqrt(rt1**2+rt2**2) > epsilon)))"
   ]
  },
  {
   "cell_type": "code",
   "execution_count": 0,
   "metadata": {
    "autoscroll": "json-false",
    "collapsed": false,
    "ein.tags": [
     "worksheet-0"
    ]
   },
   "outputs": [],
   "source": [
    "def natfixB(expr):\n",
    "    p_expr = flatten_piecewise(expr)\n",
    "    if p_expr.is_Piecewise:\n",
    "        expr_delta0 = p_expr.args[0][0]\n",
    "        expr_delta1 = p_expr.args[1][0]\n",
    "    else:\n",
    "        expr_delta0 = p_expr\n",
    "        expr_delta1 = p_expr\n",
    "    return Piecewise(\n",
    "     (simplify(nsimp(mlimit(expr_delta1.subs(ut1, t).subs(ut2, t).subs(rt1, t).subs(rt2, 0), t, 0))), And(sqrt(ut1**2+ut2**2) <= epsilon, sqrt(rt1**2+rt2**2) <= epsilon)),\n",
    "     (simplify(nsimp(mlimit(expr_delta1.subs(ut1, (1+t)*rt1/mu).subs(ut2, (1+t)*rt2/mu), t, 0))), And(sqrt((mu*ut1-rt1)**2+(mu*ut2-rt2)**2) <= epsilon, sqrt(ut1**2+ut2**2) > epsilon, sqrt(rt1**2+rt2**2) > epsilon)),\n",
    "     (expr_delta0, And(sqrt(rt1**2+rt2**2) > epsilon, sqrt((mu*ut1-rt1)**2+(mu*ut2-rt2)**2)> epsilon)),\n",
    "     (simplify(nsimp(limzero(expr_delta0, [(rt1, t), (rt2, t)]))), And(sqrt((mu*ut1-rt1)**2+(mu*ut2-rt2)**2) > epsilon, sqrt(ut1**2+ut2**2) > epsilon, sqrt(rt1**2+rt2**2) <= epsilon)))\n"
   ]
  },
  {
   "cell_type": "code",
   "execution_count": 0,
   "metadata": {
    "autoscroll": "json-false",
    "collapsed": false,
    "ein.tags": [
     "worksheet-0"
    ]
   },
   "outputs": [],
   "source": [
    "from sympy import And\n",
    "A[0, 1] = natfixA(A_[0, 1])\n",
    "     \n",
    "nsimp(make_readable(A[0, 1]))"
   ]
  },
  {
   "cell_type": "code",
   "execution_count": 0,
   "metadata": {
    "autoscroll": "json-false",
    "collapsed": false,
    "ein.tags": [
     "worksheet-0"
    ]
   },
   "outputs": [],
   "source": [
    "with open('codegen/tex/A01_fnat.tex', 'w') as f:\n",
    "     f.write(latex(nsimp(make_readable(A[0, 1]))))"
   ]
  },
  {
   "cell_type": "markdown",
   "metadata": {
    "ein.tags": [
     "worksheet-0"
    ]
   },
   "source": [
    "## A[0, 2]"
   ]
  },
  {
   "cell_type": "code",
   "execution_count": 0,
   "metadata": {
    "autoscroll": "json-false",
    "collapsed": false,
    "ein.tags": [
     "worksheet-0"
    ]
   },
   "outputs": [],
   "source": [
    "make_readable(A_[0,2])"
   ]
  },
  {
   "cell_type": "markdown",
   "metadata": {
    "ein.tags": [
     "worksheet-0"
    ]
   },
   "source": [
    "deltan != 0, ut -> 0"
   ]
  },
  {
   "cell_type": "code",
   "execution_count": 0,
   "metadata": {
    "autoscroll": "json-false",
    "collapsed": false,
    "ein.tags": [
     "worksheet-0"
    ]
   },
   "outputs": [],
   "source": [
    "make_readable(nsimp(sqrt(lambda1_0)))"
   ]
  },
  {
   "cell_type": "code",
   "execution_count": 0,
   "metadata": {
    "autoscroll": "json-false",
    "collapsed": false,
    "ein.tags": [
     "worksheet-0"
    ]
   },
   "outputs": [],
   "source": [
    "make_readable(nsimp(limzero(A_[0, 2], [(ut1, t), (ut2, t)])))"
   ]
  },
  {
   "cell_type": "code",
   "execution_count": 0,
   "metadata": {
    "autoscroll": "json-false",
    "collapsed": false,
    "ein.tags": [
     "worksheet-0"
    ]
   },
   "outputs": [],
   "source": [
    "make_readable(nsimp(limzero(A_[0, 2], [(ut1, t), (ut2, t), (rt1, t), (rt2, 0)])))"
   ]
  },
  {
   "cell_type": "code",
   "execution_count": 0,
   "metadata": {
    "autoscroll": "json-false",
    "collapsed": false,
    "ein.tags": [
     "worksheet-0"
    ]
   },
   "outputs": [],
   "source": [
    "make_readable(nsimp(mlimit(A_[0, 2].subs(ut1, (1+t)*rt1/mu).subs(ut2, (1+t)*rt2/mu), t, 0)))"
   ]
  },
  {
   "cell_type": "code",
   "execution_count": 0,
   "metadata": {
    "autoscroll": "json-false",
    "collapsed": false,
    "ein.tags": [
     "worksheet-0"
    ]
   },
   "outputs": [],
   "source": [
    "A[0, 2] = natfixA(A_[0, 2])\n",
    "     \n",
    "nsimp(make_readable(A[0, 2]))"
   ]
  },
  {
   "cell_type": "code",
   "execution_count": 0,
   "metadata": {
    "autoscroll": "json-false",
    "collapsed": false,
    "ein.tags": [
     "worksheet-0"
    ]
   },
   "outputs": [],
   "source": [
    "with open('codegen/tex/A02_fnat.tex', 'w') as f:\n",
    "     f.write(latex(nsimp(make_readable(A[0, 2]))))"
   ]
  },
  {
   "cell_type": "markdown",
   "metadata": {
    "ein.tags": [
     "worksheet-0"
    ]
   },
   "source": [
    "## A[1, 0]"
   ]
  },
  {
   "cell_type": "code",
   "execution_count": 0,
   "metadata": {
    "autoscroll": "json-false",
    "collapsed": false,
    "ein.tags": [
     "worksheet-0"
    ]
   },
   "outputs": [],
   "source": [
    "make_readable(A_[1, 0])"
   ]
  },
  {
   "cell_type": "code",
   "execution_count": 0,
   "metadata": {
    "autoscroll": "json-false",
    "collapsed": false,
    "ein.tags": [
     "worksheet-0"
    ]
   },
   "outputs": [],
   "source": [
    "# just a verification\n",
    "mlimit(A_[1, 0].subs(ut1, (1+t)*rt1/mu).subs(ut2, (1+t)*rt2/mu), t, 0)"
   ]
  },
  {
   "cell_type": "code",
   "execution_count": 0,
   "metadata": {
    "autoscroll": "json-false",
    "collapsed": false,
    "ein.tags": [
     "worksheet-0"
    ]
   },
   "outputs": [],
   "source": [
    "A[1, 0] = A_[1, 0]"
   ]
  },
  {
   "cell_type": "code",
   "execution_count": 0,
   "metadata": {
    "autoscroll": "json-false",
    "collapsed": false,
    "ein.tags": [
     "worksheet-0"
    ]
   },
   "outputs": [],
   "source": [
    "factor(make_readable(A[1, 0]))"
   ]
  },
  {
   "cell_type": "code",
   "execution_count": 0,
   "metadata": {
    "autoscroll": "json-false",
    "collapsed": false,
    "ein.tags": [
     "worksheet-0"
    ]
   },
   "outputs": [],
   "source": [
    "with open('codegen/tex/A10_fnat.tex', 'w') as f:\n",
    "     f.write(latex(factor(make_readable(A[1, 0]))))"
   ]
  },
  {
   "cell_type": "markdown",
   "metadata": {
    "ein.tags": [
     "worksheet-0"
    ]
   },
   "source": [
    "## A[1, 1]"
   ]
  },
  {
   "cell_type": "code",
   "execution_count": 0,
   "metadata": {
    "autoscroll": "json-false",
    "collapsed": false,
    "ein.tags": [
     "worksheet-0"
    ]
   },
   "outputs": [],
   "source": [
    "make_readable(A_[1, 1])"
   ]
  },
  {
   "cell_type": "code",
   "execution_count": 0,
   "metadata": {
    "autoscroll": "json-false",
    "collapsed": false,
    "ein.tags": [
     "worksheet-0"
    ]
   },
   "outputs": [],
   "source": [
    "A11_raw = flatten_piecewise(A_[1, 1]).args[0][0]\n",
    "make_readable(A11_raw)"
   ]
  },
  {
   "cell_type": "code",
   "execution_count": 0,
   "metadata": {
    "autoscroll": "json-false",
    "collapsed": false,
    "ein.tags": [
     "worksheet-0"
    ]
   },
   "outputs": [],
   "source": [
    "#mlimit(A_[1, 1].subs(ut1, t).subs(ut2, t), t, 0)\n",
    "A11_ut0=nsimp(mlimit(flatten_piecewise(A_[1, 1]).args[0][0].subs(ut1, t).subs(ut2, t), t, 0))\n",
    "A11_ut0rt0=simplify(nsimp(mlimit(flatten_piecewise(A_[1,\n",
    "1]).args[0][0].subs(ut1, t).subs(ut2, t).subs(rt1, t).subs(rt2, 0), t, 0)))\n",
    "simplify(make_readable(A11_ut0rt0))"
   ]
  },
  {
   "cell_type": "code",
   "execution_count": 0,
   "metadata": {
    "autoscroll": "json-false",
    "collapsed": false,
    "ein.tags": [
     "worksheet-0"
    ]
   },
   "outputs": [],
   "source": [
    "A11_ut0p = simplify(factor_try(A11_ut0.subs('rt1',rt1).subs('rt2',rt2), [rt1, rt1, rt2, rt2, sqrt(2), 2, sqrt(rt1**2+rt2**2)]))\n",
    "make_readable(A11_ut0p)"
   ]
  },
  {
   "cell_type": "code",
   "execution_count": 0,
   "metadata": {
    "autoscroll": "json-false",
    "collapsed": false,
    "ein.tags": [
     "worksheet-0"
    ]
   },
   "outputs": [],
   "source": [
    "from sympy import Or\n",
    "A[1, 1] = natfixA(A11_raw)"
   ]
  },
  {
   "cell_type": "code",
   "execution_count": 0,
   "metadata": {
    "autoscroll": "json-false",
    "collapsed": false,
    "ein.tags": [
     "worksheet-0"
    ]
   },
   "outputs": [],
   "source": [
    "# ||delta|| -> 0 && ||ut|| -> 0 ==> ||rt|| > 0\n",
    "make_readable(A[1, 1])"
   ]
  },
  {
   "cell_type": "code",
   "execution_count": 0,
   "metadata": {
    "autoscroll": "json-false",
    "collapsed": false,
    "ein.tags": [
     "worksheet-0"
    ]
   },
   "outputs": [],
   "source": [
    "with open('codegen/tex/A11_fnat.tex', 'w') as f:\n",
    "     f.write(latex(make_readable(A[1, 1])))"
   ]
  },
  {
   "cell_type": "markdown",
   "metadata": {
    "ein.tags": [
     "worksheet-0"
    ]
   },
   "source": [
    "## A[1, 2]"
   ]
  },
  {
   "cell_type": "code",
   "execution_count": 0,
   "metadata": {
    "autoscroll": "json-false",
    "collapsed": false,
    "ein.tags": [
     "worksheet-0"
    ]
   },
   "outputs": [],
   "source": [
    "make_readable(A_[1, 2])"
   ]
  },
  {
   "cell_type": "code",
   "execution_count": 0,
   "metadata": {
    "autoscroll": "json-false",
    "collapsed": false,
    "ein.tags": [
     "worksheet-0"
    ]
   },
   "outputs": [],
   "source": [
    "A12_raw=flatten_piecewise(A_[1, 2]).args[0][0]"
   ]
  },
  {
   "cell_type": "code",
   "execution_count": 0,
   "metadata": {
    "autoscroll": "json-false",
    "collapsed": false,
    "ein.tags": [
     "worksheet-0"
    ]
   },
   "outputs": [],
   "source": [
    "A[1, 2] = natfixA(A12_raw)\n",
    "make_readable(A[1, 2])"
   ]
  },
  {
   "cell_type": "code",
   "execution_count": 0,
   "metadata": {
    "autoscroll": "json-false",
    "collapsed": false,
    "ein.tags": [
     "worksheet-0"
    ]
   },
   "outputs": [],
   "source": [
    "with open('codegen/tex/A12_fnat.tex', 'w') as f:\n",
    "     f.write(latex(make_readable(A[1, 2])))"
   ]
  },
  {
   "cell_type": "markdown",
   "metadata": {
    "ein.tags": [
     "worksheet-0"
    ]
   },
   "source": [
    "## A[2, 0]"
   ]
  },
  {
   "cell_type": "code",
   "execution_count": 0,
   "metadata": {
    "autoscroll": "json-false",
    "collapsed": false,
    "ein.tags": [
     "worksheet-0"
    ]
   },
   "outputs": [],
   "source": [
    "make_readable(A_[2, 0])"
   ]
  },
  {
   "cell_type": "markdown",
   "metadata": {
    "ein.tags": [
     "worksheet-0"
    ]
   },
   "source": [
    "## A[2, 1]\n"
   ]
  },
  {
   "cell_type": "code",
   "execution_count": 0,
   "metadata": {
    "autoscroll": "json-false",
    "collapsed": false,
    "ein.tags": [
     "worksheet-0"
    ]
   },
   "outputs": [],
   "source": [
    "make_readable(A_[2, 1])"
   ]
  },
  {
   "cell_type": "code",
   "execution_count": 0,
   "metadata": {
    "autoscroll": "json-false",
    "collapsed": false,
    "ein.tags": [
     "worksheet-0"
    ]
   },
   "outputs": [],
   "source": [
    "A21_raw = flatten_piecewise(A_[2, 1]).args[0][0]\n",
    "\n",
    "A[2, 1] = natfixA(A21_raw)"
   ]
  },
  {
   "cell_type": "code",
   "execution_count": 0,
   "metadata": {
    "autoscroll": "json-false",
    "collapsed": false,
    "ein.tags": [
     "worksheet-0"
    ]
   },
   "outputs": [],
   "source": [
    "make_readable(A[2, 1])"
   ]
  },
  {
   "cell_type": "code",
   "execution_count": 0,
   "metadata": {
    "autoscroll": "json-false",
    "collapsed": false,
    "ein.tags": [
     "worksheet-0"
    ]
   },
   "outputs": [],
   "source": [
    "with open('codegen/tex/A21_fnat.tex', 'w') as f:\n",
    "     f.write(latex(make_readable(A[2, 1])))"
   ]
  },
  {
   "cell_type": "markdown",
   "metadata": {
    "ein.tags": [
     "worksheet-0"
    ]
   },
   "source": [
    "## A[2, 2]"
   ]
  },
  {
   "cell_type": "code",
   "execution_count": 0,
   "metadata": {
    "autoscroll": "json-false",
    "collapsed": false,
    "ein.tags": [
     "worksheet-0"
    ]
   },
   "outputs": [],
   "source": [
    "make_readable(A_[2, 2])"
   ]
  },
  {
   "cell_type": "code",
   "execution_count": 0,
   "metadata": {
    "autoscroll": "json-false",
    "collapsed": false,
    "ein.tags": [
     "worksheet-0"
    ]
   },
   "outputs": [],
   "source": [
    "A22_raw = flatten_piecewise(A_[2, 2]).args[0][0]"
   ]
  },
  {
   "cell_type": "code",
   "execution_count": 0,
   "metadata": {
    "autoscroll": "json-false",
    "collapsed": false,
    "ein.tags": [
     "worksheet-0"
    ]
   },
   "outputs": [],
   "source": [
    "A[2, 2] = natfixA(A22_raw)\n",
    "make_readable(A[2, 2])"
   ]
  },
  {
   "cell_type": "code",
   "execution_count": 0,
   "metadata": {
    "autoscroll": "json-false",
    "collapsed": false,
    "ein.tags": [
     "worksheet-0"
    ]
   },
   "outputs": [],
   "source": [
    "with open('codegen/tex/A22_fnat.tex', 'w') as f:\n",
    "     f.write(latex(make_readable(A[2, 2])))"
   ]
  },
  {
   "cell_type": "markdown",
   "metadata": {
    "ein.tags": [
     "worksheet-0"
    ]
   },
   "source": [
    "# B"
   ]
  },
  {
   "cell_type": "code",
   "execution_count": 0,
   "metadata": {
    "autoscroll": "json-false",
    "collapsed": false,
    "ein.tags": [
     "worksheet-0"
    ]
   },
   "outputs": [],
   "source": [
    "B = Matrix(3, 3, lambda i,j: 0)"
   ]
  },
  {
   "cell_type": "markdown",
   "metadata": {
    "ein.tags": [
     "worksheet-0"
    ]
   },
   "source": [
    "## B[:, 0]"
   ]
  },
  {
   "cell_type": "code",
   "execution_count": 0,
   "metadata": {
    "autoscroll": "json-false",
    "collapsed": false,
    "ein.tags": [
     "worksheet-0"
    ]
   },
   "outputs": [],
   "source": [
    "B[:, 0] = B_[:, 0]\n",
    "make_readable(B[:, 0])"
   ]
  },
  {
   "cell_type": "code",
   "execution_count": 0,
   "metadata": {
    "autoscroll": "json-false",
    "collapsed": false,
    "ein.tags": [
     "worksheet-0"
    ]
   },
   "outputs": [],
   "source": [
    "with open('codegen/tex/B0_fnat.tex', 'w') as f:\n",
    "     f.write(latex(make_readable(B[:, 0])))"
   ]
  },
  {
   "cell_type": "markdown",
   "metadata": {
    "ein.tags": [
     "worksheet-0"
    ]
   },
   "source": [
    "## B[0, 1]"
   ]
  },
  {
   "cell_type": "code",
   "execution_count": 0,
   "metadata": {
    "autoscroll": "json-false",
    "collapsed": false,
    "ein.tags": [
     "worksheet-0"
    ]
   },
   "outputs": [],
   "source": [
    "make_readable(B_[0, 1])\n"
   ]
  },
  {
   "cell_type": "code",
   "execution_count": 0,
   "metadata": {
    "autoscroll": "json-false",
    "collapsed": false,
    "ein.tags": [
     "worksheet-0"
    ]
   },
   "outputs": [],
   "source": [
    "B[0, 1] = natfixB(B_[0, 1])"
   ]
  },
  {
   "cell_type": "code",
   "execution_count": 0,
   "metadata": {
    "autoscroll": "json-false",
    "collapsed": false,
    "ein.tags": [
     "worksheet-0"
    ]
   },
   "outputs": [],
   "source": [
    "make_readable(B[0, 1])"
   ]
  },
  {
   "cell_type": "code",
   "execution_count": 0,
   "metadata": {
    "autoscroll": "json-false",
    "collapsed": false,
    "ein.tags": [
     "worksheet-0"
    ]
   },
   "outputs": [],
   "source": [
    "with open('codegen/tex/B01_fnat.tex', 'w') as f:\n",
    "     f.write(latex(make_readable(B[0, 1])))"
   ]
  },
  {
   "cell_type": "markdown",
   "metadata": {
    "ein.tags": [
     "worksheet-0"
    ]
   },
   "source": [
    "## B[0, 2]"
   ]
  },
  {
   "cell_type": "code",
   "execution_count": 0,
   "metadata": {
    "autoscroll": "json-false",
    "collapsed": false,
    "ein.tags": [
     "worksheet-0"
    ]
   },
   "outputs": [],
   "source": [
    "make_readable(B_[0, 2])"
   ]
  },
  {
   "cell_type": "code",
   "execution_count": 0,
   "metadata": {
    "autoscroll": "json-false",
    "collapsed": false,
    "ein.tags": [
     "worksheet-0"
    ]
   },
   "outputs": [],
   "source": [
    "B[0, 2] = natfixB(B_[0, 2])"
   ]
  },
  {
   "cell_type": "code",
   "execution_count": 0,
   "metadata": {
    "autoscroll": "json-false",
    "collapsed": false,
    "ein.tags": [
     "worksheet-0"
    ]
   },
   "outputs": [],
   "source": [
    "make_readable(B[0, 2])"
   ]
  },
  {
   "cell_type": "code",
   "execution_count": 0,
   "metadata": {
    "autoscroll": "json-false",
    "collapsed": false,
    "ein.tags": [
     "worksheet-0"
    ]
   },
   "outputs": [],
   "source": [
    "with open('codegen/tex/B02_fnat.tex', 'w') as f:\n",
    "     f.write(latex(make_readable(B[0, 2])))"
   ]
  },
  {
   "cell_type": "markdown",
   "metadata": {
    "ein.tags": [
     "worksheet-0"
    ]
   },
   "source": [
    "## B[1, 1]"
   ]
  },
  {
   "cell_type": "code",
   "execution_count": 0,
   "metadata": {
    "autoscroll": "json-false",
    "collapsed": false,
    "ein.tags": [
     "worksheet-0"
    ]
   },
   "outputs": [],
   "source": [
    "make_readable(B_[1, 1])"
   ]
  },
  {
   "cell_type": "code",
   "execution_count": 0,
   "metadata": {
    "autoscroll": "json-false",
    "collapsed": false,
    "ein.tags": [
     "worksheet-0"
    ]
   },
   "outputs": [],
   "source": [
    "B[1, 1] = B_[1, 1]"
   ]
  },
  {
   "cell_type": "code",
   "execution_count": 0,
   "metadata": {
    "autoscroll": "json-false",
    "collapsed": false,
    "ein.tags": [
     "worksheet-0"
    ]
   },
   "outputs": [],
   "source": [
    "with open('codegen/tex/B11_fnat.tex', 'w') as f:\n",
    "     f.write(latex(make_readable(B[1, 1])))\n"
   ]
  },
  {
   "cell_type": "markdown",
   "metadata": {
    "ein.tags": [
     "worksheet-0"
    ]
   },
   "source": [
    "## B[1, 2]"
   ]
  },
  {
   "cell_type": "code",
   "execution_count": 0,
   "metadata": {
    "autoscroll": "json-false",
    "collapsed": false,
    "ein.tags": [
     "worksheet-0"
    ]
   },
   "outputs": [],
   "source": [
    "make_readable(B_[1, 2])"
   ]
  },
  {
   "cell_type": "code",
   "execution_count": 0,
   "metadata": {
    "autoscroll": "json-false",
    "collapsed": false,
    "ein.tags": [
     "worksheet-0"
    ]
   },
   "outputs": [],
   "source": [
    "B[1, 2] = B_[1, 2]"
   ]
  },
  {
   "cell_type": "code",
   "execution_count": 0,
   "metadata": {
    "autoscroll": "json-false",
    "collapsed": false,
    "ein.tags": [
     "worksheet-0"
    ]
   },
   "outputs": [],
   "source": [
    "with open('codegen/tex/B12_fnat.tex', 'w') as f:\n",
    "     f.write(latex(make_readable(B[1, 2])))"
   ]
  },
  {
   "cell_type": "markdown",
   "metadata": {
    "ein.tags": [
     "worksheet-0"
    ]
   },
   "source": [
    "## B[2, 1]"
   ]
  },
  {
   "cell_type": "code",
   "execution_count": 0,
   "metadata": {
    "autoscroll": "json-false",
    "collapsed": false,
    "ein.tags": [
     "worksheet-0"
    ]
   },
   "outputs": [],
   "source": [
    "B21_delta0 = flatten_piecewise(B_[2, 1]).args[0][0]\n",
    "make_readable(B21_delta0)"
   ]
  },
  {
   "cell_type": "code",
   "execution_count": 0,
   "metadata": {
    "autoscroll": "json-false",
    "collapsed": false,
    "ein.tags": [
     "worksheet-0"
    ]
   },
   "outputs": [],
   "source": [
    "make_readable(mlimit(B21_delta0.subs(ut1, (1+t)*rt1/mu).subs(ut2, (1+t)*rt2/mu), t, 0))\n"
   ]
  },
  {
   "cell_type": "code",
   "execution_count": 0,
   "metadata": {
    "autoscroll": "json-false",
    "collapsed": false,
    "ein.tags": [
     "worksheet-0"
    ]
   },
   "outputs": [],
   "source": [
    "B21_delta1 = flatten_piecewise(B_[2, 1]).args[1][0]\n",
    "make_readable(B21_delta1)"
   ]
  },
  {
   "cell_type": "code",
   "execution_count": 0,
   "metadata": {
    "autoscroll": "json-false",
    "collapsed": false,
    "ein.tags": [
     "worksheet-0"
    ]
   },
   "outputs": [],
   "source": [
    "make_readable(mlimit(B21_delta1.subs(ut1, (1+t)*rt1/mu).subs(ut2, (1+t)*rt2/mu), t, 0))\n"
   ]
  },
  {
   "cell_type": "code",
   "execution_count": 0,
   "metadata": {
    "autoscroll": "json-false",
    "collapsed": false,
    "ein.tags": [
     "worksheet-0"
    ]
   },
   "outputs": [],
   "source": [
    "make_readable(natfixB(B21_delta0))"
   ]
  },
  {
   "cell_type": "code",
   "execution_count": 0,
   "metadata": {
    "autoscroll": "json-false",
    "collapsed": false,
    "ein.tags": [
     "worksheet-0"
    ]
   },
   "outputs": [],
   "source": [
    "B[2, 1] = natfixB(B21_delta0)\n",
    "\n"
   ]
  },
  {
   "cell_type": "code",
   "execution_count": 0,
   "metadata": {
    "autoscroll": "json-false",
    "collapsed": false,
    "ein.tags": [
     "worksheet-0"
    ]
   },
   "outputs": [],
   "source": [
    "with open('codegen/tex/B21_fnat.tex', 'w') as f:\n",
    "     f.write(latex(make_readable(B[2, 1])))"
   ]
  },
  {
   "cell_type": "markdown",
   "metadata": {
    "ein.tags": [
     "worksheet-0"
    ]
   },
   "source": [
    "## B[2, 2]\n"
   ]
  },
  {
   "cell_type": "code",
   "execution_count": 0,
   "metadata": {
    "autoscroll": "json-false",
    "collapsed": false,
    "ein.tags": [
     "worksheet-0"
    ]
   },
   "outputs": [],
   "source": [
    "make_readable(B_[2, 2])"
   ]
  },
  {
   "cell_type": "code",
   "execution_count": 0,
   "metadata": {
    "autoscroll": "json-false",
    "collapsed": false,
    "ein.tags": [
     "worksheet-0"
    ]
   },
   "outputs": [],
   "source": [
    "B22_delta0 = flatten_piecewise(B_[2, 2]).args[0][0]\n",
    "B22_delta1 = flatten_piecewise(B_[2, 2]).args[1][0]"
   ]
  },
  {
   "cell_type": "code",
   "execution_count": 0,
   "metadata": {
    "autoscroll": "json-false",
    "collapsed": false,
    "ein.tags": [
     "worksheet-0"
    ]
   },
   "outputs": [],
   "source": [
    "#simplify(nsimp(mlimit(B22_delta0.subs(ut1, t).subs(ut2, t).subs(rt1, 1).subs(rt2, 0), t, 0)))\n",
    "B[2, 2] = natfixB(B_[2, 2])"
   ]
  },
  {
   "cell_type": "code",
   "execution_count": 0,
   "metadata": {
    "autoscroll": "json-false",
    "collapsed": false,
    "ein.tags": [
     "worksheet-0"
    ]
   },
   "outputs": [],
   "source": [
    "make_readable(B[2, 2])\n"
   ]
  },
  {
   "cell_type": "code",
   "execution_count": 0,
   "metadata": {
    "autoscroll": "json-false",
    "collapsed": false,
    "ein.tags": [
     "worksheet-0"
    ]
   },
   "outputs": [],
   "source": [
    "with open('codegen/tex/B22_fnat.tex', 'w') as f:\n",
    "     f.write(latex(make_readable(B[2, 2])))"
   ]
  }
 ],
 "metadata": {
  "kernelspec": {
   "display_name": "Python 2",
   "name": "python2"
  },
  "language_info": {
   "codemirror_mode": {
    "name": "ipython",
    "version": 2
   },
   "file_extension": ".py",
   "mimetype": "text/x-python",
   "name": "python",
   "nbconvert_exporter": "python",
   "pygments_lexer": "ipython2",
   "version": "2.7.10"
  },
  "name": "NM.ipynb"
 },
 "nbformat": 4,
 "nbformat_minor": 0
}
