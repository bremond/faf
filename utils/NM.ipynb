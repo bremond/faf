{
 "cells": [
  {
   "cell_type": "markdown",
   "metadata": {
    "ein.tags": [
     "worksheet-0"
    ]
   },
   "source": [
    "# Natural Map"
   ]
  },
  {
   "cell_type": "markdown",
   "metadata": {
    "ein.tags": [
     "worksheet-0"
    ]
   },
   "source": [
    "## imports"
   ]
  },
  {
   "cell_type": "code",
   "execution_count": 1,
   "metadata": {
    "autoscroll": "json-false",
    "collapsed": false,
    "ein.tags": [
     "worksheet-0"
    ]
   },
   "outputs": [],
   "source": [
    "import JordanAlgebra\n",
    "from sympy import Symbol, Matrix, sqrt, Pow, Add, Rational, postorder_traversal, factor, simplify, nsimplify, latex\n",
    "from codegen.funcodegen import funcodegen\n",
    "import numpy as np\n"
   ]
  },
  {
   "cell_type": "markdown",
   "metadata": {
    "ein.tags": [
     "worksheet-0"
    ]
   },
   "source": [
    "## symbols"
   ]
  },
  {
   "cell_type": "code",
   "execution_count": 2,
   "metadata": {
    "autoscroll": "json-false",
    "collapsed": false,
    "ein.tags": [
     "worksheet-0"
    ]
   },
   "outputs": [],
   "source": [
    "from JordanAlgebra import epsilon\n",
    "from friction import mu, rn, rt1, rt2, un, ut1, ut2, xn, xt1, xt2, yn, yt1, yt2, u, r, x, y, ut\n"
   ]
  },
  {
   "cell_type": "markdown",
   "metadata": {
    "ein.tags": [
     "worksheet-0"
    ]
   },
   "source": [
    "## The natural map function"
   ]
  },
  {
   "cell_type": "code",
   "execution_count": 3,
   "metadata": {
    "autoscroll": "json-false",
    "collapsed": false,
    "ein.tags": [
     "worksheet-0"
    ]
   },
   "outputs": [],
   "source": [
    "Fnat = y - JordanAlgebra.projection(y - x)\n"
   ]
  },
  {
   "cell_type": "markdown",
   "metadata": {
    "ein.tags": [
     "worksheet-0"
    ]
   },
   "source": [
    "## Raw jacobians"
   ]
  },
  {
   "cell_type": "code",
   "execution_count": 4,
   "metadata": {
    "autoscroll": "json-false",
    "collapsed": false,
    "ein.tags": [
     "worksheet-0"
    ]
   },
   "outputs": [],
   "source": [
    "A_ = Fnat.jacobian(u)\n",
    "B_ = Fnat.jacobian(r)"
   ]
  },
  {
   "cell_type": "code",
   "execution_count": 5,
   "metadata": {
    "autoscroll": "json-false",
    "collapsed": false,
    "ein.tags": [
     "worksheet-0"
    ]
   },
   "outputs": [],
   "source": [
    "lambda1, lambda2, u1, u2 = JordanAlgebra.spectral_decomposition(y - x)\n",
    "\n",
    "#def load(v):\n",
    "\n",
    "#    with open(v) as r_file:\n",
    "#        return pickle.load(r_file)\n",
    "\n",
    "#A = load('Fnat_A')\n",
    "#B = load('Fnat_B')\n",
    "#Fnat = load('Fnat')\n",
    "#Rnow = load('Fnat_Rnow')"
   ]
  },
  {
   "cell_type": "code",
   "execution_count": 6,
   "metadata": {
    "autoscroll": "json-false",
    "collapsed": false,
    "ein.tags": [
     "worksheet-0"
    ]
   },
   "outputs": [],
   "source": [
    "from sympy import Piecewise\n",
    "def add_split(expr, pos, f1, f2):\n",
    "    n_expr = expr\n",
    "    if type(expr) == Add:       \n",
    "       n_expr1 = Add(*expr.args[:pos])\n",
    "       n_expr2 = Add(*expr.args[pos:])\n",
    "       n_expr = Add(f2(n_expr2), f1(n_expr1))\n",
    "    return n_expr\n",
    "\n",
    "def add_splitp(p_expr, lpos, f1, f2):\n",
    "    if hasattr(p_expr, 'is_Piecewise') and p_expr.is_Piecewise:\n",
    "        return Piecewise(*[(add_split(c[0], lpos[i], f1, f2), c[1]) for i, c in enumerate(p_expr.args)])\n",
    "    else:\n",
    "        return add_split(p_expr, lpos[0], f1, f2)\n",
    "\n",
    "def add_splitv(mat, lpos, f1, f2):\n",
    "    return Matrix(mat.shape[0], mat.shape[1], \n",
    "        lambda i,j: add_splitp(mat[i, j], lpos[i], f1, f2))\n",
    "\n",
    "def map_matrix(mat, fun, args):\n",
    "    return Matrix(mat.shape[0], mat.shape[1], \n",
    "                  lambda i,j: fun(mat[i, j], *(args[i])))\n",
    "\n"
   ]
  },
  {
   "cell_type": "code",
   "execution_count": 7,
   "metadata": {
    "autoscroll": "json-false",
    "collapsed": false,
    "ein.tags": [
     "worksheet-0"
    ]
   },
   "outputs": [
    {
     "data": {
      "text/plain": [
       "Piecewise(((ut1**2 + ut2**2)/2 + 1, ut1 > 0), (ut1, ut1 <= 0))"
      ]
     },
     "execution_count": 7,
     "metadata": {},
     "output_type": "execute_result"
    }
   ],
   "source": [
    "add_splitp(Piecewise((1 + ut1**2/2 + ut2**2/2, ut1>0), (ut1, ut1<=0)), [1,0], factor, factor)\n",
    "\n",
    "#map_matrix(Matrix([1 + ut1**2/2 + ut2**2/2]), add_split, [1, factor, factor])"
   ]
  },
  {
   "cell_type": "code",
   "execution_count": 7,
   "metadata": {
    "autoscroll": "json-false",
    "collapsed": false,
    "ein.tags": [
     "worksheet-0"
    ]
   },
   "outputs": [],
   "source": []
  },
  {
   "cell_type": "code",
   "execution_count": 8,
   "metadata": {
    "autoscroll": "json-false",
    "collapsed": false,
    "ein.tags": [
     "worksheet-0"
    ]
   },
   "outputs": [],
   "source": [
    "from sympy import init_printing\n",
    "init_printing()\n",
    "\n",
    "from sympy import Symbol\n",
    "nut = Symbol(r'\\lVert {u_{t}} \\rVert', negative=False)\n",
    "nrt = Symbol(r'\\lVert {r_{t}} \\rVert', negative=False)\n",
    "lbd1 = Symbol(r'\\lambda_1')\n",
    "lbd2 = Symbol(r'\\lambda_2')\n",
    "delta1 = Symbol(r'\\Delta_1')\n",
    "delta2 = Symbol(r'\\Delta_2')\n",
    "ndelta = Symbol(r'\\lVert {\\Delta} \\rVert', negative=False)\n",
    "lepsilon = Symbol(r'\\epsilon')\n",
    "lut1 = Symbol(r'u_{t1}')\n",
    "lut2 = Symbol(r'u_{t2}')\n",
    "lun = Symbol(r'u_n')\n",
    "lrt1 = Symbol(r'r_{t1}')\n",
    "lrt2 = Symbol(r'r_{t2}')\n",
    "lrn = Symbol(r'r_n')\n",
    "\n",
    "from codegen.funcodegen import flatten_piecewise\n",
    "\n",
    "\n",
    "def make_readable(expr, deep=False):\n",
    "    return flatten_piecewise(expr).subs(lrt1, rt1).subs(lrt2, rt2).subs(lrn, rn).subs(lut1, ut1).subs(lut2, ut2).subs(lun, un).subs('rt1', rt1).subs('rt2', rt2).subs('rn', rn).subs('ut1', ut1).subs('ut2', ut2).subs('un', un).subs(lambda1, lbd1).subs(lambda2, lbd2).subs(ut1**2+ut2**2,nut**2).subs(rt1**2+rt2**2, nrt**2).subs(mu*ut2-rt2, delta2).subs(mu*ut1-rt1, delta1).subs(delta1**2+delta2**2, ndelta**2).subs(rt1, lrt1).subs(rt2, lrt2).subs(rn, lrn).subs(ut1, lut1).subs(ut2, lut2).subs(un, lun).subs(epsilon, lepsilon).subs(0.5, Rational(1, 2)).subs(sqrt(nrt**2), nrt).subs(sqrt(nut**2), nut).subs(sqrt(ndelta**2), ndelta).subs(sqrt(sqrt(nrt**2)), sqrt(nrt))\n"
   ]
  },
  {
   "cell_type": "markdown",
   "metadata": {
    "ein.tags": [
     "worksheet-0"
    ]
   },
   "source": [
    "ndelta, sqrt((mu*ut2-rt2)**2+(mu*ut1-rt1)**2)"
   ]
  },
  {
   "cell_type": "code",
   "execution_count": 9,
   "metadata": {
    "autoscroll": "json-false",
    "collapsed": false,
    "ein.tags": [
     "worksheet-0"
    ]
   },
   "outputs": [
    {
     "data": {
      "text/plain": [
       "⎡                                  Max(0, \\lambda_1) + Max(0, \\lambda_2)      \n",
       "⎢                          μ⋅r_n - ─────────────────────────────────────      \n",
       "⎢                                                    2                        \n",
       "⎢                                                                             \n",
       "⎢⎧  \\Delta₁⋅(Max(0, \\lambda_1) - Max(0, \\lambda_2))                           \n",
       "⎢⎪- ─────────────────────────────────────────────── + r_{t1}  for \\lVert {\\Del\n",
       "⎢⎨              2⋅\\lVert {\\Delta} \\rVert                                      \n",
       "⎢⎪                                                                            \n",
       "⎢⎩                          r_{t1}                            for \\lVert {\\Del\n",
       "⎢                                                                             \n",
       "⎢⎧  \\Delta₂⋅(Max(0, \\lambda_1) - Max(0, \\lambda_2))                           \n",
       "⎢⎪- ─────────────────────────────────────────────── + r_{t2}  for \\lVert {\\Del\n",
       "⎢⎪              2⋅\\lVert {\\Delta} \\rVert                                      \n",
       "⎢⎨                                                                            \n",
       "⎢⎪               Max(0, \\lambda_1) - Max(0, \\lambda_2)                        \n",
       "⎢⎪      r_{t2} + ─────────────────────────────────────        for \\lVert {\\Del\n",
       "⎣⎩                                 2                                          \n",
       "\n",
       "                     ⎤\n",
       "                     ⎥\n",
       "                     ⎥\n",
       "                     ⎥\n",
       "                     ⎥\n",
       "ta} \\rVert > \\epsilon⎥\n",
       "                     ⎥\n",
       "                     ⎥\n",
       "ta} \\rVert ≤ \\epsilon⎥\n",
       "                     ⎥\n",
       "                     ⎥\n",
       "ta} \\rVert > \\epsilon⎥\n",
       "                     ⎥\n",
       "                     ⎥\n",
       "                     ⎥\n",
       "ta} \\rVert ≤ \\epsilon⎥\n",
       "                     ⎦"
      ]
     },
     "execution_count": 9,
     "metadata": {},
     "output_type": "execute_result"
    }
   ],
   "source": [
    "from sympy import expand\n",
    "add_splitv(make_readable(Fnat), [[2], [1,0], [1,1]], factor, factor)\n"
   ]
  },
  {
   "cell_type": "code",
   "execution_count": 10,
   "metadata": {
    "autoscroll": "json-false",
    "collapsed": false,
    "ein.tags": [
     "worksheet-0"
    ]
   },
   "outputs": [],
   "source": [
    "P=make_readable(Fnat[1]).args[0][0]\n",
    "\n"
   ]
  },
  {
   "cell_type": "code",
   "execution_count": 11,
   "metadata": {
    "autoscroll": "json-false",
    "collapsed": false,
    "ein.tags": [
     "worksheet-0"
    ]
   },
   "outputs": [
    {
     "data": {
      "text/plain": [
       "⎧  \\Delta₂⋅Max(0, \\lambda_1)   \\Delta₂⋅Max(0, \\lambda_2)                      \n",
       "⎪- ───────────────────────── + ───────────────────────── + r_{t2}  for \\lVert \n",
       "⎪   2⋅\\lVert {\\Delta} \\rVert    2⋅\\lVert {\\Delta} \\rVert                      \n",
       "⎨                                                                             \n",
       "⎪                  Max(0, \\lambda_1)   Max(0, \\lambda_2)                      \n",
       "⎪         r_{t2} + ───────────────── - ─────────────────           for \\lVert \n",
       "⎩                          2                   2                              \n",
       "\n",
       "                          \n",
       "{\\Delta} \\rVert > \\epsilon\n",
       "                          \n",
       "                          \n",
       "                          \n",
       "{\\Delta} \\rVert ≤ \\epsilon\n",
       "                          "
      ]
     },
     "execution_count": 11,
     "metadata": {},
     "output_type": "execute_result"
    }
   ],
   "source": [
    "add_split(make_readable(Fnat[2]), 2, factor, factor)"
   ]
  },
  {
   "cell_type": "code",
   "execution_count": 12,
   "metadata": {
    "autoscroll": "json-false",
    "collapsed": false,
    "ein.tags": [
     "worksheet-0"
    ]
   },
   "outputs": [],
   "source": [
    "with open('codegen/tex/fnat.tex', 'w') as f:\n",
    "    f.write(latex(add_splitv(make_readable(Fnat), [[2], [1,0], [1,1]], factor, factor)))"
   ]
  },
  {
   "cell_type": "code",
   "execution_count": 13,
   "metadata": {
    "autoscroll": "json-false",
    "collapsed": false,
    "ein.tags": [
     "worksheet-0"
    ]
   },
   "outputs": [
    {
     "data": {
      "text/plain": []
     },
     "execution_count": 13,
     "metadata": {},
     "output_type": "execute_result"
    },
    {
     "name": "stdout",
     "output_type": "stream",
     "text": [
      "No remote temporary directory (option server_tmpdir) specified, using /tmp/ on bizet.inria.fr\n"
     ]
    }
   ],
   "source": [
    "from codegen.maple import limzero, Maple, set_maple\n",
    "maple = Maple(server='bizet.inria.fr')\n",
    "set_maple(maple)\n",
    "t = Symbol('t', positive=True, real=True)\n",
    "maple_assumes = 'mu >= 0 and mu < 1 and rn >=0 and t > 0 and epsilon > 0'\n",
    "maple.assume(maple_assumes)\n"
   ]
  },
  {
   "cell_type": "code",
   "execution_count": 14,
   "metadata": {
    "autoscroll": "json-false",
    "collapsed": false,
    "ein.tags": [
     "worksheet-0"
    ]
   },
   "outputs": [],
   "source": [
    "def nsimp(expr):\n",
    "    n_expr = expr\n",
    "    for subexpr in postorder_traversal(expr):\n",
    "        n_expr = n_expr.subs(subexpr, nsimplify(subexpr))\n",
    "    return n_expr"
   ]
  },
  {
   "cell_type": "code",
   "execution_count": 15,
   "metadata": {
    "autoscroll": "json-false",
    "collapsed": false,
    "ein.tags": [
     "worksheet-0"
    ]
   },
   "outputs": [],
   "source": [
    "A=Matrix(3, 3, lambda i, j: 0)"
   ]
  },
  {
   "cell_type": "markdown",
   "metadata": {
    "ein.tags": [
     "worksheet-0"
    ]
   },
   "source": [
    "###### ====================\n",
    "A[0, 0]\n",
    "===================="
   ]
  },
  {
   "cell_type": "code",
   "execution_count": 18,
   "metadata": {
    "autoscroll": "json-false",
    "collapsed": false,
    "ein.tags": [
     "worksheet-0"
    ]
   },
   "outputs": [
    {
     "data": {
      "text/plain": [
       "Heaviside(\\lambda₁) + Heaviside(\\lambda₂)\n",
       "─────────────────────────────────────────\n",
       "                    2                    "
      ]
     },
     "execution_count": 18,
     "metadata": {},
     "output_type": "execute_result"
    }
   ],
   "source": [
    "factor(make_readable(A_[0, 0]))"
   ]
  },
  {
   "cell_type": "code",
   "execution_count": 0,
   "metadata": {
    "autoscroll": "json-false",
    "collapsed": false,
    "ein.tags": [
     "worksheet-0"
    ]
   },
   "outputs": [],
   "source": [
    "A[0, 0] = A_[0, 0]"
   ]
  },
  {
   "cell_type": "code",
   "execution_count": 20,
   "metadata": {
    "autoscroll": "json-false",
    "collapsed": false,
    "ein.tags": [
     "worksheet-0"
    ]
   },
   "outputs": [],
   "source": [
    "with open('codegen/tex/A00_fnat.tex', 'w') as f:\n",
    "     f.write(latex(factor(make_readable(A_[0, 0]))))"
   ]
  },
  {
   "cell_type": "markdown",
   "metadata": {
    "ein.tags": [
     "worksheet-0"
    ]
   },
   "source": [
    "###### ====================\n",
    "A[0, 1]\n",
    "===================="
   ]
  },
  {
   "cell_type": "code",
   "execution_count": 21,
   "metadata": {
    "autoscroll": "json-false",
    "collapsed": false,
    "ein.tags": [
     "worksheet-0"
    ]
   },
   "outputs": [
    {
     "data": {
      "text/plain": [
       "μ⋅(\\Delta₁⋅\\lVert {u_{t}} \\rVert⋅Heaviside(\\lambda₁) - \\Delta₁⋅\\lVert {u_{t}} \n",
       "──────────────────────────────────────────────────────────────────────────────\n",
       "                                                                              \n",
       "\n",
       "\\rVert⋅Heaviside(\\lambda₂) + \\lVert {\\Delta} \\rVert⋅u_{t1}⋅Heaviside(\\lambda₁)\n",
       "──────────────────────────────────────────────────────────────────────────────\n",
       "    2⋅\\lVert {\\Delta} \\rVert⋅\\lVert {u_{t}} \\rVert                            \n",
       "\n",
       " + \\lVert {\\Delta} \\rVert⋅u_{t1}⋅Heaviside(\\lambda₂))\n",
       "─────────────────────────────────────────────────────\n",
       "                                                     "
      ]
     },
     "execution_count": 21,
     "metadata": {},
     "output_type": "execute_result"
    }
   ],
   "source": [
    "factor(make_readable(A_[0, 1]))"
   ]
  },
  {
   "cell_type": "code",
   "execution_count": 28,
   "metadata": {
    "autoscroll": "json-false",
    "collapsed": false,
    "ein.tags": [
     "worksheet-0"
    ]
   },
   "outputs": [
    {
     "data": {
      "text/plain": [
       "  μ⋅r_{t1}⋅Heaviside(-\\lVert {r_{t}} \\rVert + μ⋅r_n - u_n)   μ⋅r_{t1}⋅Heavisid\n",
       "- ──────────────────────────────────────────────────────── + ─────────────────\n",
       "                  2⋅\\lVert {r_{t}} \\rVert                                    2\n",
       "\n",
       "e(\\lVert {r_{t}} \\rVert + μ⋅r_n - u_n)\n",
       "──────────────────────────────────────\n",
       "⋅\\lVert {r_{t}} \\rVert                "
      ]
     },
     "execution_count": 28,
     "metadata": {},
     "output_type": "execute_result"
    }
   ],
   "source": [
    "make_readable(nsimp(limzero(A_[0, 1], [(ut1, 0), (ut2, 0)])))"
   ]
  },
  {
   "cell_type": "markdown",
   "metadata": {
    "ein.tags": [
     "worksheet-0"
    ]
   },
   "source": [
    "pour \\Delta_n différent de 0, ||u_t|| -> 0 (==> rt != 0)"
   ]
  },
  {
   "cell_type": "markdown",
   "metadata": {
    "ein.tags": [
     "worksheet-0"
    ]
   },
   "source": [
    "deltan -> 0"
   ]
  },
  {
   "cell_type": "code",
   "execution_count": 23,
   "metadata": {
    "autoscroll": "json-false",
    "collapsed": false,
    "ein.tags": [
     "worksheet-0"
    ]
   },
   "outputs": [
    {
     "data": {
      "text/plain": [
       "μ⋅r_{t1}⋅Heaviside(-\\lVert {r_{t}} \\rVert + μ⋅r_n - u_n)\n",
       "────────────────────────────────────────────────────────\n",
       "                 \\lVert {r_{t}} \\rVert                  "
      ]
     },
     "execution_count": 23,
     "metadata": {},
     "output_type": "execute_result"
    }
   ],
   "source": [
    "from codegen.maple import mlimit\n",
    "make_readable(nsimp(mlimit(A_[0, 1].subs(ut1, (1+t)*rt1/mu).subs(ut2, (1+t)*rt2/mu), t, 0)))"
   ]
  },
  {
   "cell_type": "markdown",
   "metadata": {
    "ein.tags": [
     "worksheet-0"
    ]
   },
   "source": [
    "deltan -> 0 && ut -> 0 ==> rt -> 0"
   ]
  },
  {
   "cell_type": "code",
   "execution_count": 24,
   "metadata": {
    "autoscroll": "json-false",
    "collapsed": false,
    "ein.tags": [
     "worksheet-0"
    ]
   },
   "outputs": [
    {
     "data": {
      "text/plain": [
       "  ___                         \n",
       "╲╱ 2 ⋅μ⋅Heaviside(μ⋅r_n - u_n)\n",
       "──────────────────────────────\n",
       "              2               "
      ]
     },
     "execution_count": 24,
     "metadata": {},
     "output_type": "execute_result"
    }
   ],
   "source": [
    "make_readable(nsimp(limzero(A_[0, 1], [(ut1, t), (ut2, t), (rt1, t), (rt2, t)])))\n"
   ]
  },
  {
   "cell_type": "code",
   "execution_count": 40,
   "metadata": {
    "autoscroll": "json-false",
    "collapsed": false,
    "ein.tags": [
     "worksheet-0"
    ]
   },
   "outputs": [
    {
     "data": {
      "text/plain": [
       "⎧                                                          ___                \n",
       "⎪                                                        ╲╱ 2 ⋅μ⋅Heaviside(μ⋅r\n",
       "⎪                                                        ─────────────────────\n",
       "⎪                                                                      2      \n",
       "⎪                                                                             \n",
       "⎪                                           μ⋅r_{t1}⋅Heaviside(-\\lVert {r_{t}}\n",
       "⎪                                           ──────────────────────────────────\n",
       "⎪                                                            \\lVert {r_{t}} \\r\n",
       "⎪                                                                             \n",
       "⎨  ⎛        \\Delta₁⋅μ                 μ⋅u_{t1}      ⎞                       ⎛ \n",
       "⎪  ⎜- ────────────────────── - ─────────────────────⎟⋅Heaviside(\\lambda₁)   ⎜─\n",
       "⎪  ⎝  \\lVert {\\Delta} \\rVert   \\lVert {u_{t}} \\rVert⎠                       ⎝\\\n",
       "⎪- ────────────────────────────────────────────────────────────────────── - ──\n",
       "⎪                                    2                                        \n",
       "⎪                                                                             \n",
       "⎪               μ⋅r_{t1}⋅Heaviside(-\\lVert {r_{t}} \\rVert + μ⋅r_n - u_n)   μ⋅r\n",
       "⎪             - ──────────────────────────────────────────────────────── + ───\n",
       "⎪                               2⋅\\lVert {r_{t}} \\rVert                       \n",
       "⎩                                                                             \n",
       "\n",
       "                                                                              \n",
       "_n - u_n)                                                                     \n",
       "─────────                                                                     \n",
       "                                                                              \n",
       "                                                                              \n",
       " \\rVert + μ⋅r_n - u_n)                                                        \n",
       "──────────────────────                                                        \n",
       "Vert                                                                          \n",
       "                                                                              \n",
       "     \\Delta₁⋅μ                 μ⋅u_{t1}      ⎞                                \n",
       "───────────────────── - ─────────────────────⎟⋅Heaviside(\\lambda₂)            \n",
       "lVert {\\Delta} \\rVert   \\lVert {u_{t}} \\rVert⎠                                \n",
       "──────────────────────────────────────────────────────────────────            \n",
       "                               2                                              \n",
       "                                                                              \n",
       "_{t1}⋅Heaviside(\\lVert {r_{t}} \\rVert + μ⋅r_n - u_n)                          \n",
       "────────────────────────────────────────────────────                for \\lVert\n",
       "             2⋅\\lVert {r_{t}} \\rVert                                          \n",
       "                                                                              \n",
       "\n",
       "                                                                              \n",
       "                                                                              \n",
       "        for \\lVert {r_{t}} \\rVert ≤ \\epsilon ∧ \\lVert {u_{t}} \\rVert ≤ \\epsilo\n",
       "                                                                              \n",
       "                                                                              \n",
       "                                                                              \n",
       "                         for \\lVert {\\Delta} \\rVert ≤ \\epsilon                \n",
       "                                                                              \n",
       "                                                                              \n",
       "                                                                              \n",
       "                                                                              \n",
       "                                                                              \n",
       "       for \\lVert {\\Delta} \\rVert > \\epsilon ∧ \\lVert {u_{t}} \\rVert > \\epsilo\n",
       "                                                                              \n",
       "                                                                              \n",
       "                                                                              \n",
       " {u_{t}} \\rVert ≤ \\epsilon ∧ \\lVert {\\Delta} \\rVert > \\epsilon ∧ \\lVert {r_{t}\n",
       "                                                                              \n",
       "                                                                              \n",
       "\n",
       "                   \n",
       "                   \n",
       "n                  \n",
       "                   \n",
       "                   \n",
       "                   \n",
       "                   \n",
       "                   \n",
       "                   \n",
       "                   \n",
       "                   \n",
       "                   \n",
       "n                  \n",
       "                   \n",
       "                   \n",
       "                   \n",
       "} \\rVert > \\epsilon\n",
       "                   \n",
       "                   "
      ]
     },
     "execution_count": 40,
     "metadata": {},
     "output_type": "execute_result"
    }
   ],
   "source": [
    "from sympy import And\n",
    "A[0, 1] = Piecewise(\n",
    "     (limzero(A_[0, 1], [(ut1, t), (ut2, t), (rt1, t), (rt2, t)]), And(sqrt(ut1**2+ut2**2) <= epsilon, sqrt(rt1**2+rt2**2) <= epsilon)),\n",
    "     (mlimit(A_[0, 1].subs(ut1, (1+t)*rt1/mu).subs(ut2, (1+t)*rt2/mu), t, 0), sqrt((mu*ut1-rt1)**2+(mu*ut2-rt2)**2) <= epsilon),\n",
    "     (A_[0, 1], And(sqrt(ut1**2+ut2**2) > epsilon, sqrt((mu*ut1-rt1)**2+(mu*ut2-rt2)**2) > epsilon)),\n",
    "     (limzero(A_[0, 1], [(ut1, 0), (ut2, 0)]), And(sqrt((mu*ut1-rt1)**2+(mu*ut2-rt2)**2) > epsilon, sqrt(ut1**2+ut2**2) <= epsilon, sqrt(rt1**2+rt2**2) > epsilon)))\n",
    "     \n",
    "nsimp(make_readable(A[0, 1]))"
   ]
  },
  {
   "cell_type": "code",
   "execution_count": 41,
   "metadata": {
    "autoscroll": "json-false",
    "collapsed": false,
    "ein.tags": [
     "worksheet-0"
    ]
   },
   "outputs": [],
   "source": [
    "with open('codegen/tex/A01_fnat.tex', 'w') as f:\n",
    "     f.write(latex(factor(make_readable(A[0, 1]))))"
   ]
  },
  {
   "cell_type": "markdown",
   "metadata": {
    "ein.tags": [
     "worksheet-0"
    ]
   },
   "source": [
    "###### ====================\n",
    "A[0, 2]\n",
    "===================="
   ]
  },
  {
   "cell_type": "code",
   "execution_count": 0,
   "metadata": {
    "autoscroll": "json-false",
    "collapsed": false,
    "ein.tags": [
     "worksheet-0"
    ]
   },
   "outputs": [],
   "source": [
    "make_readable(A_[0,2])"
   ]
  },
  {
   "cell_type": "markdown",
   "metadata": {
    "ein.tags": [
     "worksheet-0"
    ]
   },
   "source": [
    "deltan != 0, ut -> 0"
   ]
  },
  {
   "cell_type": "code",
   "execution_count": 0,
   "metadata": {
    "autoscroll": "json-false",
    "collapsed": false,
    "ein.tags": [
     "worksheet-0"
    ]
   },
   "outputs": [],
   "source": [
    "make_readable(nsimp(limzero(A_[0, 2], [(ut1, t), (ut2, t)])))"
   ]
  },
  {
   "cell_type": "code",
   "execution_count": 0,
   "metadata": {
    "autoscroll": "json-false",
    "collapsed": false,
    "ein.tags": [
     "worksheet-0"
    ]
   },
   "outputs": [],
   "source": [
    "make_readable(nsimp(limzero(A_[0, 2], [(ut1, t), (ut2, t), (rt1, t), (rt2, t)])))"
   ]
  },
  {
   "cell_type": "code",
   "execution_count": 0,
   "metadata": {
    "autoscroll": "json-false",
    "collapsed": false,
    "ein.tags": [
     "worksheet-0"
    ]
   },
   "outputs": [],
   "source": [
    "make_readable(nsimp(mlimit(A_[0, 2].subs(ut1, (1+t)*rt1/mu).subs(ut2, (1+t)*rt2/mu), t, 0)))"
   ]
  },
  {
   "cell_type": "markdown",
   "metadata": {
    "ein.tags": [
     "worksheet-0"
    ]
   },
   "source": [
    "###### ====================\n",
    "A[1, 0]\n",
    "===================="
   ]
  },
  {
   "cell_type": "code",
   "execution_count": 0,
   "metadata": {
    "autoscroll": "json-false",
    "collapsed": false,
    "ein.tags": [
     "worksheet-0"
    ]
   },
   "outputs": [],
   "source": [
    "make_readable(A_[1, 0])"
   ]
  },
  {
   "cell_type": "code",
   "execution_count": 0,
   "metadata": {
    "autoscroll": "json-false",
    "collapsed": false,
    "ein.tags": [
     "worksheet-0"
    ]
   },
   "outputs": [],
   "source": [
    "mlimit(A_[1, 0].subs(ut1, (1+t)*rt1/mu).subs(ut2, (1+t)*rt2/mu), t, 0)"
   ]
  },
  {
   "cell_type": "markdown",
   "metadata": {
    "ein.tags": [
     "worksheet-0"
    ]
   },
   "source": [
    "###### ====================\n",
    "A[1, 1]\n",
    "===================="
   ]
  },
  {
   "cell_type": "code",
   "execution_count": 0,
   "metadata": {
    "autoscroll": "json-false",
    "collapsed": false,
    "ein.tags": [
     "worksheet-0"
    ]
   },
   "outputs": [],
   "source": [
    "factor(make_readable(A_[1, 1]))"
   ]
  },
  {
   "cell_type": "code",
   "execution_count": 0,
   "metadata": {
    "autoscroll": "json-false",
    "collapsed": false,
    "ein.tags": [
     "worksheet-0"
    ]
   },
   "outputs": [],
   "source": [
    "make_readable(nsimp(limzero(A_[1, 1], [(ut1, t), (ut2, t)])))"
   ]
  },
  {
   "cell_type": "markdown",
   "metadata": {
    "ein.tags": [
     "worksheet-0"
    ]
   },
   "source": [
    "###### ====================\n",
    "A[1, 2]\n",
    "===================="
   ]
  },
  {
   "cell_type": "code",
   "execution_count": 0,
   "metadata": {
    "autoscroll": "json-false",
    "collapsed": false,
    "ein.tags": [
     "worksheet-0"
    ]
   },
   "outputs": [],
   "source": [
    "make_readable(A_[1, 2])"
   ]
  },
  {
   "cell_type": "code",
   "execution_count": 0,
   "metadata": {
    "autoscroll": "json-false",
    "collapsed": false,
    "ein.tags": [
     "worksheet-0"
    ]
   },
   "outputs": [],
   "source": [
    "make_readable(nsimp(limzero(A_[1,2],  [(ut1, t), (ut2, t)])))"
   ]
  },
  {
   "cell_type": "markdown",
   "metadata": {
    "ein.tags": [
     "worksheet-0"
    ]
   },
   "source": [
    "###### ====================\n",
    "A[2, 2]\n",
    "===================="
   ]
  },
  {
   "cell_type": "code",
   "execution_count": 0,
   "metadata": {
    "autoscroll": "json-false",
    "collapsed": false,
    "ein.tags": [
     "worksheet-0"
    ]
   },
   "outputs": [],
   "source": [
    "make_readable(limzero(A_[2, 2], [(ut1, 0), (ut2, t)]))"
   ]
  },
  {
   "cell_type": "code",
   "execution_count": 0,
   "metadata": {
    "autoscroll": "json-false",
    "collapsed": false,
    "ein.tags": [
     "worksheet-0"
    ]
   },
   "outputs": [],
   "source": [
    "nsimplify(1.4142135623730951)"
   ]
  }
 ],
 "metadata": {
  "kernelspec": {
   "display_name": "Python 2",
   "name": "python2"
  },
  "language_info": {
   "codemirror_mode": {
    "name": "ipython",
    "version": 2
   },
   "file_extension": ".py",
   "mimetype": "text/x-python",
   "name": "python",
   "nbconvert_exporter": "python",
   "pygments_lexer": "ipython2",
   "version": "2.7.6"
  },
  "name": "NM.ipynb"
 },
 "nbformat": 4,
 "nbformat_minor": 0
}
